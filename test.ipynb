{
 "cells": [
  {
   "cell_type": "code",
   "execution_count": 7,
   "id": "829a7f83-5d4b-454f-9bff-96bcc6135cc2",
   "metadata": {},
   "outputs": [],
   "source": [
    "import macti\n",
    "import numpy as np"
   ]
  },
  {
   "cell_type": "code",
   "execution_count": 14,
   "id": "1c48c1a1-8657-4000-b4eb-1ea8abecf35a",
   "metadata": {},
   "outputs": [
    {
     "data": {
      "image/png": "[encoded data removed]",
      "text/plain": [
       "<Figure size 512x384 with 4 Axes>"
      ]
     },
     "metadata": {},
     "output_type": "display_data"
    }
   ],
   "source": [
    "v = macti.vis.Plotter(2,2)\n",
    "v.set_coordsys()\n",
    "\n",
    "x = np.linspace(0, 2*np.pi, 100)\n",
    "y = np.sin(x)\n",
    "\n",
    "v.plot(1, x, y)\n",
    "v.show()"
   ]
  },
  {
   "cell_type": "code",
   "execution_count": 15,
   "id": "9252f904-081c-4a12-880b-4b80bf7cc03e",
   "metadata": {},
   "outputs": [],
   "source": [
    "a = np.array([1, 2, 3, 4])\n",
    "b = np.array([1, 2, 4, 3])"
   ]
  },
  {
   "cell_type": "code",
   "execution_count": 16,
   "id": "80920ec8-669f-44a7-b64b-e00e727eee16",
   "metadata": {},
   "outputs": [
    {
     "data": {
      "text/plain": [
       "False"
      ]
     },
     "execution_count": 16,
     "metadata": {},
     "output_type": "execute_result"
    }
   ],
   "source": [
    "np.array_equal(a, b)"
   ]
  },
  {
   "cell_type": "code",
   "execution_count": 17,
   "id": "99f8a22a-dbbb-4cbd-95eb-dcb9cb45b347",
   "metadata": {},
   "outputs": [
    {
     "data": {
      "text/plain": [
       "array([ True,  True, False, False])"
      ]
     },
     "execution_count": 17,
     "metadata": {},
     "output_type": "execute_result"
    }
   ],
   "source": [
    "a == b"
   ]
  },
  {
   "cell_type": "code",
   "execution_count": 23,
   "id": "ef9b737a-16aa-4888-9174-4659a97f7260",
   "metadata": {},
   "outputs": [
    {
     "data": {
      "text/plain": [
       "False"
      ]
     },
     "execution_count": 23,
     "metadata": {},
     "output_type": "execute_result"
    }
   ],
   "source": [
    "np.allclose(a, b)"
   ]
  },
  {
   "cell_type": "code",
   "execution_count": 24,
   "id": "99d5bd35-fbfc-4ba6-9912-356bd3586354",
   "metadata": {},
   "outputs": [
    {
     "data": {
      "text/plain": [
       "array([], dtype=int64)"
      ]
     },
     "execution_count": 24,
     "metadata": {},
     "output_type": "execute_result"
    }
   ],
   "source": [
    "np.setdiff1d(a, b)"
   ]
  },
  {
   "cell_type": "code",
   "execution_count": 25,
   "id": "272664b4-4f74-4fdd-b4a7-3f28948424b2",
   "metadata": {},
   "outputs": [
    {
     "ename": "AssertionError",
     "evalue": "\nArrays are not equal\n\nMismatched elements: 2 / 4 (50%)\nMax absolute difference among violations: 1\nMax relative difference among violations: 0.33333333\n ACTUAL: array([1, 2, 3, 4])\n DESIRED: array([1, 2, 4, 3])",
     "output_type": "error",
     "traceback": [
      "\u001b[0;31m---------------------------------------------------------------------------\u001b[0m",
      "\u001b[0;31mAssertionError\u001b[0m                            Traceback (most recent call last)",
      "Cell \u001b[0;32mIn[25], line 1\u001b[0m\n\u001b[0;32m----> 1\u001b[0m \u001b[43mnp\u001b[49m\u001b[38;5;241;43m.\u001b[39;49m\u001b[43mtesting\u001b[49m\u001b[38;5;241;43m.\u001b[39;49m\u001b[43massert_array_equal\u001b[49m\u001b[43m(\u001b[49m\u001b[43ma\u001b[49m\u001b[43m,\u001b[49m\u001b[43m \u001b[49m\u001b[43mb\u001b[49m\u001b[43m)\u001b[49m\n",
      "    \u001b[0;31m[... skipping hidden 2 frame]\u001b[0m\n",
      "File \u001b[0;32m~/Library/Python/3.12/lib/python/site-packages/numpy/testing/_private/utils.py:921\u001b[0m, in \u001b[0;36massert_array_compare\u001b[0;34m(comparison, x, y, err_msg, verbose, header, precision, equal_nan, equal_inf, strict, names)\u001b[0m\n\u001b[1;32m    916\u001b[0m         err_msg \u001b[38;5;241m+\u001b[39m\u001b[38;5;241m=\u001b[39m \u001b[38;5;124m'\u001b[39m\u001b[38;5;130;01m\\n\u001b[39;00m\u001b[38;5;124m'\u001b[39m \u001b[38;5;241m+\u001b[39m \u001b[38;5;124m'\u001b[39m\u001b[38;5;130;01m\\n\u001b[39;00m\u001b[38;5;124m'\u001b[39m\u001b[38;5;241m.\u001b[39mjoin(remarks)\n\u001b[1;32m    917\u001b[0m         msg \u001b[38;5;241m=\u001b[39m build_err_msg([ox, oy], err_msg,\n\u001b[1;32m    918\u001b[0m                             verbose\u001b[38;5;241m=\u001b[39mverbose, header\u001b[38;5;241m=\u001b[39mheader,\n\u001b[1;32m    919\u001b[0m                             names\u001b[38;5;241m=\u001b[39mnames,\n\u001b[1;32m    920\u001b[0m                             precision\u001b[38;5;241m=\u001b[39mprecision)\n\u001b[0;32m--> 921\u001b[0m         \u001b[38;5;28;01mraise\u001b[39;00m \u001b[38;5;167;01mAssertionError\u001b[39;00m(msg)\n\u001b[1;32m    922\u001b[0m \u001b[38;5;28;01mexcept\u001b[39;00m \u001b[38;5;167;01mValueError\u001b[39;00m:\n\u001b[1;32m    923\u001b[0m     \u001b[38;5;28;01mimport\u001b[39;00m \u001b[38;5;21;01mtraceback\u001b[39;00m\n",
      "\u001b[0;31mAssertionError\u001b[0m: \nArrays are not equal\n\nMismatched elements: 2 / 4 (50%)\nMax absolute difference among violations: 1\nMax relative difference among violations: 0.33333333\n ACTUAL: array([1, 2, 3, 4])\n DESIRED: array([1, 2, 4, 3])"
     ]
    }
   ],
   "source": [
    "np.testing.assert_array_equal(a, b)"
   ]
  },
  {
   "cell_type": "code",
   "execution_count": 26,
   "id": "e1c505f7-18d6-464f-9074-64f1439f136d",
   "metadata": {},
   "outputs": [
    {
     "data": {
      "text/plain": [
       "array([0.        , 0.06346652, 0.12693304, 0.19039955, 0.25386607,\n",
       "       0.31733259, 0.38079911, 0.44426563, 0.50773215, 0.57119866,\n",
       "       0.63466518, 0.6981317 , 0.76159822, 0.82506474, 0.88853126,\n",
       "       0.95199777, 1.01546429, 1.07893081, 1.14239733, 1.20586385,\n",
       "       1.26933037, 1.33279688, 1.3962634 , 1.45972992, 1.52319644,\n",
       "       1.58666296, 1.65012947, 1.71359599, 1.77706251, 1.84052903,\n",
       "       1.90399555, 1.96746207, 2.03092858, 2.0943951 , 2.15786162,\n",
       "       2.22132814, 2.28479466, 2.34826118, 2.41172769, 2.47519421,\n",
       "       2.53866073, 2.60212725, 2.66559377, 2.72906028, 2.7925268 ,\n",
       "       2.85599332, 2.91945984, 2.98292636, 3.04639288, 3.10985939,\n",
       "       3.17332591, 3.23679243, 3.30025895, 3.36372547, 3.42719199,\n",
       "       3.4906585 , 3.55412502, 3.61759154, 3.68105806, 3.74452458,\n",
       "       3.8079911 , 3.87145761, 3.93492413, 3.99839065, 4.06185717,\n",
       "       4.12532369, 4.1887902 , 4.25225672, 4.31572324, 4.37918976,\n",
       "       4.44265628, 4.5061228 , 4.56958931, 4.63305583, 4.69652235,\n",
       "       4.75998887, 4.82345539, 4.88692191, 4.95038842, 5.01385494,\n",
       "       5.07732146, 5.14078798, 5.2042545 , 5.26772102, 5.33118753,\n",
       "       5.39465405, 5.45812057, 5.52158709, 5.58505361, 5.64852012,\n",
       "       5.71198664, 5.77545316, 5.83891968, 5.9023862 , 5.96585272,\n",
       "       6.02931923, 6.09278575, 6.15625227, 6.21971879, 6.28318531])"
      ]
     },
     "execution_count": 26,
     "metadata": {},
     "output_type": "execute_result"
    }
   ],
   "source": [
    "x"
   ]
  },
  {
   "cell_type": "code",
   "execution_count": 27,
   "id": "bbd7eca6-094c-4db1-9bb3-0b018ac5111c",
   "metadata": {},
   "outputs": [],
   "source": [
    "y = x.copy()"
   ]
  },
  {
   "cell_type": "code",
   "execution_count": 30,
   "id": "6a78a182-b729-434c-8760-d905e9e9f381",
   "metadata": {},
   "outputs": [],
   "source": [
    "y[1] = 0.06356652"
   ]
  },
  {
   "cell_type": "code",
   "execution_count": 38,
   "id": "6a8896e5-27a0-41fd-9c52-33c007d91834",
   "metadata": {},
   "outputs": [],
   "source": [
    "diferencia = x == y"
   ]
  },
  {
   "cell_type": "code",
   "execution_count": 39,
   "id": "aa885cd4-be73-4f1a-982d-bbfb8bc64edf",
   "metadata": {},
   "outputs": [
    {
     "name": "stdout",
     "output_type": "stream",
     "text": [
      "1\n"
     ]
    }
   ],
   "source": [
    "for id, i in enumerate(diferencia):\n",
    "    if not i:\n",
    "        print(id)"
   ]
  },
  {
   "cell_type": "code",
   "execution_count": 40,
   "id": "59b0e763-b39c-43e5-94e1-8a367ee10e81",
   "metadata": {},
   "outputs": [
    {
     "name": "stdout",
     "output_type": "stream",
     "text": [
      "0.06346651825433926 0.06356652\n"
     ]
    }
   ],
   "source": [
    "print(x[1], y[1])"
   ]
  },
  {
   "cell_type": "code",
   "execution_count": 33,
   "id": "7b15135f-1475-4f3f-adbf-05c5ab05204d",
   "metadata": {},
   "outputs": [
    {
     "ename": "AssertionError",
     "evalue": "\nArrays are not equal\n\nMismatched elements: 1 / 100 (1%)\nMax absolute difference among violations: 0.0001\nMax relative difference among violations: 0.00157318\n ACTUAL: array([0.      , 0.063467, 0.126933, 0.1904  , 0.253866, 0.317333,\n       0.380799, 0.444266, 0.507732, 0.571199, 0.634665, 0.698132,\n       0.761598, 0.825065, 0.888531, 0.951998, 1.015464, 1.078931,...\n DESIRED: array([0.      , 0.063567, 0.126933, 0.1904  , 0.253866, 0.317333,\n       0.380799, 0.444266, 0.507732, 0.571199, 0.634665, 0.698132,\n       0.761598, 0.825065, 0.888531, 0.951998, 1.015464, 1.078931,...",
     "output_type": "error",
     "traceback": [
      "\u001b[0;31m---------------------------------------------------------------------------\u001b[0m",
      "\u001b[0;31mAssertionError\u001b[0m                            Traceback (most recent call last)",
      "Cell \u001b[0;32mIn[33], line 1\u001b[0m\n\u001b[0;32m----> 1\u001b[0m \u001b[43mnp\u001b[49m\u001b[38;5;241;43m.\u001b[39;49m\u001b[43mtesting\u001b[49m\u001b[38;5;241;43m.\u001b[39;49m\u001b[43massert_array_equal\u001b[49m\u001b[43m(\u001b[49m\u001b[43mx\u001b[49m\u001b[43m,\u001b[49m\u001b[43m \u001b[49m\u001b[43my\u001b[49m\u001b[43m)\u001b[49m\n",
      "    \u001b[0;31m[... skipping hidden 2 frame]\u001b[0m\n",
      "File \u001b[0;32m~/Library/Python/3.12/lib/python/site-packages/numpy/testing/_private/utils.py:921\u001b[0m, in \u001b[0;36massert_array_compare\u001b[0;34m(comparison, x, y, err_msg, verbose, header, precision, equal_nan, equal_inf, strict, names)\u001b[0m\n\u001b[1;32m    916\u001b[0m         err_msg \u001b[38;5;241m+\u001b[39m\u001b[38;5;241m=\u001b[39m \u001b[38;5;124m'\u001b[39m\u001b[38;5;130;01m\\n\u001b[39;00m\u001b[38;5;124m'\u001b[39m \u001b[38;5;241m+\u001b[39m \u001b[38;5;124m'\u001b[39m\u001b[38;5;130;01m\\n\u001b[39;00m\u001b[38;5;124m'\u001b[39m\u001b[38;5;241m.\u001b[39mjoin(remarks)\n\u001b[1;32m    917\u001b[0m         msg \u001b[38;5;241m=\u001b[39m build_err_msg([ox, oy], err_msg,\n\u001b[1;32m    918\u001b[0m                             verbose\u001b[38;5;241m=\u001b[39mverbose, header\u001b[38;5;241m=\u001b[39mheader,\n\u001b[1;32m    919\u001b[0m                             names\u001b[38;5;241m=\u001b[39mnames,\n\u001b[1;32m    920\u001b[0m                             precision\u001b[38;5;241m=\u001b[39mprecision)\n\u001b[0;32m--> 921\u001b[0m         \u001b[38;5;28;01mraise\u001b[39;00m \u001b[38;5;167;01mAssertionError\u001b[39;00m(msg)\n\u001b[1;32m    922\u001b[0m \u001b[38;5;28;01mexcept\u001b[39;00m \u001b[38;5;167;01mValueError\u001b[39;00m:\n\u001b[1;32m    923\u001b[0m     \u001b[38;5;28;01mimport\u001b[39;00m \u001b[38;5;21;01mtraceback\u001b[39;00m\n",
      "\u001b[0;31mAssertionError\u001b[0m: \nArrays are not equal\n\nMismatched elements: 1 / 100 (1%)\nMax absolute difference among violations: 0.0001\nMax relative difference among violations: 0.00157318\n ACTUAL: array([0.      , 0.063467, 0.126933, 0.1904  , 0.253866, 0.317333,\n       0.380799, 0.444266, 0.507732, 0.571199, 0.634665, 0.698132,\n       0.761598, 0.825065, 0.888531, 0.951998, 1.015464, 1.078931,...\n DESIRED: array([0.      , 0.063567, 0.126933, 0.1904  , 0.253866, 0.317333,\n       0.380799, 0.444266, 0.507732, 0.571199, 0.634665, 0.698132,\n       0.761598, 0.825065, 0.888531, 0.951998, 1.015464, 1.078931,..."
     ]
    }
   ],
   "source": [
    "np.testing.assert_array_equal(x, y)"
   ]
  },
  {
   "cell_type": "code",
   "execution_count": 45,
   "id": "809e3c65-1399-4823-bef8-56b99005d08b",
   "metadata": {},
   "outputs": [
    {
     "ename": "AssertionError",
     "evalue": "\nArrays are not almost equal to 5 decimals\n\nMismatched elements: 1 / 100 (1%)\nMax absolute difference among violations: 0.0001\nMax relative difference among violations: 0.00157318\n ACTUAL: array([0.     , 0.06347, 0.12693, 0.1904 , 0.25387, 0.31733, 0.3808 ,\n       0.44427, 0.50773, 0.5712 , 0.63467, 0.69813, 0.7616 , 0.82506,\n       0.88853, 0.952  , 1.01546, 1.07893, 1.1424 , 1.20586, 1.26933,...\n DESIRED: array([0.     , 0.06357, 0.12693, 0.1904 , 0.25387, 0.31733, 0.3808 ,\n       0.44427, 0.50773, 0.5712 , 0.63467, 0.69813, 0.7616 , 0.82506,\n       0.88853, 0.952  , 1.01546, 1.07893, 1.1424 , 1.20586, 1.26933,...",
     "output_type": "error",
     "traceback": [
      "\u001b[0;31m---------------------------------------------------------------------------\u001b[0m",
      "\u001b[0;31mAssertionError\u001b[0m                            Traceback (most recent call last)",
      "Cell \u001b[0;32mIn[45], line 1\u001b[0m\n\u001b[0;32m----> 1\u001b[0m \u001b[43mnp\u001b[49m\u001b[38;5;241;43m.\u001b[39;49m\u001b[43mtesting\u001b[49m\u001b[38;5;241;43m.\u001b[39;49m\u001b[43massert_almost_equal\u001b[49m\u001b[43m(\u001b[49m\u001b[43mx\u001b[49m\u001b[43m,\u001b[49m\u001b[43m \u001b[49m\u001b[43my\u001b[49m\u001b[43m,\u001b[49m\u001b[43m \u001b[49m\u001b[43mdecimal\u001b[49m\u001b[38;5;241;43m=\u001b[39;49m\u001b[38;5;241;43m5\u001b[39;49m\u001b[43m)\u001b[49m\n",
      "    \u001b[0;31m[... skipping hidden 3 frame]\u001b[0m\n",
      "File \u001b[0;32m~/Library/Python/3.12/lib/python/site-packages/numpy/testing/_private/utils.py:921\u001b[0m, in \u001b[0;36massert_array_compare\u001b[0;34m(comparison, x, y, err_msg, verbose, header, precision, equal_nan, equal_inf, strict, names)\u001b[0m\n\u001b[1;32m    916\u001b[0m         err_msg \u001b[38;5;241m+\u001b[39m\u001b[38;5;241m=\u001b[39m \u001b[38;5;124m'\u001b[39m\u001b[38;5;130;01m\\n\u001b[39;00m\u001b[38;5;124m'\u001b[39m \u001b[38;5;241m+\u001b[39m \u001b[38;5;124m'\u001b[39m\u001b[38;5;130;01m\\n\u001b[39;00m\u001b[38;5;124m'\u001b[39m\u001b[38;5;241m.\u001b[39mjoin(remarks)\n\u001b[1;32m    917\u001b[0m         msg \u001b[38;5;241m=\u001b[39m build_err_msg([ox, oy], err_msg,\n\u001b[1;32m    918\u001b[0m                             verbose\u001b[38;5;241m=\u001b[39mverbose, header\u001b[38;5;241m=\u001b[39mheader,\n\u001b[1;32m    919\u001b[0m                             names\u001b[38;5;241m=\u001b[39mnames,\n\u001b[1;32m    920\u001b[0m                             precision\u001b[38;5;241m=\u001b[39mprecision)\n\u001b[0;32m--> 921\u001b[0m         \u001b[38;5;28;01mraise\u001b[39;00m \u001b[38;5;167;01mAssertionError\u001b[39;00m(msg)\n\u001b[1;32m    922\u001b[0m \u001b[38;5;28;01mexcept\u001b[39;00m \u001b[38;5;167;01mValueError\u001b[39;00m:\n\u001b[1;32m    923\u001b[0m     \u001b[38;5;28;01mimport\u001b[39;00m \u001b[38;5;21;01mtraceback\u001b[39;00m\n",
      "\u001b[0;31mAssertionError\u001b[0m: \nArrays are not almost equal to 5 decimals\n\nMismatched elements: 1 / 100 (1%)\nMax absolute difference among violations: 0.0001\nMax relative difference among violations: 0.00157318\n ACTUAL: array([0.     , 0.06347, 0.12693, 0.1904 , 0.25387, 0.31733, 0.3808 ,\n       0.44427, 0.50773, 0.5712 , 0.63467, 0.69813, 0.7616 , 0.82506,\n       0.88853, 0.952  , 1.01546, 1.07893, 1.1424 , 1.20586, 1.26933,...\n DESIRED: array([0.     , 0.06357, 0.12693, 0.1904 , 0.25387, 0.31733, 0.3808 ,\n       0.44427, 0.50773, 0.5712 , 0.63467, 0.69813, 0.7616 , 0.82506,\n       0.88853, 0.952  , 1.01546, 1.07893, 1.1424 , 1.20586, 1.26933,..."
     ]
    }
   ],
   "source": [
    "np.testing.assert_almost_equal(x, y, decimal=5)"
   ]
  },
  {
   "cell_type": "code",
   "execution_count": 62,
   "id": "14994fe6-16e4-4cf3-8091-e8cee1dfaef2",
   "metadata": {},
   "outputs": [
    {
     "ename": "TypeError",
     "evalue": "'int' object is not callable",
     "output_type": "error",
     "traceback": [
      "\u001b[0;31m---------------------------------------------------------------------------\u001b[0m",
      "\u001b[0;31mTypeError\u001b[0m                                 Traceback (most recent call last)",
      "Cell \u001b[0;32mIn[62], line 1\u001b[0m\n\u001b[0;32m----> 1\u001b[0m \u001b[43mnp\u001b[49m\u001b[38;5;241;43m.\u001b[39;49m\u001b[43mtesting\u001b[49m\u001b[38;5;241;43m.\u001b[39;49m\u001b[43massert_array_compare\u001b[49m\u001b[43m(\u001b[49m\u001b[38;5;241;43m1\u001b[39;49m\u001b[43m,\u001b[49m\u001b[43m \u001b[49m\u001b[43mx\u001b[49m\u001b[43m,\u001b[49m\u001b[43m \u001b[49m\u001b[43my\u001b[49m\u001b[43m)\u001b[49m\u001b[38;5;66;03m#, err_msg=\"Heelo\")\u001b[39;00m\n",
      "File \u001b[0;32m~/Library/Python/3.12/lib/python/site-packages/numpy/testing/_private/utils.py:851\u001b[0m, in \u001b[0;36massert_array_compare\u001b[0;34m(comparison, x, y, err_msg, verbose, header, precision, equal_nan, equal_inf, strict, names)\u001b[0m\n\u001b[1;32m    847\u001b[0m \u001b[38;5;28;01melif\u001b[39;00m flagged:\n\u001b[1;32m    848\u001b[0m     \u001b[38;5;66;03m# no sense doing comparison if everything is flagged.\u001b[39;00m\n\u001b[1;32m    849\u001b[0m     \u001b[38;5;28;01mreturn\u001b[39;00m\n\u001b[0;32m--> 851\u001b[0m val \u001b[38;5;241m=\u001b[39m \u001b[43mcomparison\u001b[49m\u001b[43m(\u001b[49m\u001b[43mx\u001b[49m\u001b[43m,\u001b[49m\u001b[43m \u001b[49m\u001b[43my\u001b[49m\u001b[43m)\u001b[49m\n\u001b[1;32m    852\u001b[0m invalids \u001b[38;5;241m=\u001b[39m np\u001b[38;5;241m.\u001b[39mlogical_not(val)\n\u001b[1;32m    854\u001b[0m \u001b[38;5;28;01mif\u001b[39;00m \u001b[38;5;28misinstance\u001b[39m(val, \u001b[38;5;28mbool\u001b[39m):\n",
      "\u001b[0;31mTypeError\u001b[0m: 'int' object is not callable"
     ]
    }
   ],
   "source": [
    "np.testing.assert_array_co(1, x, y)#, err_msg=\"Heelo\")"
   ]
  },
  {
   "cell_type": "code",
   "execution_count": 71,
   "id": "3a9dbf40-20ef-4375-9543-5787a391e164",
   "metadata": {},
   "outputs": [],
   "source": [
    "a = ['a', 'b', 'd']\n",
    "b = ['a', 'b', 'c']"
   ]
  },
  {
   "cell_type": "code",
   "execution_count": 72,
   "id": "039f4b11-3aa7-4463-a581-c5fff3c1174a",
   "metadata": {},
   "outputs": [
    {
     "ename": "AssertionError",
     "evalue": "\nItems are not equal:\nitem=2\n\n ACTUAL: 'd'\n DESIRED: 'c'",
     "output_type": "error",
     "traceback": [
      "\u001b[0;31m---------------------------------------------------------------------------\u001b[0m",
      "\u001b[0;31mAssertionError\u001b[0m                            Traceback (most recent call last)",
      "Cell \u001b[0;32mIn[72], line 1\u001b[0m\n\u001b[0;32m----> 1\u001b[0m \u001b[43mnp\u001b[49m\u001b[38;5;241;43m.\u001b[39;49m\u001b[43mtesting\u001b[49m\u001b[38;5;241;43m.\u001b[39;49m\u001b[43massert_equal\u001b[49m\u001b[43m(\u001b[49m\u001b[43ma\u001b[49m\u001b[43m,\u001b[49m\u001b[43m \u001b[49m\u001b[43mb\u001b[49m\u001b[43m)\u001b[49m\n",
      "    \u001b[0;31m[... skipping hidden 1 frame]\u001b[0m\n",
      "File \u001b[0;32m~/Library/Python/3.12/lib/python/site-packages/numpy/testing/_private/utils.py:453\u001b[0m, in \u001b[0;36massert_equal\u001b[0;34m(actual, desired, err_msg, verbose, strict)\u001b[0m\n\u001b[1;32m    450\u001b[0m \u001b[38;5;28;01mtry\u001b[39;00m:\n\u001b[1;32m    451\u001b[0m     \u001b[38;5;66;03m# Explicitly use __eq__ for comparison, gh-2552\u001b[39;00m\n\u001b[1;32m    452\u001b[0m     \u001b[38;5;28;01mif\u001b[39;00m \u001b[38;5;129;01mnot\u001b[39;00m (desired \u001b[38;5;241m==\u001b[39m actual):\n\u001b[0;32m--> 453\u001b[0m         \u001b[38;5;28;01mraise\u001b[39;00m \u001b[38;5;167;01mAssertionError\u001b[39;00m(msg)\n\u001b[1;32m    455\u001b[0m \u001b[38;5;28;01mexcept\u001b[39;00m (\u001b[38;5;167;01mDeprecationWarning\u001b[39;00m, \u001b[38;5;167;01mFutureWarning\u001b[39;00m) \u001b[38;5;28;01mas\u001b[39;00m e:\n\u001b[1;32m    456\u001b[0m     \u001b[38;5;66;03m# this handles the case when the two types are not even comparable\u001b[39;00m\n\u001b[1;32m    457\u001b[0m     \u001b[38;5;28;01mif\u001b[39;00m \u001b[38;5;124m'\u001b[39m\u001b[38;5;124melementwise == comparison\u001b[39m\u001b[38;5;124m'\u001b[39m \u001b[38;5;129;01min\u001b[39;00m e\u001b[38;5;241m.\u001b[39margs[\u001b[38;5;241m0\u001b[39m]:\n",
      "\u001b[0;31mAssertionError\u001b[0m: \nItems are not equal:\nitem=2\n\n ACTUAL: 'd'\n DESIRED: 'c'"
     ]
    }
   ],
   "source": [
    "np.testing.assert_equal(a, b)"
   ]
  },
  {
   "cell_type": "code",
   "execution_count": 77,
   "id": "1504e010-ccd7-4082-a8d3-e6dc97621ca2",
   "metadata": {},
   "outputs": [],
   "source": [
    "ad = {'a':1, 'b':2, 'c':4}\n",
    "bd = {'a':1, 'd':2, 'c':4}"
   ]
  },
  {
   "cell_type": "code",
   "execution_count": 78,
   "id": "1afe73dd-c006-4aac-be20-6523159ae4a8",
   "metadata": {},
   "outputs": [
    {
     "ename": "AssertionError",
     "evalue": "'d'",
     "output_type": "error",
     "traceback": [
      "\u001b[0;31m---------------------------------------------------------------------------\u001b[0m",
      "\u001b[0;31mAssertionError\u001b[0m                            Traceback (most recent call last)",
      "Cell \u001b[0;32mIn[78], line 1\u001b[0m\n\u001b[0;32m----> 1\u001b[0m \u001b[43mnp\u001b[49m\u001b[38;5;241;43m.\u001b[39;49m\u001b[43mtesting\u001b[49m\u001b[38;5;241;43m.\u001b[39;49m\u001b[43massert_equal\u001b[49m\u001b[43m(\u001b[49m\u001b[43mad\u001b[49m\u001b[43m,\u001b[49m\u001b[43m \u001b[49m\u001b[43mbd\u001b[49m\u001b[43m)\u001b[49m\n",
      "File \u001b[0;32m~/Library/Python/3.12/lib/python/site-packages/numpy/testing/_private/utils.py:359\u001b[0m, in \u001b[0;36massert_equal\u001b[0;34m(actual, desired, err_msg, verbose, strict)\u001b[0m\n\u001b[1;32m    357\u001b[0m \u001b[38;5;28;01mfor\u001b[39;00m k, i \u001b[38;5;129;01min\u001b[39;00m desired\u001b[38;5;241m.\u001b[39mitems():\n\u001b[1;32m    358\u001b[0m     \u001b[38;5;28;01mif\u001b[39;00m k \u001b[38;5;129;01mnot\u001b[39;00m \u001b[38;5;129;01min\u001b[39;00m actual:\n\u001b[0;32m--> 359\u001b[0m         \u001b[38;5;28;01mraise\u001b[39;00m \u001b[38;5;167;01mAssertionError\u001b[39;00m(\u001b[38;5;28mrepr\u001b[39m(k))\n\u001b[1;32m    360\u001b[0m     assert_equal(actual[k], desired[k], \u001b[38;5;124mf\u001b[39m\u001b[38;5;124m'\u001b[39m\u001b[38;5;124mkey=\u001b[39m\u001b[38;5;132;01m{\u001b[39;00mk\u001b[38;5;132;01m!r}\u001b[39;00m\u001b[38;5;130;01m\\n\u001b[39;00m\u001b[38;5;132;01m{\u001b[39;00merr_msg\u001b[38;5;132;01m}\u001b[39;00m\u001b[38;5;124m'\u001b[39m,\n\u001b[1;32m    361\u001b[0m                  verbose)\n\u001b[1;32m    362\u001b[0m \u001b[38;5;28;01mreturn\u001b[39;00m\n",
      "\u001b[0;31mAssertionError\u001b[0m: 'd'"
     ]
    }
   ],
   "source": [
    "np.testing.assert_equal(ad, bd)"
   ]
  },
  {
   "cell_type": "code",
   "execution_count": 8,
   "id": "75a5d77d-5d46-404b-82f7-c90decfba082",
   "metadata": {},
   "outputs": [
    {
     "name": "stdout",
     "output_type": "stream",
     "text": [
      "Windows \\\n",
      "folder_name\\file_name\n"
     ]
    },
    {
     "data": {
      "text/plain": [
       "'C:\\\\Users\\\\luiggi\\\\Documents\\\\GitSites\\\\TEMPORAL\\\\macti_lib'"
      ]
     },
     "execution_count": 8,
     "metadata": {},
     "output_type": "execute_result"
    }
   ],
   "source": [
    "import os, sys, platform\n",
    "print(platform.system(), os.sep)\n",
    "path = os.path.join('folder_name', 'file_name')\n",
    "print(path)\n",
    "os.path.abspath(\".\")"
   ]
  },
  {
   "cell_type": "code",
   "execution_count": 7,
   "id": "7da296c4-af57-4060-a0f5-2b3fee43d358",
   "metadata": {},
   "outputs": [
    {
     "data": {
      "text/plain": [
       "'C:\\\\Users\\\\luiggi\\\\Documents\\\\GitSites\\\\TEMPORAL\\\\macti_lib'"
      ]
     },
     "execution_count": 7,
     "metadata": {},
     "output_type": "execute_result"
    }
   ],
   "source": [
    "os.path.abspath(\".\")"
   ]
  },
  {
   "cell_type": "code",
   "execution_count": 10,
   "id": "0781f83b-477a-47e8-ae3b-da6f73f77ae2",
   "metadata": {},
   "outputs": [
    {
     "data": {
      "text/plain": [
       "('C:\\\\Users\\\\luiggi\\\\Documents\\\\GitSites\\\\TEMPORAL', 'macti_lib')"
      ]
     },
     "execution_count": 10,
     "metadata": {},
     "output_type": "execute_result"
    }
   ],
   "source": [
    "os.path.split(os.getcwd())"
   ]
  },
  {
   "cell_type": "code",
   "execution_count": 36,
   "id": "416064ac-8e7b-407f-a2b4-26f5bbf132e0",
   "metadata": {},
   "outputs": [
    {
     "name": "stdout",
     "output_type": "stream",
     "text": [
      "C:\\Users\\luiggi\\Documents\\GitSites\\TEMPORAL\\macti_lib\n",
      "TEMPORAL\\\n",
      "macti_lib\\\n",
      "C:\\Users\\luiggi\\Documents\\GitSites\\TEMPORAL\\\n",
      "macti_lib\\\n"
     ]
    }
   ],
   "source": [
    "px = os.getcwd()\n",
    "cx = px.split(os.sep)[-2] + os.sep # curso\n",
    "tx = px.split(os.sep)[-1] + os.sep # tema\n",
    "\n",
    "print(px)\n",
    "print(cx)\n",
    "print(tx)\n",
    "\n",
    "cp, txx = os.path.split(os.getcwd())\n",
    "print(cp + os.sep)\n",
    "print(txx + os.sep)"
   ]
  },
  {
   "cell_type": "code",
   "execution_count": 37,
   "id": "95a0249d-0286-4376-ab75-62d294ea7be4",
   "metadata": {},
   "outputs": [
    {
     "name": "stdout",
     "output_type": "stream",
     "text": [
      "C:\\Users\\luiggi\\Documents\\GitSites\\TEMPORAL\\\n",
      "macti_lib\\\n"
     ]
    }
   ],
   "source": [
    "cp, txx = os.path.split(os.getcwd())\n",
    "print(cp + os.sep)\n",
    "print(txx + os.sep)\n"
   ]
  },
  {
   "cell_type": "code",
   "execution_count": null,
   "id": "9a48519c-16b3-4df2-8392-ff384e7e0527",
   "metadata": {},
   "outputs": [],
   "source": []
  }
 ],
 "metadata": {
  "kernelspec": {
   "display_name": "Python 3 (ipykernel)",
   "language": "python",
   "name": "python3"
  },
  "language_info": {
   "codemirror_mode": {
    "name": "ipython",
    "version": 3
   },
   "file_extension": ".py",
   "mimetype": "text/x-python",
   "name": "python",
   "nbconvert_exporter": "python",
   "pygments_lexer": "ipython3",
   "version": "3.13.2"
  }
 },
 "nbformat": 4,
 "nbformat_minor": 5
}
