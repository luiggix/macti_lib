{
 "cells": [
  {
   "cell_type": "code",
   "execution_count": 5,
   "id": "9252f904-081c-4a12-880b-4b80bf7cc03e",
   "metadata": {},
   "outputs": [],
   "source": [
    "import numpy as np"
   ]
  },
  {
   "cell_type": "code",
   "execution_count": 42,
   "id": "b3d30aba-0c43-4476-8caa-60e625f86fe7",
   "metadata": {},
   "outputs": [],
   "source": [
    "def test_dict(ans, enum):\n",
    "    dict_len = len(ans)\n",
    "    keys = np.array(list(ans.keys()))#.flatten()\n",
    "    enum_l = enum + \"_len\"\n",
    "    enum_k = enum + \"_key\"\n",
    "    print(enum_l, dict_len)\n",
    "    print(enum_k, keys)\n",
    "    \n",
    "    for i, v in enumerate(ans.values()):\n",
    "        enum_v = enum + \"_val_\" + str(i)\n",
    "        print(enum_v, v)"
   ]
  },
  {
   "cell_type": "code",
   "execution_count": 46,
   "id": "cedc13cf-9199-45d2-be3d-13aa87450df7",
   "metadata": {},
   "outputs": [
    {
     "name": "stdout",
     "output_type": "stream",
     "text": [
      "{1: 3.446, 2: 5.6423, 3: 2.234324} 3\n",
      "{1: [3.446, 34.3132213, 3.566], 2: [5.6423, 6.7564], 3: [2.234324, 5.65645]} 3\n",
      "q1_len 3\n",
      "q1_key [1 2 3]\n",
      "q1_val_0 3.446\n",
      "q1_val_1 5.6423\n",
      "q1_val_2 2.234324\n",
      "q2_len 3\n",
      "q2_key [1 2 3]\n",
      "q2_val_0 [3.446, 34.3132213, 3.566]\n",
      "q2_val_1 [5.6423, 6.7564]\n",
      "q2_val_2 [2.234324, 5.65645]\n"
     ]
    }
   ],
   "source": [
    "diccionario_num = {1:3.446, 2:5.6423, 3:2.234324}\n",
    "diccionario_num_list = {1:[3.446,34.3132213, 3.566], 2:[5.6423, 6.7564], 3:[2.234324, 5.65645]}\n",
    "\n",
    "print(diccionario_num, len(diccionario_num))\n",
    "print(diccionario_num_list, len(diccionario_num_list))\n",
    "\n",
    "test_dict(diccionario_num, 'q1')\n",
    "test_dict(diccionario_num_list, 'q2')"
   ]
  },
  {
   "cell_type": "code",
   "execution_count": 52,
   "id": "5086d180-a84f-4684-ac13-617072b0775f",
   "metadata": {},
   "outputs": [
    {
     "name": "stdout",
     "output_type": "stream",
     "text": [
      "140729796589472 140729796589472\n",
      "5_k 5\n",
      "2087240736592 140729796589472\n",
      "5_v 5\n",
      "2087240740480 140729796589472\n"
     ]
    }
   ],
   "source": [
    "enum = '5'\n",
    "enum_dict = enum\n",
    "print(id(enum), id(enum_dict))\n",
    "enum += \"_k\"\n",
    "print(enum, enum_dict)\n",
    "print(id(enum), id(enum_dict))\n",
    "enum = enum_dict\n",
    "enum += \"_v\"\n",
    "print(enum, enum_dict)\n",
    "print(id(enum), id(enum_dict))"
   ]
  },
  {
   "cell_type": "code",
   "execution_count": 58,
   "id": "c51b8c7d-0abf-4aa7-a78d-a1709703947a",
   "metadata": {},
   "outputs": [
    {
     "ename": "AssertionError",
     "evalue": "\nNot equal to tolerance rtol=1e-07, atol=0\nHola\n(shapes (3,), (2,) mismatch)\n ACTUAL: array([1, 2, 3])\n DESIRED: array([1, 2])",
     "output_type": "error",
     "traceback": [
      "\u001b[31m---------------------------------------------------------------------------\u001b[39m",
      "\u001b[31mAssertionError\u001b[39m                            Traceback (most recent call last)",
      "\u001b[36mCell\u001b[39m\u001b[36m \u001b[39m\u001b[32mIn[58]\u001b[39m\u001b[32m, line 4\u001b[39m\n\u001b[32m      2\u001b[39m b = np.array([\u001b[32m1\u001b[39m,\u001b[32m2\u001b[39m])\n\u001b[32m      3\u001b[39m msg = \u001b[33m\"\u001b[39m\u001b[33mHola\u001b[39m\u001b[33m\"\u001b[39m\n\u001b[32m----> \u001b[39m\u001b[32m4\u001b[39m dummy = \u001b[43mnp\u001b[49m\u001b[43m.\u001b[49m\u001b[43mtesting\u001b[49m\u001b[43m.\u001b[49m\u001b[43massert_allclose\u001b[49m\u001b[43m(\u001b[49m\u001b[43ma\u001b[49m\u001b[43m,\u001b[49m\u001b[43m \u001b[49m\u001b[43mb\u001b[49m\u001b[43m,\u001b[49m\u001b[43m \u001b[49m\u001b[43merr_msg\u001b[49m\u001b[43m=\u001b[49m\u001b[43mmsg\u001b[49m\u001b[43m)\u001b[49m\n",
      "    \u001b[31m[... skipping hidden 1 frame]\u001b[39m\n",
      "\u001b[36mFile \u001b[39m\u001b[32m~\\AppData\\Local\\Programs\\Python\\Python313\\Lib\\site-packages\\numpy\\testing\\_private\\utils.py:807\u001b[39m, in \u001b[36massert_array_compare\u001b[39m\u001b[34m(comparison, x, y, err_msg, verbose, header, precision, equal_nan, equal_inf, strict, names)\u001b[39m\n\u001b[32m    800\u001b[39m         reason = \u001b[33mf\u001b[39m\u001b[33m'\u001b[39m\u001b[38;5;130;01m\\n\u001b[39;00m\u001b[33m(dtypes \u001b[39m\u001b[38;5;132;01m{\u001b[39;00mx.dtype\u001b[38;5;132;01m}\u001b[39;00m\u001b[33m, \u001b[39m\u001b[38;5;132;01m{\u001b[39;00my.dtype\u001b[38;5;132;01m}\u001b[39;00m\u001b[33m mismatch)\u001b[39m\u001b[33m'\u001b[39m\n\u001b[32m    801\u001b[39m     msg = build_err_msg([x, y],\n\u001b[32m    802\u001b[39m                         err_msg\n\u001b[32m    803\u001b[39m                         + reason,\n\u001b[32m    804\u001b[39m                         verbose=verbose, header=header,\n\u001b[32m    805\u001b[39m                         names=names,\n\u001b[32m    806\u001b[39m                         precision=precision)\n\u001b[32m--> \u001b[39m\u001b[32m807\u001b[39m     \u001b[38;5;28;01mraise\u001b[39;00m \u001b[38;5;167;01mAssertionError\u001b[39;00m(msg)\n\u001b[32m    809\u001b[39m flagged = np.bool(\u001b[38;5;28;01mFalse\u001b[39;00m)\n\u001b[32m    810\u001b[39m \u001b[38;5;28;01mif\u001b[39;00m isnumber(x) \u001b[38;5;129;01mand\u001b[39;00m isnumber(y):\n",
      "\u001b[31mAssertionError\u001b[39m: \nNot equal to tolerance rtol=1e-07, atol=0\nHola\n(shapes (3,), (2,) mismatch)\n ACTUAL: array([1, 2, 3])\n DESIRED: array([1, 2])"
     ]
    }
   ],
   "source": [
    "a = np.array([1,2,3])\n",
    "b = np.array([1,2])\n",
    "msg = \"Hola\"\n",
    "dummy = np.testing.assert_allclose(a, b, err_msg=msg)\n"
   ]
  },
  {
   "cell_type": "code",
   "execution_count": null,
   "id": "061cc951-f2e5-4d27-b26c-513cada41741",
   "metadata": {},
   "outputs": [],
   "source": []
  }
 ],
 "metadata": {
  "kernelspec": {
   "display_name": "Python 3 (ipykernel)",
   "language": "python",
   "name": "python3"
  },
  "language_info": {
   "codemirror_mode": {
    "name": "ipython",
    "version": 3
   },
   "file_extension": ".py",
   "mimetype": "text/x-python",
   "name": "python",
   "nbconvert_exporter": "python",
   "pygments_lexer": "ipython3",
   "version": "3.13.2"
  }
 },
 "nbformat": 4,
 "nbformat_minor": 5
}
