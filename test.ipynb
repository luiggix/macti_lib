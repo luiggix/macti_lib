{
 "cells": [
  {
   "cell_type": "code",
   "execution_count": 1,
   "id": "9252f904-081c-4a12-880b-4b80bf7cc03e",
   "metadata": {},
   "outputs": [],
   "source": [
    "import numpy as np"
   ]
  },
  {
   "cell_type": "code",
   "execution_count": 130,
   "id": "706acf1f-1418-4315-8e73-3cc4efc1090e",
   "metadata": {},
   "outputs": [
    {
     "name": "stdout",
     "output_type": "stream",
     "text": [
      "['a' 'b' 'c']\n",
      "['a' 'c' 'd']\n",
      "(array([1, 2]),) <class 'tuple'>\n",
      "1 2 "
     ]
    }
   ],
   "source": [
    "a = np.array([1.0, 2.0])\n",
    "b = np.array([1.0, 3.0])\n",
    "#a = np.array([[1.0, 2.0],[3.0, 4.0]])\n",
    "#b = np.array([[1.0, 5.0], [3.0, 4.0]])\n",
    "a = np.array(['a', 'b', 'c'])\n",
    "b = np.array(['a', 'c', 'd'])\n",
    "#a = np.array([['a', 'b'], ['c', 'd']])\n",
    "#b = np.array([['f', 'b'], ['e', 'd']])\n",
    "\n",
    "#a = np.arange(0,10,1)\n",
    "#b = np.arange(0,10,1)\n",
    "#b[5:8] = 7\n",
    "#b[3] =  8\n",
    "print(a)\n",
    "print(b)\n",
    "\n",
    "first = np.where((a == b) == False)\n",
    "print(first, type(first))\n",
    "for i in first[0]:\n",
    "    print(i, end= ' ')\n",
    "#np.testing.assert_array_equal(b, a)\n"
   ]
  },
  {
   "cell_type": "code",
   "execution_count": null,
   "id": "7a026658-ad8b-48ec-97fb-defdb484b8e0",
   "metadata": {},
   "outputs": [],
   "source": []
  },
  {
   "cell_type": "code",
   "execution_count": 44,
   "id": "061cc951-f2e5-4d27-b26c-513cada41741",
   "metadata": {},
   "outputs": [
    {
     "name": "stdout",
     "output_type": "stream",
     "text": [
      "0\n",
      "1\n"
     ]
    },
    {
     "ename": "AssertionError",
     "evalue": "Differences in strings:\n- c+ b",
     "output_type": "error",
     "traceback": [
      "\u001b[0;31m---------------------------------------------------------------------------\u001b[0m",
      "\u001b[0;31mAssertionError\u001b[0m                            Traceback (most recent call last)",
      "Cell \u001b[0;32mIn[44], line 5\u001b[0m\n\u001b[1;32m      3\u001b[0m \u001b[38;5;28;01mfor\u001b[39;00m i, (ai, bi) \u001b[38;5;129;01min\u001b[39;00m \u001b[38;5;28menumerate\u001b[39m(\u001b[38;5;28mzip\u001b[39m(a, b)):\n\u001b[1;32m      4\u001b[0m     \u001b[38;5;28mprint\u001b[39m(i)\n\u001b[0;32m----> 5\u001b[0m     \u001b[43mnp\u001b[49m\u001b[38;5;241;43m.\u001b[39;49m\u001b[43mtesting\u001b[49m\u001b[38;5;241;43m.\u001b[39;49m\u001b[43massert_string_equal\u001b[49m\u001b[43m(\u001b[49m\u001b[43mbi\u001b[49m\u001b[43m,\u001b[49m\u001b[43m \u001b[49m\u001b[43mai\u001b[49m\u001b[43m)\u001b[49m\n",
      "File \u001b[0;32m~/Library/Python/3.12/lib/python/site-packages/numpy/testing/_private/utils.py:1365\u001b[0m, in \u001b[0;36massert_string_equal\u001b[0;34m(actual, desired)\u001b[0m\n\u001b[1;32m   1363\u001b[0m msg \u001b[38;5;241m=\u001b[39m \u001b[38;5;124mf\u001b[39m\u001b[38;5;124m\"\u001b[39m\u001b[38;5;124mDifferences in strings:\u001b[39m\u001b[38;5;130;01m\\n\u001b[39;00m\u001b[38;5;132;01m{\u001b[39;00m\u001b[38;5;124m'\u001b[39m\u001b[38;5;124m'\u001b[39m\u001b[38;5;241m.\u001b[39mjoin(diff_list)\u001b[38;5;241m.\u001b[39mrstrip()\u001b[38;5;132;01m}\u001b[39;00m\u001b[38;5;124m\"\u001b[39m\n\u001b[1;32m   1364\u001b[0m \u001b[38;5;28;01mif\u001b[39;00m actual \u001b[38;5;241m!=\u001b[39m desired:\n\u001b[0;32m-> 1365\u001b[0m     \u001b[38;5;28;01mraise\u001b[39;00m \u001b[38;5;167;01mAssertionError\u001b[39;00m(msg)\n",
      "\u001b[0;31mAssertionError\u001b[0m: Differences in strings:\n- c+ b"
     ]
    }
   ],
   "source": [
    "a = {'a', 'b', 'c'}\n",
    "b = {'a', 'c', 'd'}\n",
    "for i, (ai, bi) in enumerate(zip(a, b)):\n",
    "    print(i)\n",
    "    np.testing.assert_string_equal(bi, ai)"
   ]
  },
  {
   "cell_type": "code",
   "execution_count": 137,
   "id": "c2563804-be9a-4a0c-ab22-8c0dd008c5ec",
   "metadata": {},
   "outputs": [
    {
     "name": "stdout",
     "output_type": "stream",
     "text": [
      "['a' 'b' 'c']\n",
      "['a' 'd' 'c']\n",
      "1\n"
     ]
    },
    {
     "ename": "AssertionError",
     "evalue": "\nArrays are not equal\n\nMismatched elements: 1 / 3 (33.3%)\n ACTUAL: array(['a', 'd', 'c'], dtype='<U1')\n DESIRED: array(['a', 'b', 'c'], dtype='<U1')",
     "output_type": "error",
     "traceback": [
      "\u001b[0;31m---------------------------------------------------------------------------\u001b[0m",
      "\u001b[0;31mAssertionError\u001b[0m                            Traceback (most recent call last)",
      "Cell \u001b[0;32mIn[137], line 13\u001b[0m\n\u001b[1;32m     11\u001b[0m where \u001b[38;5;241m=\u001b[39m np\u001b[38;5;241m.\u001b[39mwhere((a \u001b[38;5;241m==\u001b[39m b) \u001b[38;5;241m==\u001b[39m \u001b[38;5;28;01mFalse\u001b[39;00m)\n\u001b[1;32m     12\u001b[0m \u001b[38;5;28mprint\u001b[39m(\u001b[38;5;28mlen\u001b[39m(where[\u001b[38;5;241m0\u001b[39m]))\n\u001b[0;32m---> 13\u001b[0m \u001b[43mnp\u001b[49m\u001b[38;5;241;43m.\u001b[39;49m\u001b[43mtesting\u001b[49m\u001b[38;5;241;43m.\u001b[39;49m\u001b[43massert_equal\u001b[49m\u001b[43m(\u001b[49m\u001b[43mb\u001b[49m\u001b[43m,\u001b[49m\u001b[43m \u001b[49m\u001b[43ma\u001b[49m\u001b[43m)\u001b[49m\n",
      "    \u001b[0;31m[... skipping hidden 3 frame]\u001b[0m\n",
      "File \u001b[0;32m~/Library/Python/3.12/lib/python/site-packages/numpy/testing/_private/utils.py:921\u001b[0m, in \u001b[0;36massert_array_compare\u001b[0;34m(comparison, x, y, err_msg, verbose, header, precision, equal_nan, equal_inf, strict, names)\u001b[0m\n\u001b[1;32m    916\u001b[0m         err_msg \u001b[38;5;241m+\u001b[39m\u001b[38;5;241m=\u001b[39m \u001b[38;5;124m'\u001b[39m\u001b[38;5;130;01m\\n\u001b[39;00m\u001b[38;5;124m'\u001b[39m \u001b[38;5;241m+\u001b[39m \u001b[38;5;124m'\u001b[39m\u001b[38;5;130;01m\\n\u001b[39;00m\u001b[38;5;124m'\u001b[39m\u001b[38;5;241m.\u001b[39mjoin(remarks)\n\u001b[1;32m    917\u001b[0m         msg \u001b[38;5;241m=\u001b[39m build_err_msg([ox, oy], err_msg,\n\u001b[1;32m    918\u001b[0m                             verbose\u001b[38;5;241m=\u001b[39mverbose, header\u001b[38;5;241m=\u001b[39mheader,\n\u001b[1;32m    919\u001b[0m                             names\u001b[38;5;241m=\u001b[39mnames,\n\u001b[1;32m    920\u001b[0m                             precision\u001b[38;5;241m=\u001b[39mprecision)\n\u001b[0;32m--> 921\u001b[0m         \u001b[38;5;28;01mraise\u001b[39;00m \u001b[38;5;167;01mAssertionError\u001b[39;00m(msg)\n\u001b[1;32m    922\u001b[0m \u001b[38;5;28;01mexcept\u001b[39;00m \u001b[38;5;167;01mValueError\u001b[39;00m:\n\u001b[1;32m    923\u001b[0m     \u001b[38;5;28;01mimport\u001b[39;00m \u001b[38;5;21;01mtraceback\u001b[39;00m\n",
      "\u001b[0;31mAssertionError\u001b[0m: \nArrays are not equal\n\nMismatched elements: 1 / 3 (33.3%)\n ACTUAL: array(['a', 'd', 'c'], dtype='<U1')\n DESIRED: array(['a', 'b', 'c'], dtype='<U1')"
     ]
    }
   ],
   "source": [
    "a = np.array(['a', 'b', 'c'])\n",
    "b = np.array(['a', 'd', 'c'])\n",
    "#a = np.arange(0,10,1)\n",
    "#b = np.arange(0,10,1)\n",
    "#a = np.linspace(0,10,10)\n",
    "#b = np.linspace(0,10,10)\n",
    "#b[5:8] = 7\n",
    "#b[3] =  8\n",
    "print(a)\n",
    "print(b)\n",
    "where = np.where((a == b) == False)\n",
    "print(len(where[0]))\n",
    "np.testing.assert_equal(b, a)"
   ]
  },
  {
   "cell_type": "code",
   "execution_count": 122,
   "id": "42aa15c5-5927-4018-b77a-d1e5f9436fb9",
   "metadata": {},
   "outputs": [
    {
     "name": "stdout",
     "output_type": "stream",
     "text": [
      "{'b': 2, 'c': 3}\n"
     ]
    },
    {
     "ename": "AssertionError",
     "evalue": "'a'",
     "output_type": "error",
     "traceback": [
      "\u001b[0;31m---------------------------------------------------------------------------\u001b[0m",
      "\u001b[0;31mAssertionError\u001b[0m                            Traceback (most recent call last)",
      "Cell \u001b[0;32mIn[122], line 4\u001b[0m\n\u001b[1;32m      2\u001b[0m b \u001b[38;5;241m=\u001b[39m [{\u001b[38;5;124m'\u001b[39m\u001b[38;5;124ma\u001b[39m\u001b[38;5;124m'\u001b[39m:\u001b[38;5;241m1\u001b[39m, \u001b[38;5;124m'\u001b[39m\u001b[38;5;124mb\u001b[39m\u001b[38;5;124m'\u001b[39m:\u001b[38;5;241m2\u001b[39m}, {\u001b[38;5;124m'\u001b[39m\u001b[38;5;124mb\u001b[39m\u001b[38;5;124m'\u001b[39m:\u001b[38;5;241m2\u001b[39m, \u001b[38;5;124m'\u001b[39m\u001b[38;5;124mc\u001b[39m\u001b[38;5;124m'\u001b[39m:\u001b[38;5;241m4\u001b[39m}, {\u001b[38;5;124m'\u001b[39m\u001b[38;5;124mc\u001b[39m\u001b[38;5;124m'\u001b[39m:\u001b[38;5;241m3\u001b[39m, \u001b[38;5;124m'\u001b[39m\u001b[38;5;124md\u001b[39m\u001b[38;5;124m'\u001b[39m:\u001b[38;5;241m4\u001b[39m}]\n\u001b[1;32m      3\u001b[0m \u001b[38;5;28mprint\u001b[39m(a[\u001b[38;5;241m1\u001b[39m])\n\u001b[0;32m----> 4\u001b[0m \u001b[43mnp\u001b[49m\u001b[38;5;241;43m.\u001b[39;49m\u001b[43mtesting\u001b[49m\u001b[38;5;241;43m.\u001b[39;49m\u001b[43massert_equal\u001b[49m\u001b[43m(\u001b[49m\u001b[43ma\u001b[49m\u001b[43m,\u001b[49m\u001b[43m \u001b[49m\u001b[43mb\u001b[49m\u001b[43m,\u001b[49m\u001b[43m \u001b[49m\u001b[43mstrict\u001b[49m\u001b[43m \u001b[49m\u001b[38;5;241;43m=\u001b[39;49m\u001b[43m \u001b[49m\u001b[38;5;28;43;01mTrue\u001b[39;49;00m\u001b[43m)\u001b[49m\n",
      "    \u001b[0;31m[... skipping hidden 1 frame]\u001b[0m\n",
      "File \u001b[0;32m~/Library/Python/3.12/lib/python/site-packages/numpy/testing/_private/utils.py:359\u001b[0m, in \u001b[0;36massert_equal\u001b[0;34m(actual, desired, err_msg, verbose, strict)\u001b[0m\n\u001b[1;32m    357\u001b[0m \u001b[38;5;28;01mfor\u001b[39;00m k, i \u001b[38;5;129;01min\u001b[39;00m desired\u001b[38;5;241m.\u001b[39mitems():\n\u001b[1;32m    358\u001b[0m     \u001b[38;5;28;01mif\u001b[39;00m k \u001b[38;5;129;01mnot\u001b[39;00m \u001b[38;5;129;01min\u001b[39;00m actual:\n\u001b[0;32m--> 359\u001b[0m         \u001b[38;5;28;01mraise\u001b[39;00m \u001b[38;5;167;01mAssertionError\u001b[39;00m(\u001b[38;5;28mrepr\u001b[39m(k))\n\u001b[1;32m    360\u001b[0m     assert_equal(actual[k], desired[k], \u001b[38;5;124mf\u001b[39m\u001b[38;5;124m'\u001b[39m\u001b[38;5;124mkey=\u001b[39m\u001b[38;5;132;01m{\u001b[39;00mk\u001b[38;5;132;01m!r}\u001b[39;00m\u001b[38;5;130;01m\\n\u001b[39;00m\u001b[38;5;132;01m{\u001b[39;00merr_msg\u001b[38;5;132;01m}\u001b[39;00m\u001b[38;5;124m'\u001b[39m,\n\u001b[1;32m    361\u001b[0m                  verbose)\n\u001b[1;32m    362\u001b[0m \u001b[38;5;28;01mreturn\u001b[39;00m\n",
      "\u001b[0;31mAssertionError\u001b[0m: 'a'"
     ]
    }
   ],
   "source": [
    "a = [{1:1, 'b':2}, {'b':2, 'c':3}, {'c':3, 'd':4}]\n",
    "b = [{'a':1, 'b':2}, {'b':2, 'c':4}, {'c':3, 'd':4}]\n",
    "print(a[1])\n",
    "np.testing.assert_equal(a, b, strict = True)"
   ]
  },
  {
   "cell_type": "code",
   "execution_count": 40,
   "id": "4e8c475c-23a0-4780-bf04-b98b1c5fa07d",
   "metadata": {},
   "outputs": [
    {
     "ename": "AssertionError",
     "evalue": "\nItems are not equal:\n ACTUAL: 3\n DESIRED: 2",
     "output_type": "error",
     "traceback": [
      "\u001b[0;31m---------------------------------------------------------------------------\u001b[0m",
      "\u001b[0;31mAssertionError\u001b[0m                            Traceback (most recent call last)",
      "Cell \u001b[0;32mIn[40], line 3\u001b[0m\n\u001b[1;32m      1\u001b[0m a \u001b[38;5;241m=\u001b[39m [{\u001b[38;5;124m'\u001b[39m\u001b[38;5;124ma\u001b[39m\u001b[38;5;124m'\u001b[39m:\u001b[38;5;241m1\u001b[39m, \u001b[38;5;124m'\u001b[39m\u001b[38;5;124mb\u001b[39m\u001b[38;5;124m'\u001b[39m:\u001b[38;5;241m2\u001b[39m}, {\u001b[38;5;124m'\u001b[39m\u001b[38;5;124mb\u001b[39m\u001b[38;5;124m'\u001b[39m:\u001b[38;5;241m2\u001b[39m, \u001b[38;5;124m'\u001b[39m\u001b[38;5;124mc\u001b[39m\u001b[38;5;124m'\u001b[39m:\u001b[38;5;241m3\u001b[39m}, {\u001b[38;5;124m'\u001b[39m\u001b[38;5;124mc\u001b[39m\u001b[38;5;124m'\u001b[39m:\u001b[38;5;241m3\u001b[39m, \u001b[38;5;124m'\u001b[39m\u001b[38;5;124md\u001b[39m\u001b[38;5;124m'\u001b[39m:\u001b[38;5;241m4\u001b[39m}]\n\u001b[1;32m      2\u001b[0m b \u001b[38;5;241m=\u001b[39m [{\u001b[38;5;124m'\u001b[39m\u001b[38;5;124ma\u001b[39m\u001b[38;5;124m'\u001b[39m:\u001b[38;5;241m1\u001b[39m, \u001b[38;5;124m'\u001b[39m\u001b[38;5;124mb\u001b[39m\u001b[38;5;124m'\u001b[39m:\u001b[38;5;241m2\u001b[39m}, {\u001b[38;5;124m'\u001b[39m\u001b[38;5;124mb\u001b[39m\u001b[38;5;124m'\u001b[39m:\u001b[38;5;241m2\u001b[39m, \u001b[38;5;124m'\u001b[39m\u001b[38;5;124mc\u001b[39m\u001b[38;5;124m'\u001b[39m:\u001b[38;5;241m3\u001b[39m}]\n\u001b[0;32m----> 3\u001b[0m \u001b[43mnp\u001b[49m\u001b[38;5;241;43m.\u001b[39;49m\u001b[43mtesting\u001b[49m\u001b[38;5;241;43m.\u001b[39;49m\u001b[43massert_equal\u001b[49m\u001b[43m(\u001b[49m\u001b[43ma\u001b[49m\u001b[43m,\u001b[49m\u001b[43m \u001b[49m\u001b[43mb\u001b[49m\u001b[43m,\u001b[49m\u001b[43m \u001b[49m\u001b[43mstrict\u001b[49m\u001b[43m \u001b[49m\u001b[38;5;241;43m=\u001b[39;49m\u001b[43m \u001b[49m\u001b[38;5;28;43;01mTrue\u001b[39;49;00m\u001b[43m)\u001b[49m\n",
      "    \u001b[0;31m[... skipping hidden 1 frame]\u001b[0m\n",
      "File \u001b[0;32m~/Library/Python/3.12/lib/python/site-packages/numpy/testing/_private/utils.py:453\u001b[0m, in \u001b[0;36massert_equal\u001b[0;34m(actual, desired, err_msg, verbose, strict)\u001b[0m\n\u001b[1;32m    450\u001b[0m \u001b[38;5;28;01mtry\u001b[39;00m:\n\u001b[1;32m    451\u001b[0m     \u001b[38;5;66;03m# Explicitly use __eq__ for comparison, gh-2552\u001b[39;00m\n\u001b[1;32m    452\u001b[0m     \u001b[38;5;28;01mif\u001b[39;00m \u001b[38;5;129;01mnot\u001b[39;00m (desired \u001b[38;5;241m==\u001b[39m actual):\n\u001b[0;32m--> 453\u001b[0m         \u001b[38;5;28;01mraise\u001b[39;00m \u001b[38;5;167;01mAssertionError\u001b[39;00m(msg)\n\u001b[1;32m    455\u001b[0m \u001b[38;5;28;01mexcept\u001b[39;00m (\u001b[38;5;167;01mDeprecationWarning\u001b[39;00m, \u001b[38;5;167;01mFutureWarning\u001b[39;00m) \u001b[38;5;28;01mas\u001b[39;00m e:\n\u001b[1;32m    456\u001b[0m     \u001b[38;5;66;03m# this handles the case when the two types are not even comparable\u001b[39;00m\n\u001b[1;32m    457\u001b[0m     \u001b[38;5;28;01mif\u001b[39;00m \u001b[38;5;124m'\u001b[39m\u001b[38;5;124melementwise == comparison\u001b[39m\u001b[38;5;124m'\u001b[39m \u001b[38;5;129;01min\u001b[39;00m e\u001b[38;5;241m.\u001b[39margs[\u001b[38;5;241m0\u001b[39m]:\n",
      "\u001b[0;31mAssertionError\u001b[0m: \nItems are not equal:\n ACTUAL: 3\n DESIRED: 2"
     ]
    }
   ],
   "source": [
    "a = [{'a':1, 'b':2}, {'b':2, 'c':3}, {'c':3, 'd':4}]\n",
    "b = [{'a':1, 'b':2}, {'b':2, 'c':3}]\n",
    "np.testing.assert_equal(a, b, strict = True)"
   ]
  },
  {
   "cell_type": "code",
   "execution_count": 36,
   "id": "ea59ad5d-744c-4934-8282-631ccd78ff13",
   "metadata": {},
   "outputs": [
    {
     "ename": "AssertionError",
     "evalue": "'e'",
     "output_type": "error",
     "traceback": [
      "\u001b[0;31m---------------------------------------------------------------------------\u001b[0m",
      "\u001b[0;31mAssertionError\u001b[0m                            Traceback (most recent call last)",
      "Cell \u001b[0;32mIn[36], line 3\u001b[0m\n\u001b[1;32m      1\u001b[0m a \u001b[38;5;241m=\u001b[39m [{\u001b[38;5;124m'\u001b[39m\u001b[38;5;124ma\u001b[39m\u001b[38;5;124m'\u001b[39m:\u001b[38;5;241m1\u001b[39m, \u001b[38;5;124m'\u001b[39m\u001b[38;5;124mb\u001b[39m\u001b[38;5;124m'\u001b[39m:\u001b[38;5;241m2\u001b[39m}, {\u001b[38;5;124m'\u001b[39m\u001b[38;5;124mc\u001b[39m\u001b[38;5;124m'\u001b[39m:\u001b[38;5;241m3\u001b[39m, \u001b[38;5;124m'\u001b[39m\u001b[38;5;124md\u001b[39m\u001b[38;5;124m'\u001b[39m:\u001b[38;5;241m4\u001b[39m}, {\u001b[38;5;124m'\u001b[39m\u001b[38;5;124me\u001b[39m\u001b[38;5;124m'\u001b[39m:\u001b[38;5;241m5\u001b[39m, \u001b[38;5;124m'\u001b[39m\u001b[38;5;124mf\u001b[39m\u001b[38;5;124m'\u001b[39m:\u001b[38;5;241m6\u001b[39m}]\n\u001b[1;32m      2\u001b[0m b \u001b[38;5;241m=\u001b[39m [{\u001b[38;5;124m'\u001b[39m\u001b[38;5;124ma\u001b[39m\u001b[38;5;124m'\u001b[39m:\u001b[38;5;241m1\u001b[39m, \u001b[38;5;124m'\u001b[39m\u001b[38;5;124mb\u001b[39m\u001b[38;5;124m'\u001b[39m:\u001b[38;5;241m2\u001b[39m}, {\u001b[38;5;124m'\u001b[39m\u001b[38;5;124me\u001b[39m\u001b[38;5;124m'\u001b[39m:\u001b[38;5;241m5\u001b[39m, \u001b[38;5;124m'\u001b[39m\u001b[38;5;124mf\u001b[39m\u001b[38;5;124m'\u001b[39m:\u001b[38;5;241m6\u001b[39m}, {\u001b[38;5;124m'\u001b[39m\u001b[38;5;124md\u001b[39m\u001b[38;5;124m'\u001b[39m:\u001b[38;5;241m4\u001b[39m, \u001b[38;5;124m'\u001b[39m\u001b[38;5;124mc\u001b[39m\u001b[38;5;124m'\u001b[39m:\u001b[38;5;241m3\u001b[39m}]\n\u001b[0;32m----> 3\u001b[0m \u001b[43mnp\u001b[49m\u001b[38;5;241;43m.\u001b[39;49m\u001b[43mtesting\u001b[49m\u001b[38;5;241;43m.\u001b[39;49m\u001b[43massert_equal\u001b[49m\u001b[43m(\u001b[49m\u001b[43ma\u001b[49m\u001b[43m,\u001b[49m\u001b[43m \u001b[49m\u001b[43mb\u001b[49m\u001b[43m,\u001b[49m\u001b[43m \u001b[49m\u001b[43mstrict\u001b[49m\u001b[43m \u001b[49m\u001b[38;5;241;43m=\u001b[39;49m\u001b[43m \u001b[49m\u001b[38;5;28;43;01mTrue\u001b[39;49;00m\u001b[43m)\u001b[49m\n",
      "    \u001b[0;31m[... skipping hidden 1 frame]\u001b[0m\n",
      "File \u001b[0;32m~/Library/Python/3.12/lib/python/site-packages/numpy/testing/_private/utils.py:359\u001b[0m, in \u001b[0;36massert_equal\u001b[0;34m(actual, desired, err_msg, verbose, strict)\u001b[0m\n\u001b[1;32m    357\u001b[0m \u001b[38;5;28;01mfor\u001b[39;00m k, i \u001b[38;5;129;01min\u001b[39;00m desired\u001b[38;5;241m.\u001b[39mitems():\n\u001b[1;32m    358\u001b[0m     \u001b[38;5;28;01mif\u001b[39;00m k \u001b[38;5;129;01mnot\u001b[39;00m \u001b[38;5;129;01min\u001b[39;00m actual:\n\u001b[0;32m--> 359\u001b[0m         \u001b[38;5;28;01mraise\u001b[39;00m \u001b[38;5;167;01mAssertionError\u001b[39;00m(\u001b[38;5;28mrepr\u001b[39m(k))\n\u001b[1;32m    360\u001b[0m     assert_equal(actual[k], desired[k], \u001b[38;5;124mf\u001b[39m\u001b[38;5;124m'\u001b[39m\u001b[38;5;124mkey=\u001b[39m\u001b[38;5;132;01m{\u001b[39;00mk\u001b[38;5;132;01m!r}\u001b[39;00m\u001b[38;5;130;01m\\n\u001b[39;00m\u001b[38;5;132;01m{\u001b[39;00merr_msg\u001b[38;5;132;01m}\u001b[39;00m\u001b[38;5;124m'\u001b[39m,\n\u001b[1;32m    361\u001b[0m                  verbose)\n\u001b[1;32m    362\u001b[0m \u001b[38;5;28;01mreturn\u001b[39;00m\n",
      "\u001b[0;31mAssertionError\u001b[0m: 'e'"
     ]
    }
   ],
   "source": [
    "a = [{'a':1, 'b':2}, {'c':3, 'd':4}, {'e':5, 'f':6}]\n",
    "b = [{'a':1, 'b':2}, {'e':5, 'f':6}, {'d':4, 'c':3}]\n",
    "np.testing.assert_equal(a, b, strict = True)"
   ]
  },
  {
   "cell_type": "code",
   "execution_count": 41,
   "id": "e32700a1-bc27-4454-a94d-d1794e02321f",
   "metadata": {},
   "outputs": [
    {
     "data": {
      "text/plain": [
       "3"
      ]
     },
     "execution_count": 41,
     "metadata": {},
     "output_type": "execute_result"
    }
   ],
   "source": [
    "len(a)"
   ]
  },
  {
   "cell_type": "code",
   "execution_count": 74,
   "id": "06acaea1-c300-43da-a2c7-5f9e70289b4c",
   "metadata": {},
   "outputs": [
    {
     "name": "stdout",
     "output_type": "stream",
     "text": [
      " 0: H vs H    \n",
      " 1: o vs i   ^\n",
      " 2: l vs l    \n",
      " 3: a vs a    \n",
      " 4:   vs      \n",
      " 5: m vs M   ^\n",
      " 6: u vs u    \n",
      " 7: n vs n    \n",
      " 8: d vs d    \n",
      " 9: o vs o    \n"
     ]
    }
   ],
   "source": [
    "s1 = \"Hola mundo\"\n",
    "s2 = \"Hila Mundo\"\n",
    "\n",
    "for i in range(max(len(s1), len(s2))):\n",
    "    c1 = s1[i] if i < len(s1) else ' '\n",
    "    c2 = s2[i] if i < len(s2) else ' '\n",
    "    marker = '^' if c1 != c2 else ' '\n",
    "    print(f\"{i:2}: {c1} vs {c2}   {marker}\")"
   ]
  },
  {
   "cell_type": "code",
   "execution_count": 106,
   "id": "7dd27f00-e740-44a0-9ab6-45dea99b7e43",
   "metadata": {},
   "outputs": [
    {
     "name": "stdout",
     "output_type": "stream",
     "text": [
      "(array([0]),)\n",
      "(1+5j)\n",
      "(2+5j)\n"
     ]
    },
    {
     "data": {
      "text/plain": [
       "False"
      ]
     },
     "execution_count": 106,
     "metadata": {},
     "output_type": "execute_result"
    }
   ],
   "source": [
    "import math\n",
    "\n",
    "a = 5.61231232\n",
    "b = 5.6123123214\n",
    "ac = 1+5j\n",
    "bc = 2+5j\n",
    "alc = np.array([ac.real, ac.imag])\n",
    "blc = np.array([bc.real, bc.imag])\n",
    "\n",
    "where = np.where((alc == blc) == False)\n",
    "print(where)\n",
    "print(complex(ac.real, ac.imag))\n",
    "print(complex(bc.real, bc.imag))\n",
    "\n",
    "np.allclose(blc, alc)"
   ]
  },
  {
   "cell_type": "code",
   "execution_count": 85,
   "id": "2d9ba53c-3ef7-46cb-ab4f-eccc5a7650c5",
   "metadata": {},
   "outputs": [],
   "source": [
    "import numpy as np\n",
    "\n",
    "def comparar_arrays_flotantes(a, b, rtol=1e-5, atol=1e-8, verbose=True, return_values=False):\n",
    "    \"\"\"\n",
    "    Compara dos arreglos numpy de flotantes y devuelve diferencias significativas.\n",
    "\n",
    "    Parámetros:\n",
    "        a, b           : numpy arrays a comparar\n",
    "        rtol, atol     : tolerancias relativa y absoluta\n",
    "        verbose        : si True, imprime diferencias\n",
    "        return_values  : si True, retorna lista de tuplas (índice, a[i], b[i])\n",
    "                         si False, retorna solo lista de índices\n",
    "\n",
    "    Retorna:\n",
    "        Lista de diferencias según return_values\n",
    "    \"\"\"\n",
    "    a = np.asarray(a)\n",
    "    b = np.asarray(b)\n",
    "    \n",
    "    if a.shape != b.shape:\n",
    "        raise ValueError(\"Los arreglos deben tener la misma forma\")\n",
    "\n",
    "    cercanos = np.isclose(a, b, rtol=rtol, atol=atol)\n",
    "    diferencias = np.where(~cercanos)[0]\n",
    "\n",
    "    if verbose:\n",
    "        if diferencias.size > 0:\n",
    "            print(\"Diferencias encontradas:\")\n",
    "            for i in diferencias:\n",
    "                print(f\"Índice {i}: a = {a[i]}, b = {b[i]}, diferencia = {abs(a[i] - b[i])}\")\n",
    "        else:\n",
    "            print(\"Todos los elementos son suficientemente cercanos.\")\n",
    "\n",
    "    if return_values:\n",
    "        return [(i, a[i], b[i]) for i in diferencias]\n",
    "    else:\n",
    "        return diferencias.tolist()"
   ]
  },
  {
   "cell_type": "code",
   "execution_count": 86,
   "id": "2794e53b-f1b7-49f3-8fb4-7f40e930b2e8",
   "metadata": {},
   "outputs": [
    {
     "ename": "ValueError",
     "evalue": "Calling nonzero on 0d arrays is not allowed. Use np.atleast_1d(scalar).nonzero() instead. If the context of this error is of the form `arr[nonzero(cond)]`, just use `arr[cond]`.",
     "output_type": "error",
     "traceback": [
      "\u001b[0;31m---------------------------------------------------------------------------\u001b[0m",
      "\u001b[0;31mValueError\u001b[0m                                Traceback (most recent call last)",
      "Cell \u001b[0;32mIn[86], line 1\u001b[0m\n\u001b[0;32m----> 1\u001b[0m \u001b[43mcomparar_arrays_flotantes\u001b[49m\u001b[43m(\u001b[49m\u001b[38;5;241;43m5.6\u001b[39;49m\u001b[43m,\u001b[49m\u001b[43m \u001b[49m\u001b[38;5;241;43m7.6\u001b[39;49m\u001b[43m)\u001b[49m\n",
      "Cell \u001b[0;32mIn[85], line 24\u001b[0m, in \u001b[0;36mcomparar_arrays_flotantes\u001b[0;34m(a, b, rtol, atol, verbose, return_values)\u001b[0m\n\u001b[1;32m     21\u001b[0m     \u001b[38;5;28;01mraise\u001b[39;00m \u001b[38;5;167;01mValueError\u001b[39;00m(\u001b[38;5;124m\"\u001b[39m\u001b[38;5;124mLos arreglos deben tener la misma forma\u001b[39m\u001b[38;5;124m\"\u001b[39m)\n\u001b[1;32m     23\u001b[0m cercanos \u001b[38;5;241m=\u001b[39m np\u001b[38;5;241m.\u001b[39misclose(a, b, rtol\u001b[38;5;241m=\u001b[39mrtol, atol\u001b[38;5;241m=\u001b[39matol)\n\u001b[0;32m---> 24\u001b[0m diferencias \u001b[38;5;241m=\u001b[39m \u001b[43mnp\u001b[49m\u001b[38;5;241;43m.\u001b[39;49m\u001b[43mwhere\u001b[49m\u001b[43m(\u001b[49m\u001b[38;5;241;43m~\u001b[39;49m\u001b[43mcercanos\u001b[49m\u001b[43m)\u001b[49m[\u001b[38;5;241m0\u001b[39m]\n\u001b[1;32m     26\u001b[0m \u001b[38;5;28;01mif\u001b[39;00m verbose:\n\u001b[1;32m     27\u001b[0m     \u001b[38;5;28;01mif\u001b[39;00m diferencias\u001b[38;5;241m.\u001b[39msize \u001b[38;5;241m>\u001b[39m \u001b[38;5;241m0\u001b[39m:\n",
      "\u001b[0;31mValueError\u001b[0m: Calling nonzero on 0d arrays is not allowed. Use np.atleast_1d(scalar).nonzero() instead. If the context of this error is of the form `arr[nonzero(cond)]`, just use `arr[cond]`."
     ]
    }
   ],
   "source": [
    "comparar_arrays_flotantes(5.6, 7.6)"
   ]
  },
  {
   "cell_type": "code",
   "execution_count": 134,
   "id": "8b925e2f-5536-4614-a96b-a0b7a5ceb740",
   "metadata": {},
   "outputs": [],
   "source": [
    "import sympy\n",
    "\n",
    "x = sympy.symbols('x')\n",
    "\n",
    "f = x + x"
   ]
  },
  {
   "cell_type": "code",
   "execution_count": 135,
   "id": "f49fcf0e-1f0e-441e-800a-2578e8e9126c",
   "metadata": {},
   "outputs": [
    {
     "data": {
      "text/plain": [
       "sympy.core.mul.Mul"
      ]
     },
     "execution_count": 135,
     "metadata": {},
     "output_type": "execute_result"
    }
   ],
   "source": [
    "type(f)"
   ]
  },
  {
   "cell_type": "code",
   "execution_count": 140,
   "id": "c5605548-a97a-4e7f-a8a2-7af8c44a12bf",
   "metadata": {},
   "outputs": [
    {
     "name": "stdout",
     "output_type": "stream",
     "text": [
      "['a' 'x' 'w']\n",
      "<U1\n"
     ]
    }
   ],
   "source": [
    "array_no_num = np.array(['a', 'x', 'w'])\n",
    "print(array_no_num)\n",
    "print(array_no_num.dtype)\n"
   ]
  },
  {
   "cell_type": "code",
   "execution_count": null,
   "id": "ae174f51-61d4-4a93-ae52-fde4fd57cfdc",
   "metadata": {},
   "outputs": [],
   "source": []
  }
 ],
 "metadata": {
  "kernelspec": {
   "display_name": "Python 3 (ipykernel)",
   "language": "python",
   "name": "python3"
  },
  "language_info": {
   "codemirror_mode": {
    "name": "ipython",
    "version": 3
   },
   "file_extension": ".py",
   "mimetype": "text/x-python",
   "name": "python",
   "nbconvert_exporter": "python",
   "pygments_lexer": "ipython3",
   "version": "3.12.3"
  }
 },
 "nbformat": 4,
 "nbformat_minor": 5
}
