{
 "cells": [
  {
   "cell_type": "code",
   "execution_count": 1,
   "id": "9252f904-081c-4a12-880b-4b80bf7cc03e",
   "metadata": {},
   "outputs": [],
   "source": [
    "import numpy as np"
   ]
  },
  {
   "cell_type": "code",
   "execution_count": 67,
   "id": "cedc13cf-9199-45d2-be3d-13aa87450df7",
   "metadata": {},
   "outputs": [],
   "source": [
    "def test_array(a, b):\n",
    "    if not np.allclose(a, b.flatten()):\n",
    "        first = int(np.where((a == b) == False)[0][0])\n",
    "        msg = f\"\\n 1er elemento con error: {first}.\\n valor correcto {a[first]}, \\n valor calculado {b[first]}\\n\"\n",
    "    #    np.testing.assert_equal(a, b,err_msg=msg)\n",
    "        return np.testing.assert_allclose(a, b,err_msg=msg)\n",
    "    "
   ]
  },
  {
   "cell_type": "code",
   "execution_count": 40,
   "id": "99d5bd35-fbfc-4ba6-9912-356bd3586354",
   "metadata": {},
   "outputs": [
    {
     "name": "stdout",
     "output_type": "stream",
     "text": [
      "[[1.+0.j 0.+2.j]\n",
      " [2.+0.j 3.+0.j]]\n",
      "0 (1+0j) 1.0 0.0\n",
      "1 2j 0.0 2.0\n",
      "2 (2+0j) 2.0 0.0\n",
      "3 (3+0j) 3.0 0.0\n",
      "\n",
      "[4.+0.j 3.+0.j 0.+2.j 1.+0.j]\n",
      "0 (4+0j) 4.0 0.0\n",
      "1 (3+0j) 3.0 0.0\n",
      "2 2j 0.0 2.0\n",
      "3 (1+0j) 1.0 0.0\n",
      "\n",
      "[1. 0. 0. 2. 2. 0. 3. 0.]\n",
      "[4. 0. 3. 0. 0. 2. 1. 0.]\n"
     ]
    }
   ],
   "source": [
    "a = np.array([[1,2j],[2,3]])#, dtype=complex)\n",
    "b = np.array([4,3,2j,1])\n",
    "\n",
    "print(a)\n",
    "for i,c in enumerate(a.flatten()):\n",
    "    print(i, c, c.real, c.imag)\n",
    "    \n",
    "print()\n",
    "print(b)\n",
    "for i,c in enumerate(b.flatten()):\n",
    "    print(i, c, c.real, c.imag)\n",
    "\n",
    "print()\n",
    "if a.dtype == complex:\n",
    "    l_c = np.array([[c.real, c.imag] for c in a.flatten()]).flatten()\n",
    "print(l_c)\n",
    "\n",
    "if b.dtype == complex:\n",
    "    l_c = np.array([[c.real, c.imag] for c in b.flatten()]).flatten()\n",
    "print(l_c)\n"
   ]
  },
  {
   "cell_type": "code",
   "execution_count": 38,
   "id": "0fc7462e-461c-4fcc-8e20-f4ba405dd758",
   "metadata": {},
   "outputs": [
    {
     "name": "stdout",
     "output_type": "stream",
     "text": [
      "[[1.+0.j 0.+2.j]\n",
      " [2.+0.j 3.+0.j]]\n",
      "0 (1+0j) 1.0 0.0\n",
      "1 2j 0.0 2.0\n",
      "2 (2+0j) 2.0 0.0\n",
      "3 (3+0j) 3.0 0.0\n",
      "\n",
      "[4.+0.j 3.+0.j 0.+2.j 1.+0.j]\n",
      "0 (4+0j) 4.0 0.0\n",
      "1 (3+0j) 3.0 0.0\n",
      "2 2j 0.0 2.0\n",
      "3 (1+0j) 1.0 0.0\n"
     ]
    }
   ],
   "source": [
    "print(a)\n",
    "for i,c in enumerate(a.flatten()):\n",
    "    print(i, c, c.real, c.imag)\n",
    "    \n",
    "print()\n",
    "print(b)\n",
    "for i,c in enumerate(b.flatten()):\n",
    "    print(i, c, c.real, c.imag)"
   ]
  },
  {
   "cell_type": "code",
   "execution_count": 43,
   "id": "8c582813-9df9-4415-9c92-14c5c6d596fd",
   "metadata": {},
   "outputs": [
    {
     "data": {
      "text/plain": [
       "4"
      ]
     },
     "execution_count": 43,
     "metadata": {},
     "output_type": "execute_result"
    }
   ],
   "source": [
    "lista_lista = [[1,2],[3,4]]\n",
    "len(np.array(lista_lista).flatten())"
   ]
  },
  {
   "cell_type": "code",
   "execution_count": 51,
   "id": "ec3f887d-8072-49fd-8553-c3a22fbbbc08",
   "metadata": {},
   "outputs": [
    {
     "name": "stdout",
     "output_type": "stream",
     "text": [
      "[2 3 5 6 8 9] <class 'numpy.ndarray'> 6\n"
     ]
    }
   ],
   "source": [
    "s = np.array(list({3, 5, 6, 2, 9,8,3}))\n",
    "print(s, type(s), len(s))"
   ]
  },
  {
   "cell_type": "code",
   "execution_count": null,
   "id": "5086d180-a84f-4684-ac13-617072b0775f",
   "metadata": {},
   "outputs": [],
   "source": []
  }
 ],
 "metadata": {
  "kernelspec": {
   "display_name": "Python 3 (ipykernel)",
   "language": "python",
   "name": "python3"
  },
  "language_info": {
   "codemirror_mode": {
    "name": "ipython",
    "version": 3
   },
   "file_extension": ".py",
   "mimetype": "text/x-python",
   "name": "python",
   "nbconvert_exporter": "python",
   "pygments_lexer": "ipython3",
   "version": "3.13.2"
  }
 },
 "nbformat": 4,
 "nbformat_minor": 5
}
