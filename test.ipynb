{
 "cells": [
  {
   "cell_type": "code",
   "execution_count": 1,
   "id": "9252f904-081c-4a12-880b-4b80bf7cc03e",
   "metadata": {},
   "outputs": [],
   "source": [
    "import numpy as np"
   ]
  },
  {
   "cell_type": "code",
   "execution_count": 67,
   "id": "cedc13cf-9199-45d2-be3d-13aa87450df7",
   "metadata": {},
   "outputs": [],
   "source": [
    "def test_array(a, b):\n",
    "    if not np.allclose(a, b.flatten()):\n",
    "        first = int(np.where((a == b) == False)[0][0])\n",
    "        msg = f\"\\n 1er elemento con error: {first}.\\n valor correcto {a[first]}, \\n valor calculado {b[first]}\\n\"\n",
    "    #    np.testing.assert_equal(a, b,err_msg=msg)\n",
    "        return np.testing.assert_allclose(a, b,err_msg=msg)\n",
    "    "
   ]
  },
  {
   "cell_type": "code",
   "execution_count": 68,
   "id": "99d5bd35-fbfc-4ba6-9912-356bd3586354",
   "metadata": {},
   "outputs": [
    {
     "ename": "AssertionError",
     "evalue": "\nNot equal to tolerance rtol=1e-07, atol=0\n\n 1er elemento con error: 4.\n valor correcto 0.04040404040404041, \n valor calculado 3.2\n\nMismatched elements: 10 / 100 (10%)\nMax absolute difference among violations: 3.15959596\nMax relative difference among violations: 0.98737374\n ACTUAL: array([0.      , 0.010101, 0.020202, 0.030303, 0.040404, 0.050505,\n       0.060606, 0.070707, 0.080808, 0.090909, 0.10101 , 0.111111,\n       0.121212, 0.131313, 0.141414, 0.151515, 0.161616, 0.171717,...\n DESIRED: array([0.      , 0.010101, 0.020202, 0.030303, 3.2     , 0.050505,\n       0.060606, 0.070707, 0.080808, 0.090909, 0.10101 , 0.111111,\n       0.121212, 0.131313, 3.2     , 0.151515, 0.161616, 0.171717,...",
     "output_type": "error",
     "traceback": [
      "\u001b[31m---------------------------------------------------\u001b[39m",
      "\u001b[31mAssertionError\u001b[39m    Traceback (most recent call last)",
      "\u001b[36mCell\u001b[39m\u001b[36m \u001b[39m\u001b[32mIn[68]\u001b[39m\u001b[32m, line 6\u001b[39m\n\u001b[32m      3\u001b[39m b = a.copy()\n\u001b[32m      4\u001b[39m b[\u001b[32m4\u001b[39m::\u001b[32m10\u001b[39m] = \u001b[32m3.2\u001b[39m\u001b[38;5;66;03m#+4j\u001b[39;00m\n\u001b[32m----> \u001b[39m\u001b[32m6\u001b[39m \u001b[43mtest_array\u001b[49m\u001b[43m(\u001b[49m\u001b[43ma\u001b[49m\u001b[43m,\u001b[49m\u001b[43mb\u001b[49m\u001b[43m)\u001b[49m\n",
      "\u001b[36mCell\u001b[39m\u001b[36m \u001b[39m\u001b[32mIn[67]\u001b[39m\u001b[32m, line 6\u001b[39m, in \u001b[36mtest_array\u001b[39m\u001b[34m(a, b)\u001b[39m\n\u001b[32m      4\u001b[39m     msg = \u001b[33mf\u001b[39m\u001b[33m\"\u001b[39m\u001b[38;5;130;01m\\n\u001b[39;00m\u001b[33m 1er elemento con error: \u001b[39m\u001b[38;5;132;01m{\u001b[39;00mfirst\u001b[38;5;132;01m}\u001b[39;00m\u001b[33m.\u001b[39m\u001b[38;5;130;01m\\n\u001b[39;00m\u001b[33m valor correcto \u001b[39m\u001b[38;5;132;01m{\u001b[39;00ma[first]\u001b[38;5;132;01m}\u001b[39;00m\u001b[33m, \u001b[39m\u001b[38;5;130;01m\\n\u001b[39;00m\u001b[33m valor calculado \u001b[39m\u001b[38;5;132;01m{\u001b[39;00mb[first]\u001b[38;5;132;01m}\u001b[39;00m\u001b[38;5;130;01m\\n\u001b[39;00m\u001b[33m\"\u001b[39m\n\u001b[32m      5\u001b[39m \u001b[38;5;66;03m#    np.testing.assert_equal(a, b,err_msg=msg)\u001b[39;00m\n\u001b[32m----> \u001b[39m\u001b[32m6\u001b[39m     \u001b[38;5;28;01mreturn\u001b[39;00m \u001b[43mnp\u001b[49m\u001b[43m.\u001b[49m\u001b[43mtesting\u001b[49m\u001b[43m.\u001b[49m\u001b[43massert_allclose\u001b[49m\u001b[43m(\u001b[49m\u001b[43ma\u001b[49m\u001b[43m,\u001b[49m\u001b[43m \u001b[49m\u001b[43mb\u001b[49m\u001b[43m,\u001b[49m\u001b[43merr_msg\u001b[49m\u001b[43m=\u001b[49m\u001b[43mmsg\u001b[49m\u001b[43m)\u001b[49m\n",
      "    \u001b[31m[... skipping hidden 1 frame]\u001b[39m\n",
      "\u001b[36mFile \u001b[39m\u001b[32m~\\AppData\\Local\\Programs\\Python\\Python313\\Lib\\site-packages\\numpy\\testing\\_private\\utils.py:921\u001b[39m, in \u001b[36massert_array_compare\u001b[39m\u001b[34m(comparison, x, y, err_msg, verbose, header, precision, equal_nan, equal_inf, strict, names)\u001b[39m\n\u001b[32m    916\u001b[39m         err_msg += \u001b[33m'\u001b[39m\u001b[38;5;130;01m\\n\u001b[39;00m\u001b[33m'\u001b[39m + \u001b[33m'\u001b[39m\u001b[38;5;130;01m\\n\u001b[39;00m\u001b[33m'\u001b[39m.join(remarks)\n\u001b[32m    917\u001b[39m         msg = build_err_msg([ox, oy], err_msg,\n\u001b[32m    918\u001b[39m                             verbose=verbose, header=header,\n\u001b[32m    919\u001b[39m                             names=names,\n\u001b[32m    920\u001b[39m                             precision=precision)\n\u001b[32m--> \u001b[39m\u001b[32m921\u001b[39m         \u001b[38;5;28;01mraise\u001b[39;00m \u001b[38;5;167;01mAssertionError\u001b[39;00m(msg)\n\u001b[32m    922\u001b[39m \u001b[38;5;28;01mexcept\u001b[39;00m \u001b[38;5;167;01mValueError\u001b[39;00m:\n\u001b[32m    923\u001b[39m     \u001b[38;5;28;01mimport\u001b[39;00m\u001b[38;5;250m \u001b[39m\u001b[34;01mtraceback\u001b[39;00m\n",
      "\u001b[31mAssertionError\u001b[39m: \nNot equal to tolerance rtol=1e-07, atol=0\n\n 1er elemento con error: 4.\n valor correcto 0.04040404040404041, \n valor calculado 3.2\n\nMismatched elements: 10 / 100 (10%)\nMax absolute difference among violations: 3.15959596\nMax relative difference among violations: 0.98737374\n ACTUAL: array([0.      , 0.010101, 0.020202, 0.030303, 0.040404, 0.050505,\n       0.060606, 0.070707, 0.080808, 0.090909, 0.10101 , 0.111111,\n       0.121212, 0.131313, 0.141414, 0.151515, 0.161616, 0.171717,...\n DESIRED: array([0.      , 0.010101, 0.020202, 0.030303, 3.2     , 0.050505,\n       0.060606, 0.070707, 0.080808, 0.090909, 0.10101 , 0.111111,\n       0.121212, 0.131313, 3.2     , 0.151515, 0.161616, 0.171717,..."
     ]
    }
   ],
   "source": [
    "a = np.linspace(0,1,100)\n",
    "#a = np.array([1j,1j,2j,3j,3+4j,5j], dtype=complex)\n",
    "b = a.copy()\n",
    "b[4::10] = 3.2#+4j\n",
    "\n",
    "test_array(a,b)"
   ]
  },
  {
   "cell_type": "code",
   "execution_count": 88,
   "id": "8c582813-9df9-4415-9c92-14c5c6d596fd",
   "metadata": {},
   "outputs": [
    {
     "name": "stdout",
     "output_type": "stream",
     "text": [
      "[1 5] (2,)\n"
     ]
    }
   ],
   "source": [
    "a = {5,1.1}\n",
    "b = np.array(list({5,1, 1}))\n",
    "print(b, b.shape)\n",
    "#test_array(np.array(a), np.array(b))"
   ]
  },
  {
   "cell_type": "code",
   "execution_count": null,
   "id": "ec3f887d-8072-49fd-8553-c3a22fbbbc08",
   "metadata": {},
   "outputs": [],
   "source": [
    "b.flatten"
   ]
  }
 ],
 "metadata": {
  "kernelspec": {
   "display_name": "Python 3 (ipykernel)",
   "language": "python",
   "name": "python3"
  },
  "language_info": {
   "codemirror_mode": {
    "name": "ipython",
    "version": 3
   },
   "file_extension": ".py",
   "mimetype": "text/x-python",
   "name": "python",
   "nbconvert_exporter": "python",
   "pygments_lexer": "ipython3",
   "version": "3.13.2"
  }
 },
 "nbformat": 4,
 "nbformat_minor": 5
}
