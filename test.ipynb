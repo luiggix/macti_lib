{
 "cells": [
  {
   "cell_type": "code",
   "execution_count": 9,
   "id": "9252f904-081c-4a12-880b-4b80bf7cc03e",
   "metadata": {},
   "outputs": [],
   "source": [
    "import numpy as np"
   ]
  },
  {
   "cell_type": "code",
   "execution_count": 12,
   "id": "ae174f51-61d4-4a93-ae52-fde4fd57cfdc",
   "metadata": {},
   "outputs": [
    {
     "name": "stdout",
     "output_type": "stream",
     "text": [
      "['a' 'x' 'c' 'd' 'e'] <class 'numpy.ndarray'>\n",
      "['a' 'c' 'd' 'e' 'x'] <class 'numpy.ndarray'>\n"
     ]
    },
    {
     "data": {
      "text/plain": [
       "array(['a', 'c', 'd', 'e', 'x'], dtype='<U1')"
      ]
     },
     "execution_count": 12,
     "metadata": {},
     "output_type": "execute_result"
    }
   ],
   "source": [
    "lista = np.array(['a','x','c','d','e'])\n",
    "print(lista, type(lista))\n",
    "lista.sort()\n",
    "print(lista, type(lista))\n",
    "lista.flatten()"
   ]
  },
  {
   "cell_type": "code",
   "execution_count": 13,
   "id": "e4753810-8022-40f2-8077-644d8a419a01",
   "metadata": {},
   "outputs": [
    {
     "name": "stdout",
     "output_type": "stream",
     "text": [
      "Hello\n"
     ]
    }
   ],
   "source": [
    "if lista.dtype == '<U1':\n",
    "    print(\"Hello\")"
   ]
  },
  {
   "cell_type": "code",
   "execution_count": 16,
   "id": "3a031115-3136-4dcb-83f2-3e5b799f9a2e",
   "metadata": {},
   "outputs": [
    {
     "name": "stdout",
     "output_type": "stream",
     "text": [
      "['4' 'a' 'b' 'c' 'x'] <class 'numpy.ndarray'>\n"
     ]
    }
   ],
   "source": [
    "b = np.array(['x', '4', 'a', 'c', 'b'])\n",
    "b.sort()\n",
    "print(b, type(b))\n"
   ]
  },
  {
   "cell_type": "code",
   "execution_count": null,
   "id": "8d8b2685-b723-42f6-9880-d1bfb864f746",
   "metadata": {},
   "outputs": [],
   "source": []
  }
 ],
 "metadata": {
  "kernelspec": {
   "display_name": "Python 3 (ipykernel)",
   "language": "python",
   "name": "python3"
  },
  "language_info": {
   "codemirror_mode": {
    "name": "ipython",
    "version": 3
   },
   "file_extension": ".py",
   "mimetype": "text/x-python",
   "name": "python",
   "nbconvert_exporter": "python",
   "pygments_lexer": "ipython3",
   "version": "3.12.3"
  }
 },
 "nbformat": 4,
 "nbformat_minor": 5
}
