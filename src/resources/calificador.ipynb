{
 "cells": [
  {
   "cell_type": "code",
   "execution_count": 1,
   "id": "78ae7d9c-ec37-49ba-b2d8-23b67bea6d09",
   "metadata": {},
   "outputs": [],
   "source": [
    "from nbgrader.api import Gradebook\n",
    "import pandas as pd\n",
    "import macti.grader as mgrad"
   ]
  },
  {
   "cell_type": "code",
   "execution_count": 2,
   "id": "3fb8a043-22a9-4814-97f5-34002916b7b4",
   "metadata": {},
   "outputs": [
    {
     "name": "stdout",
     "output_type": "stream",
     "text": [
      "\n",
      "Base de datos: sqlite:///gradebook.db\n"
     ]
    }
   ],
   "source": [
    "db_name = \"sqlite:///gradebook.db\"\n",
    "print(f\"\\nBase de datos: {db_name}\")"
   ]
  },
  {
   "cell_type": "code",
   "execution_count": 6,
   "id": "60c3dd71-843d-4486-b745-41952adeaac6",
   "metadata": {},
   "outputs": [
    {
     "name": "stdout",
     "output_type": "stream",
     "text": [
      "\n",
      "Lista de assignments (3):\n",
      " 0 01_Python\n",
      "   0 quiz_python_basico\n",
      "\n",
      " 1 02_AlgLin\n",
      "   0 quiz_alglin_basica\n",
      "\n",
      " 2 03_DerivadasNum\n",
      "   0 quiz_derivada_y_su_aproximacion\n",
      "   1 quiz_derivadas_numericas\n",
      "   2 zinteractivo1\n",
      "\n"
     ]
    },
    {
     "name": "stdin",
     "output_type": "stream",
     "text": [
      "Assignment a evaluar: 0\n",
      "Notebook a evaluar: 0\n"
     ]
    },
    {
     "name": "stdout",
     "output_type": "stream",
     "text": [
      "\n",
      "Evaluación del Notebook<01_Python/quiz_python_basico>\n",
      "\n",
      "Dirección Email\tgrades\n",
      "marreola@encit.unam.mx \t 8.57\n",
      "ana.bardomiano@encit.unam.mx \t 10.0\n",
      "valery.chirino@encit.unam.mx \t 10.0\n",
      "jose.colin@encit.unam.mx \t 8.1\n",
      "carmen.cruz@encit.unam.mx \t 10.0\n",
      "blancaivonne@encit.unam.mx \t 0.0\n",
      "diego.delgado@encit.unam.mx \t 10.0\n",
      "metztli.guerrero@encit.unam.mx \t 9.05\n",
      "johan.gomez@encit.unam.mx \t 9.05\n",
      "alejandro.hernandez@encit.unam.mx \t 9.05\n",
      "scarlett.ibarra@encit.unam.mx \t 10.0\n",
      "izac.ibanez@encit.unam.mx \t 8.57\n",
      "karla.lopez@encit.unam.mx \t 8.1\n",
      "israel.lozano@encit.unam.mx \t 9.05\n",
      "ximenamancilla@encit.unam.mx \t 8.1\n",
      "gabriela.ortega@encit.unam.mx \t 10.0\n",
      "francisco.ortiz@encit.unam.mx \t 9.05\n",
      "jimena.pedroza@encit.unam.mx \t 8.57\n",
      "valentina.ruiz@encit.unam.mx \t 10.0\n",
      "norman.sanchez@encit.unam.mx \t 8.1\n",
      "dante.tafoya@encit.unam.mx \t 9.05\n",
      "hannia.zenteno@encit.unam.mx \t 10.0\n"
     ]
    }
   ],
   "source": [
    "with Gradebook(db_name) as gb:\n",
    "    # Mostrar la información de los assignments en la base de datos\n",
    "    mgrad.show_assignments(gb)\n",
    "\n",
    "    # Definir la notebook que será evaluada\n",
    "    assignment = int(input(\"Assignment a evaluar:\"))\n",
    "    notebook   = int(input(\"Notebook a evaluar:\"))\n",
    "\n",
    "    # Evaluar la notebook\n",
    "    grades = mgrad.calculate_grades(gb, assignment, notebook, 0)\n",
    "\n",
    "    # Imprimir el resultado para Moodle\n",
    "    mgrad.print_for_moodle(grades)"
   ]
  },
  {
   "cell_type": "code",
   "execution_count": null,
   "id": "6772d162-a7c0-46aa-bcf4-39bb4ce0920d",
   "metadata": {},
   "outputs": [],
   "source": []
  }
 ],
 "metadata": {
  "kernelspec": {
   "display_name": "Python 3 (ipykernel)",
   "language": "python",
   "name": "python3"
  },
  "language_info": {
   "codemirror_mode": {
    "name": "ipython",
    "version": 3
   },
   "file_extension": ".py",
   "mimetype": "text/x-python",
   "name": "python",
   "nbconvert_exporter": "python",
   "pygments_lexer": "ipython3",
   "version": "3.11.6"
  }
 },
 "nbformat": 4,
 "nbformat_minor": 5
}
