{
 "cells": [
  {
   "cell_type": "code",
   "execution_count": 1,
   "id": "0a2a9696-d66d-4820-8e53-3b77b63e3888",
   "metadata": {
    "editable": true,
    "slideshow": {
     "slide_type": ""
    },
    "tags": []
   },
   "outputs": [],
   "source": [
    "import numpy as np\n",
    "import matplotlib.pyplot as plt\n",
    "import ipywidgets as widgets\n",
    "import macti.visual as vis"
   ]
  },
  {
   "cell_type": "code",
   "execution_count": 2,
   "id": "2ec645e3-87b2-492e-8fab-101291e32a73",
   "metadata": {
    "editable": true,
    "slideshow": {
     "slide_type": ""
    },
    "tags": []
   },
   "outputs": [],
   "source": [
    "def interacccion(elev = 30, azim = -60, roll = 0, savefig=False):\n",
    "    # Tamaño del dominio\n",
    "    Lx = 1.0\n",
    "    Ly = 1.0\n",
    "\n",
    "    # Número de nodos en cada eje\n",
    "    Nx = 15\n",
    "    Ny = 8\n",
    "\n",
    "    # Tamaño de la malla en cada dirección\n",
    "    hx = Lx / (Nx+1)\n",
    "    hy = Ly / (Ny+1)\n",
    "\n",
    "    #print('hx = {}, hy = {}'.format(hx, hy))\n",
    "\n",
    "    # Número total de nodos incluyendo las fronteras\n",
    "    NxT = Nx + 2\n",
    "    NyT = Ny + 2\n",
    "\n",
    "    # Coordenadas de la malla\n",
    "    xn = np.linspace(0,Lx,NxT)\n",
    "    yn = np.linspace(0,Ly,NyT)\n",
    "    xg, yg = np.meshgrid(xn, yn, indexing='ij')\n",
    "\n",
    "    # Definición de un campo escalar en cada punto de la malla\n",
    "    T = np.zeros((NxT, NyT))\n",
    "\n",
    "    # Asignamos un valor a cada entrada del arreglo\n",
    "    for i in range(NxT):\n",
    "        for j in range(NyT):\n",
    "            T[i,j] = np.sin(np.pi*i/8) * np.cos(np.pi*j/8)\n",
    "\n",
    "    A = 1.0\n",
    "    alpha = 2.0\n",
    "    U = -A * np.cos(np.pi * alpha * yg) * np.sin(np.pi * alpha * xg)\n",
    "    V =  A * np.sin(np.pi * alpha * yg) * np.cos(np.pi * alpha * xg)\n",
    "\n",
    "    axis_par = [dict(aspect = 'equal'), dict(aspect = 'equal'), dict(aspect = 'equal'), dict(projection='3d', aspect='auto')]\n",
    "    v = vis.Plotter(2,2, axis_par, dict(figsize=(8,6)))\n",
    "\n",
    "    v.set_canvas(1, Lx, Ly)\n",
    "    v.draw_domain(1, xg, yg)\n",
    "    v.axes(1).set_title('Dominio de estudio', fontsize=10)\n",
    "\n",
    "    v.set_canvas(2, Lx, Ly)\n",
    "    v.plot_mesh2D(2, xg, yg, nodeson = True)\n",
    "    v.plot_frame(2, xg, yg, ticks=False)\n",
    "    v.axes(2).set_title('Malla del dominio', fontsize=10)\n",
    "\n",
    "    cax = v.set_canvas(3, Lx, Ly)\n",
    "    c = v.contourf(3, xg, yg, U, levels=100, cmap='viridis')\n",
    "    v.contour(3, xg, yg, U, levels=10, cmap='Greys')\n",
    "    v.fig.colorbar(c, cax=cax, ticks = [T.min(), (T.min()+T.max()) * 0.5, T.max()], shrink=0.5, orientation='vertical')\n",
    "    v.plot_frame(3, xg, yg, ticks=False)\n",
    "    v.axes(3).set_title('Campo escalar', fontsize=10)\n",
    "\n",
    "    v.plot_surface(4, xg, yg, U, cmap='viridis')\n",
    "    v.axes(4).view_init(elev, azim, roll)\n",
    "    v.axes(4).set_title('Campo escalar', fontsize=10)\n",
    "\n",
    "    v.fig.tight_layout(h_pad=0.5, w_pad=2.0)\n",
    "    if savefig:\n",
    "        plt.savefig('inter.pdf')\n",
    "    v.show()"
   ]
  },
  {
   "cell_type": "code",
   "execution_count": 3,
   "id": "d9811a50-b519-47ec-a8f3-9524df96e828",
   "metadata": {
    "editable": true,
    "slideshow": {
     "slide_type": ""
    },
    "tags": []
   },
   "outputs": [
    {
     "data": {
      "application/vnd.jupyter.widget-view+json": {
       "model_id": "",
       "version_major": 2,
       "version_minor": 0
      },
      "text/plain": [
       "VBox(children=(HBox(children=(IntSlider(value=30, description='elev', layout=Layout(width='300px'), max=180), …"
      ]
     },
     "metadata": {},
     "output_type": "display_data"
    },
    {
     "data": {
      "application/vnd.jupyter.widget-view+json": {
       "model_id": "",
       "version_major": 2,
       "version_minor": 0
      },
      "text/plain": [
       "Output()"
      ]
     },
     "metadata": {},
     "output_type": "display_data"
    }
   ],
   "source": [
    "elev = widgets.IntSlider(min=0, max = 180, value = 30, step = 1, description='elev', layout=widgets.Layout(width='300px'))\n",
    "azim = widgets.IntSlider(min=0, max = 180, value = -60, step = 1, description='azim', layout=widgets.Layout(width='300px'))\n",
    "roll = widgets.IntSlider(min=0, max = 180, value = 0, step = 1, description='roll', layout=widgets.Layout(width='300px'))\n",
    "savefig = widgets.Checkbox(value=False, description='¿Guardar PDF?', disabled=False, indent=True)\n",
    "\n",
    "ui = widgets.VBox([widgets.HBox([elev, azim]), \n",
    "                   widgets.HBox([roll, savefig])],\n",
    "                 layout=widgets.Layout(align_items = 'flex-end'))\n",
    "\n",
    "ui.layout = widgets.Layout(border='solid 1px gray')\n",
    "ui.layout.width = '500px'\n",
    "    \n",
    "out = widgets.interactive_output(interacccion, \n",
    "                                 {'elev': elev, 'azim': azim, \n",
    "                                  'roll': roll,'savefig': savefig})\n",
    "\n",
    "display(ui, out)"
   ]
  },
  {
   "cell_type": "code",
   "execution_count": null,
   "id": "52d53b48-688e-4f62-98ee-f256ec73b6da",
   "metadata": {},
   "outputs": [],
   "source": []
  }
 ],
 "metadata": {
  "kernelspec": {
   "display_name": "Python 3 (ipykernel)",
   "language": "python",
   "name": "python3"
  },
  "language_info": {
   "codemirror_mode": {
    "name": "ipython",
    "version": 3
   },
   "file_extension": ".py",
   "mimetype": "text/x-python",
   "name": "python",
   "nbconvert_exporter": "python",
   "pygments_lexer": "ipython3",
   "version": "3.11.6"
  }
 },
 "nbformat": 4,
 "nbformat_minor": 5
}
