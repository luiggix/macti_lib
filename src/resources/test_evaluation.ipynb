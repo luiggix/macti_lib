{
 "cells": [
  {
   "cell_type": "code",
   "execution_count": 1,
   "id": "e5f6cbc7-872b-4682-afe2-ce63de9822cf",
   "metadata": {
    "editable": true,
    "slideshow": {
     "slide_type": ""
    },
    "tags": []
   },
   "outputs": [],
   "source": [
    "import pandas as pd\n",
    "import numpy as np\n",
    "import sympy as sy\n",
    "#print(np.__file__) # Me da el directorio de instalación de las bibliotecas de Python\n",
    "\n",
    "# La clase FileAnswer permite guardar las respuestas en un archivo\n",
    "# para posteriormente revisarlas con un objeto de la clase Quiz\n",
    "from macti.evaluation import FileAnswer\n",
    "file_answer = FileAnswer()"
   ]
  },
  {
   "cell_type": "markdown",
   "id": "8d44c2ca-2dd8-41bc-9169-01f6da30a31b",
   "metadata": {
    "editable": true,
    "slideshow": {
     "slide_type": ""
    },
    "tags": []
   },
   "source": [
    "## Construcción de las respuestas\n",
    "\n",
    "Se definen las respuestas correctas"
   ]
  },
  {
   "cell_type": "code",
   "execution_count": 2,
   "id": "e9fc27b3-bc75-4176-994e-27f4aefd6d04",
   "metadata": {
    "editable": true,
    "slideshow": {
     "slide_type": ""
    },
    "tags": []
   },
   "outputs": [],
   "source": [
    "opcion = 'c'\n",
    "derivada = 'x**2'\n",
    "\n",
    "t = np.linspace(0,1,10)\n",
    "w = np.sin(t)\n",
    "\n",
    "matriz_np = np.array([[0.10, -1.],[0.30,-1.]] )\n",
    "array_np = np.array([-200, 20])\n",
    "    \n",
    "flotante = 0.0\n",
    "entero = 1\n",
    "complejo = 1 + 5j\n",
    "logico = True\n",
    "    \n",
    "lista_num = [0, 1, 3.4]\n",
    "tupla_num = (1.2, 3.1416, np.pi)\n",
    "conjunto_num = {3, 5, 6, 2, 9,8}\n",
    "\n",
    "lista = ['luis', 'miguel', 'delacruz']\n",
    "tupla = ('a', 'b', 'c')\n",
    "conjunto = {'a', 'b', 'c'}\n",
    "diccionario = {'k1':3.446, 'k2':5.6423, 'k3':2.234324}\n",
    "array_no_num = np.array(['a', 'x', 'w'])\n",
    "\n",
    "x = sy.Symbol('x')\n",
    "y = sy.Symbol('y')\n",
    "A, B, C = matriz_np, array_np, flotante\n",
    "forma_cuadratica = 0.5 * A[0,0] * x**2 + 0.5 * A[1,1] * y**2 + 0.5 * (A[0,1]+A[1,0])* x * y - B[0] * x - B[1] * y + C"
   ]
  },
  {
   "cell_type": "markdown",
   "id": "68c650cc-e0a4-4618-8cfd-3214015dff0d",
   "metadata": {
    "editable": true,
    "slideshow": {
     "slide_type": ""
    },
    "tags": []
   },
   "source": [
    "## Almacenamiento de las respuestas"
   ]
  },
  {
   "cell_type": "code",
   "execution_count": 3,
   "id": "34460d0d-e66d-4f72-b42b-f863bad75a13",
   "metadata": {
    "editable": true,
    "slideshow": {
     "slide_type": ""
    },
    "tags": []
   },
   "outputs": [
    {
     "name": "stdout",
     "output_type": "stream",
     "text": [
      "Creando el directorio :/home/jovyan/MACTI/macti_lib/macti/data/.ans/resources/\n",
      "Respuestas y retroalimentación almacenadas.\n"
     ]
    }
   ],
   "source": [
    "file_answer.write('1', opcion, 'Las opciones válidas son ...')\n",
    "file_answer.write('2', derivada, 'Checa las reglas de derivación')\n",
    "    \n",
    "file_answer.write('3a', t, 'Deberías checar ...')\n",
    "\n",
    "mensaje =\"\"\"Puedes poner mucho texto y ver que sucede en la impresión del hint,\n",
    "quizá es necesario usar triples comillas\"\"\"\n",
    "file_answer.write('3b', w, mensaje)\n",
    "\n",
    "file_answer.write('4', matriz_np, 'Checa las entradas de la matriz A')\n",
    "file_answer.write('5', array_np, 'Checa las entradas del vector B')\n",
    "    \n",
    "file_answer.write('6', flotante, 'Checa el valor de flotante')\n",
    "file_answer.write('7', entero, 'Checa el valor de entero')\n",
    "file_answer.write('8', complejo, 'Checa el valor de complejo')\n",
    "file_answer.write('9', logico, 'Checa  logico')\n",
    "    \n",
    "file_answer.write('10', lista_num, 'Checa la lista numérica')\n",
    "file_answer.write('11', tupla_num, 'Checa la tupla numérica')\n",
    "file_answer.write('12', conjunto_num, 'No es posible usar conjuntos numéricos')\n",
    "\n",
    "file_answer.write('13', lista, 'Checa la lista')\n",
    "file_answer.write('14', tupla, 'Checa la tupla')\n",
    "file_answer.write('15', conjunto, 'Checa la conjunto')\n",
    "file_answer.write('16', diccionario, 'Checa la diccionario')\n",
    "file_answer.write('17', array_no_num, 'Checa el nd.array')\n",
    "\n",
    "file_answer.write('18', str(forma_cuadratica),'Revisa tus operaciones algebráicas para calcular f(x)')\n",
    "file_answer.to_file('1')"
   ]
  },
  {
   "cell_type": "markdown",
   "id": "a2adef6e-8ece-4fd4-92f3-5869d42b9f88",
   "metadata": {
    "editable": true,
    "slideshow": {
     "slide_type": ""
    },
    "tags": []
   },
   "source": [
    "## Mostramos el archivo de respuestas"
   ]
  },
  {
   "cell_type": "code",
   "execution_count": 6,
   "id": "63c35f5e-3ee8-4033-968f-5de635012372",
   "metadata": {
    "editable": true,
    "slideshow": {
     "slide_type": ""
    },
    "tags": []
   },
   "outputs": [
    {
     "name": "stdout",
     "output_type": "stream",
     "text": [
      "----------------------------------------\n",
      "1 --> c\n",
      "2 --> x**2\n",
      "3a --> [0.         0.11111111 0.22222222 0.33333333 0.44444444 0.55555556\n",
      " 0.66666667 0.77777778 0.88888889 1.        ]\n",
      "3b --> [0.         0.11088263 0.22039774 0.3271947  0.42995636 0.52741539\n",
      " 0.6183698  0.70169788 0.77637192 0.84147098]\n",
      "4 --> [ 0.1 -1.   0.3 -1. ]\n",
      "5 --> [-200   20]\n",
      "6 --> 0.0\n",
      "7 --> 1\n",
      "8 --> [1. 5.]\n",
      "9 --> True\n",
      "10 --> [0.  1.  3.4]\n",
      "11 --> [1.2        3.1416     3.14159265]\n",
      "12 --> [2 3 5 6 8 9]\n",
      "13 --> ['luis' 'miguel' 'delacruz']\n",
      "14 --> ['a' 'b' 'c']\n",
      "15 --> ['a' 'b' 'c']\n",
      "16 --> ['k1' 'k2' 'k3' '3.446' '5.6423' '2.234324']\n",
      "17 --> ['a' 'x' 'w']\n",
      "18 --> 0.05*x**2 - 0.35*x*y + 200*x - 0.5*y**2 - 20*y\n",
      "0 --> 2\n",
      "----------------------------------------\n"
     ]
    }
   ],
   "source": [
    "ans_df2 = pd.read_parquet('../.ans/resources/.__ans_1') # Se lee en un DataFrame\n",
    "print('-'*40)\n",
    "for i in ans_df2.columns:\n",
    "    print(\"{} --> {}\".format(i, ans_df2[i][0]))\n",
    "print('-'*40)"
   ]
  },
  {
   "cell_type": "code",
   "execution_count": 7,
   "id": "ec3087bc-f266-460a-829d-5d473e211a4a",
   "metadata": {
    "editable": true,
    "slideshow": {
     "slide_type": ""
    },
    "tags": []
   },
   "outputs": [
    {
     "data": {
      "text/html": [
       "<div>\n",
       "<style scoped>\n",
       "    .dataframe tbody tr th:only-of-type {\n",
       "        vertical-align: middle;\n",
       "    }\n",
       "\n",
       "    .dataframe tbody tr th {\n",
       "        vertical-align: top;\n",
       "    }\n",
       "\n",
       "    .dataframe thead th {\n",
       "        text-align: right;\n",
       "    }\n",
       "</style>\n",
       "<table border=\"1\" class=\"dataframe\">\n",
       "  <thead>\n",
       "    <tr style=\"text-align: right;\">\n",
       "      <th></th>\n",
       "      <th>1</th>\n",
       "      <th>2</th>\n",
       "      <th>3a</th>\n",
       "      <th>3b</th>\n",
       "      <th>4</th>\n",
       "      <th>5</th>\n",
       "      <th>6</th>\n",
       "      <th>7</th>\n",
       "      <th>8</th>\n",
       "      <th>9</th>\n",
       "      <th>10</th>\n",
       "      <th>11</th>\n",
       "      <th>12</th>\n",
       "      <th>13</th>\n",
       "      <th>14</th>\n",
       "      <th>15</th>\n",
       "      <th>16</th>\n",
       "      <th>17</th>\n",
       "      <th>18</th>\n",
       "      <th>0</th>\n",
       "    </tr>\n",
       "  </thead>\n",
       "  <tbody>\n",
       "    <tr>\n",
       "      <th>0</th>\n",
       "      <td>c</td>\n",
       "      <td>x**2</td>\n",
       "      <td>[0.0, 0.1111111111111111, 0.2222222222222222, ...</td>\n",
       "      <td>[0.0, 0.11088262850995298, 0.22039774345612226...</td>\n",
       "      <td>[0.1, -1.0, 0.3, -1.0]</td>\n",
       "      <td>[-200, 20]</td>\n",
       "      <td>0.0</td>\n",
       "      <td>1</td>\n",
       "      <td>[1.0, 5.0]</td>\n",
       "      <td>True</td>\n",
       "      <td>[0.0, 1.0, 3.4]</td>\n",
       "      <td>[1.2, 3.1416, 3.141592653589793]</td>\n",
       "      <td>[2, 3, 5, 6, 8, 9]</td>\n",
       "      <td>[luis, miguel, delacruz]</td>\n",
       "      <td>[a, b, c]</td>\n",
       "      <td>[a, b, c]</td>\n",
       "      <td>[k1, k2, k3, 3.446, 5.6423, 2.234324]</td>\n",
       "      <td>[a, x, w]</td>\n",
       "      <td>0.05*x**2 - 0.35*x*y + 200*x - 0.5*y**2 - 20*y</td>\n",
       "      <td>2</td>\n",
       "    </tr>\n",
       "  </tbody>\n",
       "</table>\n",
       "</div>"
      ],
      "text/plain": [
       "   1     2                                                 3a  \\\n",
       "0  c  x**2  [0.0, 0.1111111111111111, 0.2222222222222222, ...   \n",
       "\n",
       "                                                  3b                       4  \\\n",
       "0  [0.0, 0.11088262850995298, 0.22039774345612226...  [0.1, -1.0, 0.3, -1.0]   \n",
       "\n",
       "            5    6  7           8     9               10  \\\n",
       "0  [-200, 20]  0.0  1  [1.0, 5.0]  True  [0.0, 1.0, 3.4]   \n",
       "\n",
       "                                 11                  12  \\\n",
       "0  [1.2, 3.1416, 3.141592653589793]  [2, 3, 5, 6, 8, 9]   \n",
       "\n",
       "                         13         14         15  \\\n",
       "0  [luis, miguel, delacruz]  [a, b, c]  [a, b, c]   \n",
       "\n",
       "                                      16         17  \\\n",
       "0  [k1, k2, k3, 3.446, 5.6423, 2.234324]  [a, x, w]   \n",
       "\n",
       "                                               18  0  \n",
       "0  0.05*x**2 - 0.35*x*y + 200*x - 0.5*y**2 - 20*y  2  "
      ]
     },
     "execution_count": 7,
     "metadata": {},
     "output_type": "execute_result"
    }
   ],
   "source": [
    "ans_df2"
   ]
  },
  {
   "cell_type": "code",
   "execution_count": 9,
   "id": "8f31628f-0fae-4d0f-af1e-04ab5a09aa4e",
   "metadata": {
    "editable": true,
    "slideshow": {
     "slide_type": ""
    },
    "tags": []
   },
   "outputs": [
    {
     "data": {
      "text/html": [
       "<div>\n",
       "<style scoped>\n",
       "    .dataframe tbody tr th:only-of-type {\n",
       "        vertical-align: middle;\n",
       "    }\n",
       "\n",
       "    .dataframe tbody tr th {\n",
       "        vertical-align: top;\n",
       "    }\n",
       "\n",
       "    .dataframe thead th {\n",
       "        text-align: right;\n",
       "    }\n",
       "</style>\n",
       "<table border=\"1\" class=\"dataframe\">\n",
       "  <thead>\n",
       "    <tr style=\"text-align: right;\">\n",
       "      <th></th>\n",
       "      <th>1</th>\n",
       "      <th>2</th>\n",
       "      <th>3a</th>\n",
       "      <th>3b</th>\n",
       "      <th>4</th>\n",
       "      <th>5</th>\n",
       "      <th>6</th>\n",
       "      <th>7</th>\n",
       "      <th>8</th>\n",
       "      <th>9</th>\n",
       "      <th>10</th>\n",
       "      <th>11</th>\n",
       "      <th>12</th>\n",
       "      <th>13</th>\n",
       "      <th>14</th>\n",
       "      <th>15</th>\n",
       "      <th>16</th>\n",
       "      <th>17</th>\n",
       "      <th>18</th>\n",
       "      <th>0</th>\n",
       "    </tr>\n",
       "  </thead>\n",
       "  <tbody>\n",
       "    <tr>\n",
       "      <th>0</th>\n",
       "      <td>Las opciones válidas son ...</td>\n",
       "      <td>Checa las reglas de derivación</td>\n",
       "      <td>Deberías checar ...</td>\n",
       "      <td>Puedes poner mucho texto y ver que sucede en l...</td>\n",
       "      <td>Checa las entradas de la matriz A</td>\n",
       "      <td>Checa las entradas del vector B</td>\n",
       "      <td>Checa el valor de flotante</td>\n",
       "      <td>Checa el valor de entero</td>\n",
       "      <td>Checa el valor de complejo</td>\n",
       "      <td>Checa  logico</td>\n",
       "      <td>Checa la lista numérica</td>\n",
       "      <td>Checa la tupla numérica</td>\n",
       "      <td>No es posible usar conjuntos numéricos</td>\n",
       "      <td>Checa la lista</td>\n",
       "      <td>Checa la tupla</td>\n",
       "      <td>Checa la conjunto</td>\n",
       "      <td>Checa la diccionario</td>\n",
       "      <td>Checa el nd.array</td>\n",
       "      <td>Revisa tus operaciones algebráicas para calcul...</td>\n",
       "      <td>None</td>\n",
       "    </tr>\n",
       "  </tbody>\n",
       "</table>\n",
       "</div>"
      ],
      "text/plain": [
       "                              1                               2  \\\n",
       "0  Las opciones válidas son ...  Checa las reglas de derivación   \n",
       "\n",
       "                    3a                                                 3b  \\\n",
       "0  Deberías checar ...  Puedes poner mucho texto y ver que sucede en l...   \n",
       "\n",
       "                                   4                                5  \\\n",
       "0  Checa las entradas de la matriz A  Checa las entradas del vector B   \n",
       "\n",
       "                            6                         7  \\\n",
       "0  Checa el valor de flotante  Checa el valor de entero   \n",
       "\n",
       "                            8              9                       10  \\\n",
       "0  Checa el valor de complejo  Checa  logico  Checa la lista numérica   \n",
       "\n",
       "                        11                                      12  \\\n",
       "0  Checa la tupla numérica  No es posible usar conjuntos numéricos   \n",
       "\n",
       "               13              14                 15                    16  \\\n",
       "0  Checa la lista  Checa la tupla  Checa la conjunto  Checa la diccionario   \n",
       "\n",
       "                  17                                                 18     0  \n",
       "0  Checa el nd.array  Revisa tus operaciones algebráicas para calcul...  None  "
      ]
     },
     "execution_count": 9,
     "metadata": {},
     "output_type": "execute_result"
    }
   ],
   "source": [
    "fee_df2 = pd.read_parquet('../.ans/resources/.__fee_1') # Se lee en un DataFrame\n",
    "fee_df2"
   ]
  },
  {
   "cell_type": "markdown",
   "id": "0eafe447-05fd-457d-8f40-5d9494d3ea60",
   "metadata": {
    "editable": true,
    "slideshow": {
     "slide_type": ""
    },
    "tags": []
   },
   "source": [
    "# Evaluación de las respuestas"
   ]
  },
  {
   "cell_type": "code",
   "execution_count": 10,
   "id": "91e224eb-cf57-480c-9e07-7eae95f80873",
   "metadata": {},
   "outputs": [
    {
     "name": "stdout",
     "output_type": "stream",
     "text": [
      "El directorio :/home/jovyan/MACTI/macti_lib/macti/data/.ans/resources/ ya existe\n",
      "Respuestas y retroalimentación almacenadas.\n"
     ]
    }
   ],
   "source": [
    "# Cambiando la verbosidad de la retroalimentación\n",
    "file_answer.verb = 2 # (Default) se toda la retroalimentación posible.\n",
    "#file_answer.verb = 1 # Se proporciona poca ayuda.\n",
    "#file_answer.verb = 0 # No se da nada de ayuda\n",
    "file_answer.to_file('1') # Se debe escribir el archivo nuevamente."
   ]
  },
  {
   "cell_type": "code",
   "execution_count": 13,
   "id": "44f739e6-2692-4b8c-8317-1a793e80a0e3",
   "metadata": {
    "editable": true,
    "slideshow": {
     "slide_type": ""
    },
    "tags": []
   },
   "outputs": [],
   "source": [
    "from macti.evaluation import Quiz\n",
    "\n",
    "# Usamos un objeto de la clase Quizz para evaluar las respuestas\n",
    "# El primer parámetro debe ser igual al parámetro usado en file_answer.to_file()\n",
    "# Los demás parámetros deben ser iguales a los usados en la definición de FileAnswer()\n",
    "quiz = Quiz('1', 'data', 'local')"
   ]
  },
  {
   "cell_type": "markdown",
   "id": "37074239-8448-423f-9197-be081dade5f2",
   "metadata": {
    "editable": true,
    "slideshow": {
     "slide_type": ""
    },
    "tags": []
   },
   "source": [
    "## Pregunta 1. `eval_option()`"
   ]
  },
  {
   "cell_type": "code",
   "execution_count": 15,
   "id": "5e53cb86-445f-4fd1-bd2e-122530621dfe",
   "metadata": {
    "editable": true,
    "slideshow": {
     "slide_type": ""
    },
    "tags": []
   },
   "outputs": [
    {
     "name": "stdout",
     "output_type": "stream",
     "text": [
      "\u001b[39m----------------------------------------\n",
      "\u001b[32m1 | Tu respuesta: \u001b[39mC\u001b[32m, es correcta.\n",
      "\u001b[39m----------------------------------------\n"
     ]
    }
   ],
   "source": [
    "quiz.eval_option('1', 'C')"
   ]
  },
  {
   "cell_type": "code",
   "execution_count": 10,
   "id": "ede3f924-3944-4602-a4b8-c88915b26e5b",
   "metadata": {},
   "outputs": [],
   "source": [
    "# Respuesta incorrecta\n",
    "#quiz.eval_option('1', 'a')"
   ]
  },
  {
   "cell_type": "markdown",
   "id": "d5079031-5d34-4cef-afa1-54f92d34dce0",
   "metadata": {},
   "source": [
    "## Pregunta 2. `eval_expression()`"
   ]
  },
  {
   "cell_type": "markdown",
   "id": "d93d3ae1-cd47-4453-a3e7-acdfdc6640b7",
   "metadata": {
    "editable": true,
    "slideshow": {
     "slide_type": ""
    },
    "tags": []
   },
   "source": [
    "¿Cuál es la derivada de $f(x) = \\frac{x^3}{3}$?"
   ]
  },
  {
   "cell_type": "code",
   "execution_count": 16,
   "id": "8d59342a-bdc7-4d05-a301-e69cf1b5649e",
   "metadata": {
    "editable": true,
    "slideshow": {
     "slide_type": ""
    },
    "tags": []
   },
   "outputs": [
    {
     "name": "stdout",
     "output_type": "stream",
     "text": [
      "\u001b[39m----------------------------------------\n",
      "\u001b[32m2 | Tu respuesta:\n"
     ]
    },
    {
     "data": {
      "text/latex": [
       "$\\displaystyle x^{2}$"
      ],
      "text/plain": [
       "x**2"
      ]
     },
     "metadata": {},
     "output_type": "display_data"
    },
    {
     "name": "stdout",
     "output_type": "stream",
     "text": [
      "\u001b[32mes correcta.\n",
      "\u001b[39m----------------------------------------\n"
     ]
    }
   ],
   "source": [
    "x = sy.Symbol('x')\n",
    "resultado = x**2\n",
    "quiz.eval_expression('2', resultado)"
   ]
  },
  {
   "cell_type": "code",
   "execution_count": 17,
   "id": "9208d7ab-9d76-4b1b-b55b-aed0634efed0",
   "metadata": {},
   "outputs": [],
   "source": [
    "# Respuesta incorrecta\n",
    "#x = sy.Symbol('x')\n",
    "#resultado = x**3\n",
    "#quiz.eval_expression('2', resultado)"
   ]
  },
  {
   "cell_type": "markdown",
   "id": "e9adf163-7d01-4da8-b908-5f3db75949f2",
   "metadata": {},
   "source": [
    "## Pregunta 3a. `eval_numeric()` (arreglo)"
   ]
  },
  {
   "cell_type": "code",
   "execution_count": 18,
   "id": "7b707a25-436d-4151-9f0e-7edf724821fc",
   "metadata": {
    "editable": true,
    "slideshow": {
     "slide_type": ""
    },
    "tags": []
   },
   "outputs": [
    {
     "name": "stdout",
     "output_type": "stream",
     "text": [
      "\u001b[39m----------------------------------------\n",
      "\u001b[32m3a | Tu resultado es correcto.\n",
      "\u001b[39m----------------------------------------\n"
     ]
    }
   ],
   "source": [
    "quiz.eval_numeric('3a', t)"
   ]
  },
  {
   "cell_type": "code",
   "execution_count": 14,
   "id": "9ffe1759-2f0f-4848-8ee8-fb59af2501ba",
   "metadata": {},
   "outputs": [],
   "source": [
    "# Respuesta incorrecta\n",
    "#quiz.eval_numeric('3a', t * 0.3)"
   ]
  },
  {
   "cell_type": "markdown",
   "id": "15a0328c-21a3-4fdd-8a39-ae4c7c282174",
   "metadata": {},
   "source": [
    "## Pregunta 3b. `eval_numeric()` (arreglo)"
   ]
  },
  {
   "cell_type": "code",
   "execution_count": 19,
   "id": "89047e4d-2a7f-4559-8d02-7a4afa500f79",
   "metadata": {
    "editable": true,
    "slideshow": {
     "slide_type": ""
    },
    "tags": []
   },
   "outputs": [
    {
     "name": "stdout",
     "output_type": "stream",
     "text": [
      "\u001b[39m----------------------------------------\n",
      "\u001b[32m3b | Tu resultado es correcto.\n",
      "\u001b[39m----------------------------------------\n"
     ]
    }
   ],
   "source": [
    "quiz.eval_numeric('3b', w)"
   ]
  },
  {
   "cell_type": "code",
   "execution_count": 16,
   "id": "a6c98edb-25a9-4db6-8db3-fd069d313dd7",
   "metadata": {},
   "outputs": [],
   "source": [
    "# Respuesta incorrecta\n",
    "#quiz.eval_numeric('3b', w * 2.0)"
   ]
  },
  {
   "cell_type": "markdown",
   "id": "68d317b9-96a6-4c56-99bd-d4e793c7d22a",
   "metadata": {},
   "source": [
    "## Pregunta 4. `eval_numeric()` (matriz)"
   ]
  },
  {
   "cell_type": "code",
   "execution_count": 20,
   "id": "eb87f8ba-0e8e-43a8-889f-3766c21b68d5",
   "metadata": {
    "editable": true,
    "slideshow": {
     "slide_type": ""
    },
    "tags": []
   },
   "outputs": [
    {
     "name": "stdout",
     "output_type": "stream",
     "text": [
      "\u001b[39m----------------------------------------\n",
      "\u001b[32m4 | Tu resultado es correcto.\n",
      "\u001b[39m----------------------------------------\n"
     ]
    }
   ],
   "source": [
    "quiz.eval_numeric('4', matriz_np)"
   ]
  },
  {
   "cell_type": "code",
   "execution_count": 21,
   "id": "fe50941d-a7dc-44a2-959d-330af7b549f1",
   "metadata": {},
   "outputs": [],
   "source": [
    "# Respuesta incorrecta\n",
    "#quiz.eval_numeric('4', np.array([[1,2],[3,4]]))"
   ]
  },
  {
   "cell_type": "markdown",
   "id": "955e81da-d885-4bf3-820e-24e607b551c8",
   "metadata": {},
   "source": [
    "## Pregunta 5. `eval_numeric()` (arreglo)"
   ]
  },
  {
   "cell_type": "code",
   "execution_count": 22,
   "id": "c82508ba-b67a-417c-80de-6bf39b9ee9c9",
   "metadata": {
    "editable": true,
    "slideshow": {
     "slide_type": ""
    },
    "tags": []
   },
   "outputs": [
    {
     "name": "stdout",
     "output_type": "stream",
     "text": [
      "\u001b[39m----------------------------------------\n",
      "\u001b[32m5 | Tu resultado es correcto.\n",
      "\u001b[39m----------------------------------------\n"
     ]
    }
   ],
   "source": [
    "quiz.eval_numeric('5', array_np)"
   ]
  },
  {
   "cell_type": "code",
   "execution_count": 20,
   "id": "ff16bf36-4752-4e9a-a827-6ea0feadd976",
   "metadata": {},
   "outputs": [],
   "source": [
    "# Respuesta incorrecta\n",
    "#quiz.eval_numeric('5', array_np*0.1)"
   ]
  },
  {
   "cell_type": "markdown",
   "id": "479abb93-56ad-409a-90f8-a757ea15d5b4",
   "metadata": {},
   "source": [
    "## Pregunta 6. `eval_numeric()` (flotante)"
   ]
  },
  {
   "cell_type": "code",
   "execution_count": 23,
   "id": "20b1358c-e528-4396-b195-99b884e8f99c",
   "metadata": {
    "editable": true,
    "slideshow": {
     "slide_type": ""
    },
    "tags": []
   },
   "outputs": [
    {
     "name": "stdout",
     "output_type": "stream",
     "text": [
      "\u001b[39m----------------------------------------\n",
      "\u001b[32m6 | Tu resultado es correcto.\n",
      "\u001b[39m----------------------------------------\n"
     ]
    }
   ],
   "source": [
    "quiz.eval_numeric('6', flotante)"
   ]
  },
  {
   "cell_type": "code",
   "execution_count": 22,
   "id": "32dc76f6-4128-4ab2-bdb9-3bf27caa14bd",
   "metadata": {},
   "outputs": [],
   "source": [
    "# Respuesta incorrecta\n",
    "#quiz.eval_numeric('6', 3.1516)"
   ]
  },
  {
   "cell_type": "markdown",
   "id": "56bd4af3-9344-4e6e-af3c-3da91f792b65",
   "metadata": {},
   "source": [
    "## Pregunta 7. `eval_numeric()` (entero)"
   ]
  },
  {
   "cell_type": "code",
   "execution_count": 24,
   "id": "6115956f-9c41-4bdc-a7c3-b0dbb71309da",
   "metadata": {
    "tags": []
   },
   "outputs": [
    {
     "name": "stdout",
     "output_type": "stream",
     "text": [
      "\u001b[39m----------------------------------------\n",
      "\u001b[32m7 | Tu resultado es correcto.\n",
      "\u001b[39m----------------------------------------\n"
     ]
    }
   ],
   "source": [
    "quiz.eval_numeric('7', entero)"
   ]
  },
  {
   "cell_type": "code",
   "execution_count": 25,
   "id": "6d82405f-567a-422e-a727-fb1d3933dd08",
   "metadata": {},
   "outputs": [],
   "source": [
    "# Respuesta incorrecta\n",
    "#quiz.eval_numeric('7', 1000)"
   ]
  },
  {
   "cell_type": "markdown",
   "id": "fb1c29d8-06f5-455a-bb2d-f3f4fdc5e1d8",
   "metadata": {},
   "source": [
    "## Pregunta 8. `eval_numeric()` (complejo)"
   ]
  },
  {
   "cell_type": "code",
   "execution_count": 26,
   "id": "dad036af-0af1-4e14-8d96-c8006b4439d7",
   "metadata": {},
   "outputs": [
    {
     "name": "stdout",
     "output_type": "stream",
     "text": [
      "\u001b[39m----------------------------------------\n",
      "\u001b[32m8 | Tu resultado es correcto.\n",
      "\u001b[39m----------------------------------------\n"
     ]
    }
   ],
   "source": [
    "quiz.eval_numeric('8', complejo)"
   ]
  },
  {
   "cell_type": "code",
   "execution_count": 26,
   "id": "bd45fd4d-2c89-4ee1-a4fc-49e137b7b5d7",
   "metadata": {},
   "outputs": [],
   "source": [
    "# Respuesta incorrecta\n",
    "#quiz.eval_numeric('8', complejo*2)"
   ]
  },
  {
   "cell_type": "markdown",
   "id": "de56e881-22ea-4199-a7f6-0f8c5efa2603",
   "metadata": {},
   "source": [
    "## Pregunta 9. `eval_numeric()` (lógico)"
   ]
  },
  {
   "cell_type": "code",
   "execution_count": 27,
   "id": "97d1e32a-ac82-484c-a414-c51adbc90cdf",
   "metadata": {},
   "outputs": [
    {
     "name": "stdout",
     "output_type": "stream",
     "text": [
      "\u001b[39m----------------------------------------\n",
      "\u001b[32m9 | Tu resultado es correcto.\n",
      "\u001b[39m----------------------------------------\n"
     ]
    }
   ],
   "source": [
    "quiz.eval_numeric('9', logico)"
   ]
  },
  {
   "cell_type": "code",
   "execution_count": 28,
   "id": "0339b00a-53c8-4bd7-906e-8fe6665890ea",
   "metadata": {},
   "outputs": [],
   "source": [
    "# Respuesta incorrecta\n",
    "#quiz.eval_numeric('9', False)"
   ]
  },
  {
   "cell_type": "markdown",
   "id": "f92c35eb-ee41-4812-b8fa-224126ca0f92",
   "metadata": {},
   "source": [
    "## Pregunta 10. `eval_numeric()` (lista numérica)"
   ]
  },
  {
   "cell_type": "code",
   "execution_count": 29,
   "id": "5ed8a093-11c4-4144-97af-d20a51ac839b",
   "metadata": {},
   "outputs": [
    {
     "name": "stdout",
     "output_type": "stream",
     "text": [
      "\u001b[39m----------------------------------------\n",
      "\u001b[32m10 | Tu resultado es correcto.\n",
      "\u001b[39m----------------------------------------\n"
     ]
    }
   ],
   "source": [
    "quiz.eval_numeric('10', lista_num)"
   ]
  },
  {
   "cell_type": "code",
   "execution_count": 30,
   "id": "f335ed70-e939-4f08-8523-ccc3ad278de8",
   "metadata": {},
   "outputs": [],
   "source": [
    "# Respuesta incorrecta\n",
    "#quiz.eval_numeric('10', [3, 4, 5])"
   ]
  },
  {
   "cell_type": "markdown",
   "id": "285a78de-b4f4-4c6c-bb18-f96d06a7d866",
   "metadata": {
    "editable": true,
    "slideshow": {
     "slide_type": ""
    },
    "tags": []
   },
   "source": [
    "## Pregunta 11. `eval_numeric()` (tupla numérica)"
   ]
  },
  {
   "cell_type": "code",
   "execution_count": 31,
   "id": "f791b32b-8ff6-43ce-a676-0925d771ac6f",
   "metadata": {
    "editable": true,
    "slideshow": {
     "slide_type": ""
    },
    "tags": []
   },
   "outputs": [
    {
     "name": "stdout",
     "output_type": "stream",
     "text": [
      "\u001b[39m----------------------------------------\n",
      "\u001b[32m11 | Tu resultado es correcto.\n",
      "\u001b[39m----------------------------------------\n"
     ]
    }
   ],
   "source": [
    "quiz.eval_numeric('11', tupla_num)"
   ]
  },
  {
   "cell_type": "code",
   "execution_count": 32,
   "id": "c449b563-1b64-4685-ad5d-7d4b56f903be",
   "metadata": {
    "editable": true,
    "slideshow": {
     "slide_type": ""
    },
    "tags": []
   },
   "outputs": [],
   "source": [
    "# Respuesta incorrecta\n",
    "#quiz.eval_numeric('11', (8, 6, 7))"
   ]
  },
  {
   "cell_type": "markdown",
   "id": "320327b0-7598-4c6b-8ff9-494c2449878f",
   "metadata": {},
   "source": [
    "## Pregunta 13. `eval_datastruct()` (lista)\n",
    "\n",
    "**Ojo**: nos saltamos el índice 12, no es necesario que estén todos los números de en secuencia para los ejercicios."
   ]
  },
  {
   "cell_type": "code",
   "execution_count": 33,
   "id": "76098022-7e62-472a-918c-f9bc68aa008d",
   "metadata": {},
   "outputs": [
    {
     "name": "stdout",
     "output_type": "stream",
     "text": [
      "\u001b[39m----------------------------------------\n",
      "\u001b[32m13 | Tu resultado es correcto.\n",
      "\u001b[39m----------------------------------------\n"
     ]
    }
   ],
   "source": [
    "quiz.eval_datastruct('13', lista)"
   ]
  },
  {
   "cell_type": "code",
   "execution_count": 34,
   "id": "be86d0b0-63df-40b0-84d1-57319c1fb0bf",
   "metadata": {},
   "outputs": [
    {
     "name": "stdout",
     "output_type": "stream",
     "text": [
      "['luis', 'miguel', 'delacruz']\n",
      "\u001b[39m----------------------------------------\n",
      "\u001b[32m13 | Tu resultado es correcto.\n",
      "\u001b[39m----------------------------------------\n"
     ]
    }
   ],
   "source": [
    "# La lista puede estar en desorden\n",
    "print(lista)\n",
    "quiz.eval_datastruct('13', ['delacruz', 'luis', 'miguel'])"
   ]
  },
  {
   "cell_type": "code",
   "execution_count": 35,
   "id": "4508e27b-762d-446d-8269-11d80186168b",
   "metadata": {},
   "outputs": [],
   "source": [
    "# Respuesta incorrecta\n",
    "#print(lista)\n",
    "#quiz.eval_datastruct('13', ['delacruz', 'miguel'])"
   ]
  },
  {
   "cell_type": "markdown",
   "id": "101e46d0-c9a0-4879-8299-701cd3fb6b9a",
   "metadata": {},
   "source": [
    "## Pregunta 14. `eval_datastruct()` (lista)"
   ]
  },
  {
   "cell_type": "code",
   "execution_count": 36,
   "id": "98301d4a-5c3d-41f6-b377-df49aacff9c2",
   "metadata": {
    "editable": true,
    "slideshow": {
     "slide_type": ""
    },
    "tags": []
   },
   "outputs": [
    {
     "name": "stdout",
     "output_type": "stream",
     "text": [
      "\u001b[39m----------------------------------------\n",
      "\u001b[32m14 | Tu resultado es correcto.\n",
      "\u001b[39m----------------------------------------\n"
     ]
    }
   ],
   "source": [
    "quiz.eval_datastruct('14', tupla)"
   ]
  },
  {
   "cell_type": "code",
   "execution_count": 37,
   "id": "e561f0d1-ff56-4766-b16b-1d8f4b94be7a",
   "metadata": {},
   "outputs": [
    {
     "name": "stdout",
     "output_type": "stream",
     "text": [
      "('a', 'b', 'c')\n",
      "\u001b[39m----------------------------------------\n",
      "\u001b[32m14 | Tu resultado es correcto.\n",
      "\u001b[39m----------------------------------------\n"
     ]
    }
   ],
   "source": [
    "# La tupla puede estar en desorden\n",
    "print(tupla)\n",
    "quiz.eval_datastruct('14', ('c', 'b', 'a'))"
   ]
  },
  {
   "cell_type": "code",
   "execution_count": 38,
   "id": "848e0b9d-f0c1-4828-b4a4-7c5c96bdceac",
   "metadata": {},
   "outputs": [],
   "source": [
    "# Respuesta incorrecta\n",
    "#print(tupla)\n",
    "#quiz.eval_datastruct('14', ('c', 'b', 'd'))"
   ]
  },
  {
   "cell_type": "markdown",
   "id": "bc27fbf8-6f13-4fc3-a705-13a3daf0aa38",
   "metadata": {},
   "source": [
    "## Pregunta 15. `eval_datastruct()` (conjunto)"
   ]
  },
  {
   "cell_type": "code",
   "execution_count": 39,
   "id": "d4886a3f-d371-4ebc-b552-585bf45eaea5",
   "metadata": {},
   "outputs": [
    {
     "name": "stdout",
     "output_type": "stream",
     "text": [
      "\u001b[39m----------------------------------------\n",
      "\u001b[32m15 | Tu resultado es correcto.\n",
      "\u001b[39m----------------------------------------\n"
     ]
    }
   ],
   "source": [
    "quiz.eval_datastruct('15', conjunto)"
   ]
  },
  {
   "cell_type": "code",
   "execution_count": 40,
   "id": "6a103039-b08d-4a87-95d3-0b2257310d33",
   "metadata": {},
   "outputs": [
    {
     "name": "stdout",
     "output_type": "stream",
     "text": [
      "{'a', 'b', 'c'}\n",
      "\u001b[39m----------------------------------------\n",
      "\u001b[32m15 | Tu resultado es correcto.\n",
      "\u001b[39m----------------------------------------\n"
     ]
    }
   ],
   "source": [
    "# En un conjunto no importa el orden\n",
    "print(conjunto)\n",
    "quiz.eval_datastruct('15', {'c', 'b', 'a'})"
   ]
  },
  {
   "cell_type": "code",
   "execution_count": 41,
   "id": "d07c6c58-8dde-4ac1-ae05-f9629beffec7",
   "metadata": {},
   "outputs": [],
   "source": [
    "# Respuesta incorrecta\n",
    "#print(conjunto)\n",
    "#quiz.eval_datastruct('15', {'c', 'b', 'a', 'd'})"
   ]
  },
  {
   "cell_type": "markdown",
   "id": "0b37faed-1796-45e9-a55e-4be84dff408c",
   "metadata": {},
   "source": [
    "## Pregunta 16. `eval_datastruct()` (diccionario)"
   ]
  },
  {
   "cell_type": "code",
   "execution_count": 42,
   "id": "a7579213-cbe6-48f8-b8a5-91fed3ce9354",
   "metadata": {},
   "outputs": [
    {
     "name": "stdout",
     "output_type": "stream",
     "text": [
      "\u001b[39m----------------------------------------\n",
      "\u001b[32m16 | Tu resultado es correcto.\n",
      "\u001b[39m----------------------------------------\n"
     ]
    }
   ],
   "source": [
    "quiz.eval_datastruct('16', diccionario)"
   ]
  },
  {
   "cell_type": "code",
   "execution_count": 43,
   "id": "ae7c7ee6-a853-436f-88cb-c49220f4968c",
   "metadata": {},
   "outputs": [],
   "source": [
    "# Respuesta incorrecta\n",
    "# En esta versión un diccionario necesariamente debe estar en orden\n",
    "#print(diccionario)\n",
    "#quiz.eval_datastruct('16', {'k1':3.446,  'k3':2.234324, 'k2':5.6423})"
   ]
  },
  {
   "cell_type": "code",
   "execution_count": 44,
   "id": "51abf1d8-8c48-4aa4-b835-6d83ef22f292",
   "metadata": {},
   "outputs": [],
   "source": [
    "# Respuesta incorrecta\n",
    "#print(diccionario)\n",
    "#quiz.eval_datastruct('16', {'k1':3.446,  'k2':5.6423, 'k4':2.234324, })"
   ]
  },
  {
   "cell_type": "markdown",
   "id": "0ff4657d-2632-4c00-8cf5-7db53fbfce74",
   "metadata": {},
   "source": [
    "## Pregunta 17. `eval_datastruct()` (nd.array no numérico)"
   ]
  },
  {
   "cell_type": "code",
   "execution_count": 45,
   "id": "1d0ae00e-2067-481e-898c-539f793b6499",
   "metadata": {},
   "outputs": [
    {
     "name": "stdout",
     "output_type": "stream",
     "text": [
      "\u001b[39m----------------------------------------\n",
      "\u001b[32m17 | Tu resultado es correcto.\n",
      "\u001b[39m----------------------------------------\n"
     ]
    }
   ],
   "source": [
    "quiz.eval_datastruct('17', array_no_num)"
   ]
  },
  {
   "cell_type": "code",
   "execution_count": 46,
   "id": "721a712f-48a4-46bd-94c4-8d97512bfe02",
   "metadata": {},
   "outputs": [
    {
     "name": "stdout",
     "output_type": "stream",
     "text": [
      "['a' 'x' 'w']\n",
      "\u001b[39m----------------------------------------\n",
      "\u001b[32m17 | Tu resultado es correcto.\n",
      "\u001b[39m----------------------------------------\n"
     ]
    }
   ],
   "source": [
    "# El arreglo puede estar en desorden\n",
    "print(array_no_num)\n",
    "quiz.eval_datastruct('17', np.array(['x', 'a', 'w']))"
   ]
  },
  {
   "cell_type": "code",
   "execution_count": 47,
   "id": "e629e751-03db-4433-a6e4-0739ce12c80b",
   "metadata": {},
   "outputs": [],
   "source": [
    "# Respuesta incorrecta\n",
    "#print(array_no_num)\n",
    "#quiz.eval_datastruct('17', np.array(['x', 'z', 'w']))"
   ]
  },
  {
   "cell_type": "markdown",
   "id": "61d888e8-0fde-4687-b896-e1bf0db2ab2d",
   "metadata": {},
   "source": [
    "## Pregunta 18. `eval_expression()`\n",
    "**Forma cuadrática**\n",
    "\n",
    "$$ f(\\mathbf{x}) = \\dfrac{1}{2} \\mathbf{x}^T A \\mathbf{x} - \\mathbf{b}^T \\mathbf{x} + c $$\n",
    "\n",
    "Usando los valores de $A$, $B$ y $C$ calcula la forma de $f(\\mathbf{x})$"
   ]
  },
  {
   "cell_type": "code",
   "execution_count": 47,
   "id": "e176ae33-2a4b-4cb6-b24d-daf789b18390",
   "metadata": {},
   "outputs": [],
   "source": [
    "# Construimos la forma cuadrática\n",
    "x = sy.Symbol('x')\n",
    "y = sy.Symbol('y')\n",
    "A, B, C = matriz_np, array_np, flotante\n",
    "mi_respuesta = 0.5 * A[0,0] * x**2 + 0.5 * A[1,1] * y**2 + 0.5 * (A[0,1]+A[1,0])* x * y - B[0] * x - B[1] * y + C"
   ]
  },
  {
   "cell_type": "code",
   "execution_count": 48,
   "id": "bcb8a5a5-5f30-4e48-9026-b06f3ad9e018",
   "metadata": {},
   "outputs": [
    {
     "name": "stdout",
     "output_type": "stream",
     "text": [
      "0.05*x**2 - 0.35*x*y + 200*x - 0.5*y**2 - 20*y\n",
      "0.05*x**2 - 0.35*x*y + 200*x - 0.5*y**2 - 20*y\n"
     ]
    },
    {
     "data": {
      "text/latex": [
       "$\\displaystyle 0.05 x^{2} - 0.35 x y + 200 x - 0.5 y^{2} - 20 y$"
      ],
      "text/plain": [
       "0.05*x**2 - 0.35*x*y + 200*x - 0.5*y**2 - 20*y"
      ]
     },
     "metadata": {},
     "output_type": "display_data"
    },
    {
     "data": {
      "text/latex": [
       "$\\displaystyle 0.05 x^{2} - 0.35 x y + 200 x - 0.5 y^{2} - 20 y$"
      ],
      "text/plain": [
       "0.05*x**2 - 0.35*x*y + 200*x - 0.5*y**2 - 20*y"
      ]
     },
     "metadata": {},
     "output_type": "display_data"
    }
   ],
   "source": [
    "print(forma_cuadratica)\n",
    "print(mi_respuesta)\n",
    "display(forma_cuadratica)\n",
    "display(mi_respuesta)"
   ]
  },
  {
   "cell_type": "code",
   "execution_count": 49,
   "id": "a4b18966-de87-44da-bfee-1c19114edb6b",
   "metadata": {
    "editable": true,
    "slideshow": {
     "slide_type": ""
    },
    "tags": []
   },
   "outputs": [
    {
     "name": "stdout",
     "output_type": "stream",
     "text": [
      "\u001b[39m----------------------------------------\n",
      "\u001b[32m18 | Tu respuesta:\n"
     ]
    },
    {
     "data": {
      "text/latex": [
       "$\\displaystyle 0.05 x^{2} - 0.35 x y + 200 x - 0.5 y^{2} - 20 y$"
      ],
      "text/plain": [
       "0.05*x**2 - 0.35*x*y + 200*x - 0.5*y**2 - 20*y"
      ]
     },
     "metadata": {},
     "output_type": "display_data"
    },
    {
     "name": "stdout",
     "output_type": "stream",
     "text": [
      "\u001b[32mes correcta.\n",
      "\u001b[39m----------------------------------------\n"
     ]
    }
   ],
   "source": [
    "quiz.eval_expression('18', mi_respuesta)"
   ]
  },
  {
   "cell_type": "code",
   "execution_count": 51,
   "id": "77caacb5-dd01-4e3f-a52f-4940f439a06e",
   "metadata": {},
   "outputs": [],
   "source": [
    "# Respuesta incorrecta\n",
    "#otra_respuesta = 0.25 * A[0,0] * x**2 + 0.5 * A[1,1] * y**2 + 0.5 * (A[0,1]+A[1,0])* x * y - B[0] * x - B[1] * y + C\n",
    "#quiz.eval_expression('18', otra_respuesta)"
   ]
  },
  {
   "cell_type": "code",
   "execution_count": null,
   "id": "ceea2ce9-ae51-4c0e-8aac-935978b8c628",
   "metadata": {},
   "outputs": [],
   "source": []
  }
 ],
 "metadata": {
  "kernelspec": {
   "display_name": "Python 3 (ipykernel)",
   "language": "python",
   "name": "python3"
  },
  "language_info": {
   "codemirror_mode": {
    "name": "ipython",
    "version": 3
   },
   "file_extension": ".py",
   "mimetype": "text/x-python",
   "name": "python",
   "nbconvert_exporter": "python",
   "pygments_lexer": "ipython3",
   "version": "3.11.6"
  }
 },
 "nbformat": 4,
 "nbformat_minor": 5
}
