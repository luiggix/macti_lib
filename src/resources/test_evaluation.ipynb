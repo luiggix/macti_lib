{
 "cells": [
  {
   "cell_type": "code",
   "execution_count": 1,
   "id": "e5f6cbc7-872b-4682-afe2-ce63de9822cf",
   "metadata": {
    "editable": true,
    "slideshow": {
     "slide_type": ""
    },
    "tags": []
   },
   "outputs": [],
   "source": [
    "import pandas as pd\n",
    "import numpy as np\n",
    "import sympy as sy\n",
    "#print(np.__file__) # Me da el directorio de instalación de las bibliotecas de Python\n",
    "\n",
    "# La clase FileAnswer permite guardar las respuestas en un archivo\n",
    "# para posteriormente revisarlas con un objeto de la clase Quiz\n",
    "from macti.eval import FileAnswer, Quiz\n",
    "file_answer = FileAnswer()"
   ]
  },
  {
   "cell_type": "markdown",
   "id": "8d44c2ca-2dd8-41bc-9169-01f6da30a31b",
   "metadata": {
    "editable": true,
    "slideshow": {
     "slide_type": ""
    },
    "tags": []
   },
   "source": [
    "## Construcción de las respuestas\n",
    "\n",
    "Se definen las respuestas correctas"
   ]
  },
  {
   "cell_type": "code",
   "execution_count": 2,
   "id": "e9fc27b3-bc75-4176-994e-27f4aefd6d04",
   "metadata": {
    "editable": true,
    "slideshow": {
     "slide_type": ""
    },
    "tags": []
   },
   "outputs": [],
   "source": [
    "#----- CREACIÓN DE RESPUESTAS\n",
    "opcion = 'c'\n",
    "    \n",
    "# Símbolos de sympy para cálculo simbólico\n",
    "x = sy.Symbol('x')\n",
    "y = sy.Symbol('y')\n",
    "    \n",
    "# Función simbólica\n",
    "derivada = x*x\n",
    "    \n",
    "# Forma cuadrática\n",
    "matriz_np = np.array([[0.10, -1.],[0.30,-1.]] )\n",
    "array_np = np.array([-200, 20])\n",
    "A, B, C = matriz_np, array_np, 0.0\n",
    "forma_cuadratica = 0.5 * A[0,0] * x**2 + 0.5 * A[1,1] * y**2 + 0.5 * (A[0,1]+A[1,0])* x * y - B[0] * x - B[1] * y + C\n",
    "\n",
    "# Datos básicos\n",
    "flotante = 0.1\n",
    "entero = 1\n",
    "logico = True\n",
    "complejo = 1 + 5j\n",
    "\n",
    "# Estructuras de datos\n",
    "lista_num = [0, 1, 3.4]\n",
    "lista = ['luis', 'miguel', 'delacruz']\n",
    "\n",
    "tupla_num = (1.2, 3.1416, np.pi)\n",
    "tupla = ('a', 'b', 'c')\n",
    "\n",
    "conjunto_num = {1, 3, 2, 6, 5, 4}\n",
    "conjunto = {'a', 'b', 'c'}\n",
    "    \n",
    "diccionario_num = {1:3.446, 2:5.6423, 3:2.234324}\n",
    "diccionario_k_str = {'k1':1, 'k2':2, 'k3':3}\n",
    "diccionario_kv_str= {'k1':'luis', 'k2':'miguel', 'k3':'x'}\n",
    "\n",
    "# Arreglos de numpy\n",
    "w = np.sin(np.linspace(0,1,10))\n",
    "arreglo_complejo = np.array([1j,2j,3j,4j,5j])\n",
    "\n",
    "# Estructuras de datos más complejas\n",
    "lista_lista = [[1,2],[3,4]]\n",
    "\n",
    "# Lista y tuplas no ordenadas\n",
    "lista_no = ['a', 'b', 'x', '4', 'c']\n",
    "tupla_no = ('a', 'b', 'x', '4', 'c')\n",
    "\n",
    "diccionario_num_list = {1:[3.446,34.566], 2:[5.6423, 6.7564], 3:[2.234324, 5.65645]}"
   ]
  },
  {
   "cell_type": "markdown",
   "id": "68c650cc-e0a4-4618-8cfd-3214015dff0d",
   "metadata": {
    "editable": true,
    "slideshow": {
     "slide_type": ""
    },
    "tags": []
   },
   "source": [
    "## Almacenamiento de las respuestas"
   ]
  },
  {
   "cell_type": "code",
   "execution_count": 3,
   "id": "c78cf1ce-29e4-4d8b-98e5-f5b888bdab6b",
   "metadata": {},
   "outputs": [
    {
     "name": "stdout",
     "output_type": "stream",
     "text": [
      "Iniciamos con FileAnswer\n",
      "RESPUESTA NO ALMACENADA. No está permitido usar el valor '0' para identificar un ejercicio.\n",
      "\n"
     ]
    }
   ],
   "source": [
    "#----- CREACIÓN DEL DATAFRAME DE RESPUESTAS\n",
    "    \n",
    "print(\"Iniciamos con FileAnswer\")\n",
    "file_answer = FileAnswer()\n",
    "#file_answer.verb = 0 # Se puede cambiar la verbosidad, por omisión es igual 2\n",
    "file_answer.write('0', 'a', 'Opción inválida')\n",
    "file_answer.write('1', opcion, 'Las opciones válidas son ...')\n",
    "    \n",
    "# OJO: las expresiones de sympy se deben convertir en 'str' antes de escribirse en el archivo\n",
    "file_answer.write('2', str(derivada), 'Checa las reglas de derivación')\n",
    "file_answer.write('3', str(forma_cuadratica),'Revisa tus operaciones algebráicas para calcular f(x)')\n",
    "\n",
    "file_answer.write('4', flotante, 'Checa el valor de flotante')\n",
    "file_answer.write('5', entero, 'Checa el valor de entero')\n",
    "file_answer.write('6', logico, 'Checa  logico')\n",
    "file_answer.write('7', complejo, 'Checa el valor de complejo')\n",
    "\n",
    "file_answer.write('8', lista_num, 'Checa la lista numérica')\n",
    "file_answer.write('9', lista, \"checa la estructura de tipo lista\")\n",
    "\n",
    "file_answer.write('10', tupla_num, 'Checa la tupla numérica')\n",
    "file_answer.write('11', tupla, \"checa la estructura de tipo tupla\")\n",
    "\n",
    "file_answer.write('12', conjunto_num, 'Checa los conjuntos numéricos')\n",
    "file_answer.write('13', conjunto, \"checa la estructura de tipo conjunto\")\n",
    "\n",
    "file_answer.write('14', diccionario_num, 'Checa los diccionarios numéricos')\n",
    "file_answer.write('15', diccionario_k_str, 'Checa los diccionarios con keys str')\n",
    "file_answer.write('16', diccionario_kv_str, \"checa la estructura de tipo diccionario\")\n",
    "    \n",
    "mensaje =\"\"\"Puedes poner mucho texto y ver que sucede en la impresión del hint,\n",
    "quizá es necesario usar triples comillas\"\"\"\n",
    "file_answer.write('17', w, mensaje)\n",
    "file_answer.write('18', arreglo_complejo, 'Checa el arreglo complejo')\n",
    "\n",
    "file_answer.write('19', lista_lista, \"Checa la lista de listas\")\n",
    "file_answer.write('20', lista_no, \"Checa la lista NO ordenada\")\n",
    "file_answer.write('21', tupla_no, \"Checa la tupla NO ordenada\")\n",
    "\n",
    "#file_answer.write('21', diccionario_num_list, 'Checa los diccionarios numéricos con valores tipo lista')"
   ]
  },
  {
   "cell_type": "markdown",
   "id": "2ae20eda-5b06-444a-9d29-31cd40ccd3ed",
   "metadata": {},
   "source": [
    "## Escribimos la respuesta en un archivo"
   ]
  },
  {
   "cell_type": "code",
   "execution_count": 4,
   "id": "f1488726-7b68-4897-b035-512f271c557e",
   "metadata": {},
   "outputs": [
    {
     "name": "stdout",
     "output_type": "stream",
     "text": [
      "El directorio :/Users/luiggi/GitSites/macti_lib/src/.ans/resources/ ya existe\n",
      "Respuestas y retroalimentación almacenadas.\n"
     ]
    }
   ],
   "source": [
    "#----- ESCRITURA DE LAS RESPUESTAS Y LA RETROALIMENTACIÓN ARCHIVOS.    \n",
    "file_answer.to_file('test01')"
   ]
  },
  {
   "cell_type": "markdown",
   "id": "a2adef6e-8ece-4fd4-92f3-5869d42b9f88",
   "metadata": {
    "editable": true,
    "slideshow": {
     "slide_type": ""
    },
    "tags": []
   },
   "source": [
    "## Mostramos el archivo de respuestas y la retroalimentación"
   ]
  },
  {
   "cell_type": "code",
   "execution_count": 5,
   "id": "013b40b6-0ced-4afc-9d88-ecce897319cd",
   "metadata": {},
   "outputs": [
    {
     "name": "stdout",
     "output_type": "stream",
     "text": [
      "\n",
      "----- RESPUESTAS Y DE RETROALIMENTACIÓN\n",
      "Pregunta 1:\n",
      " a --> c\n",
      " f --> Las opciones válidas son ...\n",
      "\n",
      "Pregunta 2:\n",
      " a --> x**2\n",
      " f --> Checa las reglas de derivación\n",
      "\n",
      "Pregunta 3:\n",
      " a --> 0.05*x**2 - 0.35*x*y + 200*x - 0.5*y**2 - 20*y\n",
      " f --> Revisa tus operaciones algebráicas para calcular f(x)\n",
      "\n",
      "Pregunta 4:\n",
      " a --> 0.1\n",
      " f --> Checa el valor de flotante\n",
      "\n",
      "Pregunta 5:\n",
      " a --> 1\n",
      " f --> Checa el valor de entero\n",
      "\n",
      "Pregunta 6:\n",
      " a --> True\n",
      " f --> Checa  logico\n",
      "\n",
      "Pregunta 7:\n",
      " a --> [1. 5.]\n",
      " f --> Checa el valor de complejo\n",
      "\n",
      "Pregunta 8:\n",
      " a --> [0.  1.  3.4]\n",
      " f --> Checa la lista numérica\n",
      "\n",
      "Pregunta 9:\n",
      " a --> ['luis' 'miguel' 'delacruz']\n",
      " f --> checa la estructura de tipo lista\n",
      "\n",
      "Pregunta 10:\n",
      " a --> [1.2        3.1416     3.14159265]\n",
      " f --> Checa la tupla numérica\n",
      "\n",
      "Pregunta 11:\n",
      " a --> ['a' 'b' 'c']\n",
      " f --> checa la estructura de tipo tupla\n",
      "\n",
      "Pregunta 12:\n",
      " a --> [1 2 3 4 5 6]\n",
      " f --> Checa los conjuntos numéricos\n",
      "\n",
      "Pregunta 13:\n",
      " a --> ['a' 'c' 'b']\n",
      " f --> checa la estructura de tipo conjunto\n",
      "\n",
      "Pregunta 14_len:\n",
      " a --> 3\n",
      " f --> Checa los diccionarios numéricos. \n",
      "14_len Longitudes de los diccionarios incompatibles.\n",
      "\n",
      "Pregunta 14_key:\n",
      " a --> [1 2 3]\n",
      " f --> Checa los diccionarios numéricos. \n",
      "14_key Keys del diccionario incompatibles.\n",
      "\n",
      "Pregunta 14_val_0:\n",
      " a --> 3.446\n",
      " f --> Checa los diccionarios numéricos. \n",
      "14_val_0 Valor en el diccionario incorrecto.\n",
      "\n",
      "Pregunta 14_val_1:\n",
      " a --> 5.6423\n",
      " f --> Checa los diccionarios numéricos. \n",
      "14_val_1 Valor en el diccionario incorrecto.\n",
      "\n",
      "Pregunta 14_val_2:\n",
      " a --> 2.234324\n",
      " f --> Checa los diccionarios numéricos. \n",
      "14_val_2 Valor en el diccionario incorrecto.\n",
      "\n",
      "Pregunta 15_len:\n",
      " a --> 3\n",
      " f --> Checa los diccionarios con keys str. \n",
      "15_len Longitudes de los diccionarios incompatibles.\n",
      "\n",
      "Pregunta 15_key:\n",
      " a --> ['k1' 'k2' 'k3']\n",
      " f --> Checa los diccionarios con keys str. \n",
      "15_key Keys del diccionario incompatibles.\n",
      "\n",
      "Pregunta 15_val_0:\n",
      " a --> 1\n",
      " f --> Checa los diccionarios con keys str. \n",
      "15_val_0 Valor en el diccionario incorrecto.\n",
      "\n",
      "Pregunta 15_val_1:\n",
      " a --> 2\n",
      " f --> Checa los diccionarios con keys str. \n",
      "15_val_1 Valor en el diccionario incorrecto.\n",
      "\n",
      "Pregunta 15_val_2:\n",
      " a --> 3\n",
      " f --> Checa los diccionarios con keys str. \n",
      "15_val_2 Valor en el diccionario incorrecto.\n",
      "\n",
      "Pregunta 16_len:\n",
      " a --> 3\n",
      " f --> checa la estructura de tipo diccionario. \n",
      "16_len Longitudes de los diccionarios incompatibles.\n",
      "\n",
      "Pregunta 16_key:\n",
      " a --> ['k1' 'k2' 'k3']\n",
      " f --> checa la estructura de tipo diccionario. \n",
      "16_key Keys del diccionario incompatibles.\n",
      "\n",
      "Pregunta 16_val_0:\n",
      " a --> luis\n",
      " f --> checa la estructura de tipo diccionario. \n",
      "16_val_0 Valor en el diccionario incorrecto.\n",
      "\n",
      "Pregunta 16_val_1:\n",
      " a --> miguel\n",
      " f --> checa la estructura de tipo diccionario. \n",
      "16_val_1 Valor en el diccionario incorrecto.\n",
      "\n",
      "Pregunta 16_val_2:\n",
      " a --> x\n",
      " f --> checa la estructura de tipo diccionario. \n",
      "16_val_2 Valor en el diccionario incorrecto.\n",
      "\n",
      "Pregunta 17:\n",
      " a --> [0.         0.11088263 0.22039774 0.3271947  0.42995636 0.52741539\n",
      " 0.6183698  0.70169788 0.77637192 0.84147098]\n",
      " f --> Puedes poner mucho texto y ver que sucede en la impresión del hint,\n",
      "quizá es necesario usar triples comillas\n",
      "\n",
      "Pregunta 18:\n",
      " a --> [0. 1. 0. 2. 0. 3. 0. 4. 0. 5.]\n",
      " f --> Checa el arreglo complejo\n",
      "\n",
      "Pregunta 19:\n",
      " a --> [1 2 3 4]\n",
      " f --> Checa la lista de listas\n",
      "\n",
      "Pregunta 20:\n",
      " a --> ['a' 'b' 'x' '4' 'c']\n",
      " f --> Checa la lista NO ordenada\n",
      "\n",
      "Pregunta 21:\n",
      " a --> ['a' 'b' 'x' '4' 'c']\n",
      " f --> Checa la tupla NO ordenada\n",
      "\n",
      "Pregunta 0:\n",
      " a --> 2\n",
      " f --> None\n",
      "\n"
     ]
    },
    {
     "data": {
      "text/plain": [
       "[None,\n",
       " None,\n",
       " None,\n",
       " None,\n",
       " None,\n",
       " None,\n",
       " None,\n",
       " None,\n",
       " None,\n",
       " None,\n",
       " None,\n",
       " None,\n",
       " None,\n",
       " None,\n",
       " None,\n",
       " None,\n",
       " None,\n",
       " None,\n",
       " None,\n",
       " None,\n",
       " None,\n",
       " None,\n",
       " None,\n",
       " None,\n",
       " None,\n",
       " None,\n",
       " None,\n",
       " None,\n",
       " None,\n",
       " None,\n",
       " None,\n",
       " None,\n",
       " None,\n",
       " None]"
      ]
     },
     "execution_count": 5,
     "metadata": {},
     "output_type": "execute_result"
    }
   ],
   "source": [
    "ans = pd.read_parquet('../.ans/resources/.__ans_test01')\n",
    "fee = pd.read_parquet('../.ans/resources/.__fee_test01')\n",
    "print(\"\\n----- RESPUESTAS Y DE RETROALIMENTACIÓN\")\n",
    "fstr = \"Pregunta {}:\\n a --> {}\\n f --> {}\\n\"\n",
    "[print(fstr.format(i, ans[i][0], fee[i][0])) for i in ans.columns]\n",
    "\n",
    "#    print(len(file_answer.answers), \"\\n\", file_answer.answers)\n",
    "#    print()\n",
    "#    print(len(file_answer.feedback), \"\\n\", file_answer.feedback)"
   ]
  },
  {
   "cell_type": "code",
   "execution_count": 6,
   "id": "ec3087bc-f266-460a-829d-5d473e211a4a",
   "metadata": {
    "editable": true,
    "slideshow": {
     "slide_type": ""
    },
    "tags": []
   },
   "outputs": [
    {
     "data": {
      "text/html": [
       "<div>\n",
       "<style scoped>\n",
       "    .dataframe tbody tr th:only-of-type {\n",
       "        vertical-align: middle;\n",
       "    }\n",
       "\n",
       "    .dataframe tbody tr th {\n",
       "        vertical-align: top;\n",
       "    }\n",
       "\n",
       "    .dataframe thead th {\n",
       "        text-align: right;\n",
       "    }\n",
       "</style>\n",
       "<table border=\"1\" class=\"dataframe\">\n",
       "  <thead>\n",
       "    <tr style=\"text-align: right;\">\n",
       "      <th></th>\n",
       "      <th>1</th>\n",
       "      <th>2</th>\n",
       "      <th>3</th>\n",
       "      <th>4</th>\n",
       "      <th>5</th>\n",
       "      <th>6</th>\n",
       "      <th>7</th>\n",
       "      <th>8</th>\n",
       "      <th>9</th>\n",
       "      <th>10</th>\n",
       "      <th>...</th>\n",
       "      <th>16_key</th>\n",
       "      <th>16_val_0</th>\n",
       "      <th>16_val_1</th>\n",
       "      <th>16_val_2</th>\n",
       "      <th>17</th>\n",
       "      <th>18</th>\n",
       "      <th>19</th>\n",
       "      <th>20</th>\n",
       "      <th>21</th>\n",
       "      <th>0</th>\n",
       "    </tr>\n",
       "  </thead>\n",
       "  <tbody>\n",
       "    <tr>\n",
       "      <th>0</th>\n",
       "      <td>c</td>\n",
       "      <td>x**2</td>\n",
       "      <td>0.05*x**2 - 0.35*x*y + 200*x - 0.5*y**2 - 20*y</td>\n",
       "      <td>0.1</td>\n",
       "      <td>1</td>\n",
       "      <td>True</td>\n",
       "      <td>[1.0, 5.0]</td>\n",
       "      <td>[0.0, 1.0, 3.4]</td>\n",
       "      <td>[luis, miguel, delacruz]</td>\n",
       "      <td>[1.2, 3.1416, 3.141592653589793]</td>\n",
       "      <td>...</td>\n",
       "      <td>[k1, k2, k3]</td>\n",
       "      <td>luis</td>\n",
       "      <td>miguel</td>\n",
       "      <td>x</td>\n",
       "      <td>[0.0, 0.11088262850995298, 0.22039774345612226...</td>\n",
       "      <td>[0.0, 1.0, 0.0, 2.0, 0.0, 3.0, 0.0, 4.0, 0.0, ...</td>\n",
       "      <td>[1, 2, 3, 4]</td>\n",
       "      <td>[a, b, x, 4, c]</td>\n",
       "      <td>[a, b, x, 4, c]</td>\n",
       "      <td>2</td>\n",
       "    </tr>\n",
       "  </tbody>\n",
       "</table>\n",
       "<p>1 rows × 34 columns</p>\n",
       "</div>"
      ],
      "text/plain": [
       "   1     2                                               3    4  5     6  \\\n",
       "0  c  x**2  0.05*x**2 - 0.35*x*y + 200*x - 0.5*y**2 - 20*y  0.1  1  True   \n",
       "\n",
       "            7                8                         9  \\\n",
       "0  [1.0, 5.0]  [0.0, 1.0, 3.4]  [luis, miguel, delacruz]   \n",
       "\n",
       "                                 10  ...        16_key 16_val_0 16_val_1  \\\n",
       "0  [1.2, 3.1416, 3.141592653589793]  ...  [k1, k2, k3]     luis   miguel   \n",
       "\n",
       "   16_val_2                                                 17  \\\n",
       "0         x  [0.0, 0.11088262850995298, 0.22039774345612226...   \n",
       "\n",
       "                                                  18            19  \\\n",
       "0  [0.0, 1.0, 0.0, 2.0, 0.0, 3.0, 0.0, 4.0, 0.0, ...  [1, 2, 3, 4]   \n",
       "\n",
       "                20               21  0  \n",
       "0  [a, b, x, 4, c]  [a, b, x, 4, c]  2  \n",
       "\n",
       "[1 rows x 34 columns]"
      ]
     },
     "execution_count": 6,
     "metadata": {},
     "output_type": "execute_result"
    }
   ],
   "source": [
    "# Las respuestas\n",
    "ans"
   ]
  },
  {
   "cell_type": "code",
   "execution_count": 7,
   "id": "8f31628f-0fae-4d0f-af1e-04ab5a09aa4e",
   "metadata": {
    "editable": true,
    "slideshow": {
     "slide_type": ""
    },
    "tags": []
   },
   "outputs": [
    {
     "data": {
      "text/html": [
       "<div>\n",
       "<style scoped>\n",
       "    .dataframe tbody tr th:only-of-type {\n",
       "        vertical-align: middle;\n",
       "    }\n",
       "\n",
       "    .dataframe tbody tr th {\n",
       "        vertical-align: top;\n",
       "    }\n",
       "\n",
       "    .dataframe thead th {\n",
       "        text-align: right;\n",
       "    }\n",
       "</style>\n",
       "<table border=\"1\" class=\"dataframe\">\n",
       "  <thead>\n",
       "    <tr style=\"text-align: right;\">\n",
       "      <th></th>\n",
       "      <th>1</th>\n",
       "      <th>2</th>\n",
       "      <th>3</th>\n",
       "      <th>4</th>\n",
       "      <th>5</th>\n",
       "      <th>6</th>\n",
       "      <th>7</th>\n",
       "      <th>8</th>\n",
       "      <th>9</th>\n",
       "      <th>10</th>\n",
       "      <th>...</th>\n",
       "      <th>16_key</th>\n",
       "      <th>16_val_0</th>\n",
       "      <th>16_val_1</th>\n",
       "      <th>16_val_2</th>\n",
       "      <th>17</th>\n",
       "      <th>18</th>\n",
       "      <th>19</th>\n",
       "      <th>20</th>\n",
       "      <th>21</th>\n",
       "      <th>0</th>\n",
       "    </tr>\n",
       "  </thead>\n",
       "  <tbody>\n",
       "    <tr>\n",
       "      <th>0</th>\n",
       "      <td>Las opciones válidas son ...</td>\n",
       "      <td>Checa las reglas de derivación</td>\n",
       "      <td>Revisa tus operaciones algebráicas para calcul...</td>\n",
       "      <td>Checa el valor de flotante</td>\n",
       "      <td>Checa el valor de entero</td>\n",
       "      <td>Checa  logico</td>\n",
       "      <td>Checa el valor de complejo</td>\n",
       "      <td>Checa la lista numérica</td>\n",
       "      <td>checa la estructura de tipo lista</td>\n",
       "      <td>Checa la tupla numérica</td>\n",
       "      <td>...</td>\n",
       "      <td>checa la estructura de tipo diccionario. \\n16_...</td>\n",
       "      <td>checa la estructura de tipo diccionario. \\n16_...</td>\n",
       "      <td>checa la estructura de tipo diccionario. \\n16_...</td>\n",
       "      <td>checa la estructura de tipo diccionario. \\n16_...</td>\n",
       "      <td>Puedes poner mucho texto y ver que sucede en l...</td>\n",
       "      <td>Checa el arreglo complejo</td>\n",
       "      <td>Checa la lista de listas</td>\n",
       "      <td>Checa la lista NO ordenada</td>\n",
       "      <td>Checa la tupla NO ordenada</td>\n",
       "      <td>None</td>\n",
       "    </tr>\n",
       "  </tbody>\n",
       "</table>\n",
       "<p>1 rows × 34 columns</p>\n",
       "</div>"
      ],
      "text/plain": [
       "                              1                               2  \\\n",
       "0  Las opciones válidas son ...  Checa las reglas de derivación   \n",
       "\n",
       "                                                   3  \\\n",
       "0  Revisa tus operaciones algebráicas para calcul...   \n",
       "\n",
       "                            4                         5              6  \\\n",
       "0  Checa el valor de flotante  Checa el valor de entero  Checa  logico   \n",
       "\n",
       "                            7                        8  \\\n",
       "0  Checa el valor de complejo  Checa la lista numérica   \n",
       "\n",
       "                                   9                       10  ...  \\\n",
       "0  checa la estructura de tipo lista  Checa la tupla numérica  ...   \n",
       "\n",
       "                                              16_key  \\\n",
       "0  checa la estructura de tipo diccionario. \\n16_...   \n",
       "\n",
       "                                            16_val_0  \\\n",
       "0  checa la estructura de tipo diccionario. \\n16_...   \n",
       "\n",
       "                                            16_val_1  \\\n",
       "0  checa la estructura de tipo diccionario. \\n16_...   \n",
       "\n",
       "                                            16_val_2  \\\n",
       "0  checa la estructura de tipo diccionario. \\n16_...   \n",
       "\n",
       "                                                  17  \\\n",
       "0  Puedes poner mucho texto y ver que sucede en l...   \n",
       "\n",
       "                          18                        19  \\\n",
       "0  Checa el arreglo complejo  Checa la lista de listas   \n",
       "\n",
       "                           20                          21     0  \n",
       "0  Checa la lista NO ordenada  Checa la tupla NO ordenada  None  \n",
       "\n",
       "[1 rows x 34 columns]"
      ]
     },
     "execution_count": 7,
     "metadata": {},
     "output_type": "execute_result"
    }
   ],
   "source": [
    "# La retroalimentación\n",
    "fee"
   ]
  },
  {
   "cell_type": "markdown",
   "id": "0eafe447-05fd-457d-8f40-5d9494d3ea60",
   "metadata": {
    "editable": true,
    "slideshow": {
     "slide_type": ""
    },
    "tags": []
   },
   "source": [
    "# Evaluación de las respuestas"
   ]
  },
  {
   "cell_type": "code",
   "execution_count": 8,
   "id": "91e224eb-cf57-480c-9e07-7eae95f80873",
   "metadata": {},
   "outputs": [
    {
     "name": "stdout",
     "output_type": "stream",
     "text": [
      "El directorio :/Users/luiggi/GitSites/macti_lib/src/.ans/resources/ ya existe\n",
      "Respuestas y retroalimentación almacenadas.\n"
     ]
    }
   ],
   "source": [
    "# Cambiando la verbosidad de la retroalimentación\n",
    "file_answer.verb = 2 # (Default) se toda la retroalimentación posible.\n",
    "#file_answer.verb = 1 # Se proporciona poca ayuda.\n",
    "#file_answer.verb = 0 # No se da nada de ayuda\n",
    "file_answer.to_file('test01') # Se debe escribir el archivo nuevamente."
   ]
  },
  {
   "cell_type": "code",
   "execution_count": 9,
   "id": "44f739e6-2692-4b8c-8317-1a793e80a0e3",
   "metadata": {
    "editable": true,
    "slideshow": {
     "slide_type": ""
    },
    "tags": []
   },
   "outputs": [],
   "source": [
    "# Se usa un objeto de la clase Quiz para evaluar las respuestas\n",
    "quiz = Quiz('test01', 'local')"
   ]
  },
  {
   "cell_type": "code",
   "execution_count": 12,
   "id": "b04ecf03-11bc-4c2c-83db-6dc7e0d1dd82",
   "metadata": {},
   "outputs": [
    {
     "name": "stdout",
     "output_type": "stream",
     "text": [
      "Quiz ID: test01\n",
      "\n",
      "Verbosidad de la ayuda : 2 \n",
      "\n"
     ]
    }
   ],
   "source": [
    "print(\"Quiz ID:\", file_answer.quiz_num)\n",
    "\n",
    "quiz = Quiz(file_answer.quiz_num, 'local')\n",
    "\n",
    "print('\\nVerbosidad de la ayuda : {} \\n'.format(quiz.verb))"
   ]
  },
  {
   "cell_type": "markdown",
   "id": "37074239-8448-423f-9197-be081dade5f2",
   "metadata": {
    "editable": true,
    "slideshow": {
     "slide_type": ""
    },
    "tags": []
   },
   "source": [
    "## `eval_option()`"
   ]
  },
  {
   "cell_type": "code",
   "execution_count": 13,
   "id": "5e53cb86-445f-4fd1-bd2e-122530621dfe",
   "metadata": {
    "editable": true,
    "slideshow": {
     "slide_type": ""
    },
    "tags": []
   },
   "outputs": [
    {
     "name": "stdout",
     "output_type": "stream",
     "text": [
      "Opción\n",
      "\u001b[39m――――――――――――――――――――――――――――――――――――――――\n",
      "\u001b[32m1 | Tu respuesta: \u001b[39mc\u001b[32m, es correcta.\n",
      "\u001b[39m――――――――――――――――――――――――――――――――――――――――\n"
     ]
    }
   ],
   "source": [
    "print('Opción')\n",
    "quiz.eval_option('1', opcion)"
   ]
  },
  {
   "cell_type": "code",
   "execution_count": 15,
   "id": "ede3f924-3944-4602-a4b8-c88915b26e5b",
   "metadata": {},
   "outputs": [],
   "source": [
    "# Respuesta incorrecta\n",
    "#quiz.eval_option('1', 'a')"
   ]
  },
  {
   "cell_type": "markdown",
   "id": "d5079031-5d34-4cef-afa1-54f92d34dce0",
   "metadata": {},
   "source": [
    "## `eval_expression()`"
   ]
  },
  {
   "cell_type": "markdown",
   "id": "d93d3ae1-cd47-4453-a3e7-acdfdc6640b7",
   "metadata": {
    "editable": true,
    "slideshow": {
     "slide_type": ""
    },
    "tags": []
   },
   "source": [
    "¿Cuál es la derivada de $f(x) = \\frac{x^3}{3}$?"
   ]
  },
  {
   "cell_type": "code",
   "execution_count": 16,
   "id": "8ba223f9-cf5e-4df5-b596-ebbe1daae4f0",
   "metadata": {},
   "outputs": [
    {
     "name": "stdout",
     "output_type": "stream",
     "text": [
      "Expresión\n",
      "\u001b[39m――――――――――――――――――――――――――――――――――――――――\n",
      "\u001b[32m2 | Tu respuesta:\n"
     ]
    },
    {
     "data": {
      "text/latex": [
       "$\\displaystyle x^{2}$"
      ],
      "text/plain": [
       "x**2"
      ]
     },
     "metadata": {},
     "output_type": "display_data"
    },
    {
     "name": "stdout",
     "output_type": "stream",
     "text": [
      "\u001b[32mes correcta.\n",
      "\u001b[39m――――――――――――――――――――――――――――――――――――――――\n"
     ]
    }
   ],
   "source": [
    "print('Expresión')\n",
    "quiz.eval_expression('2', derivada)"
   ]
  },
  {
   "cell_type": "code",
   "execution_count": 18,
   "id": "9208d7ab-9d76-4b1b-b55b-aed0634efed0",
   "metadata": {},
   "outputs": [],
   "source": [
    "# Respuesta incorrecta\n",
    "#x = sy.Symbol('x')\n",
    "#resultado = x**3\n",
    "#quiz.eval_expression('2', resultado)"
   ]
  },
  {
   "cell_type": "code",
   "execution_count": 19,
   "id": "6644ad2d-dc9e-4042-8f29-97dcb3b2dd31",
   "metadata": {},
   "outputs": [
    {
     "name": "stdout",
     "output_type": "stream",
     "text": [
      "Expresión más compleja\n",
      "\u001b[39m――――――――――――――――――――――――――――――――――――――――\n",
      "\u001b[32m3 | Tu respuesta:\n"
     ]
    },
    {
     "data": {
      "text/latex": [
       "$\\displaystyle 0.05 x^{2} - 0.35 x y + 200 x - 0.5 y^{2} - 20 y$"
      ],
      "text/plain": [
       "0.05*x**2 - 0.35*x*y + 200*x - 0.5*y**2 - 20*y"
      ]
     },
     "metadata": {},
     "output_type": "display_data"
    },
    {
     "name": "stdout",
     "output_type": "stream",
     "text": [
      "\u001b[32mes correcta.\n",
      "\u001b[39m――――――――――――――――――――――――――――――――――――――――\n"
     ]
    }
   ],
   "source": [
    "# Otra evaluación de una expresión\n",
    "print('Expresión más compleja')\n",
    "quiz.eval_expression('3', forma_cuadratica)"
   ]
  },
  {
   "cell_type": "markdown",
   "id": "4062aab0-2421-4b07-9af7-78f225f3cf45",
   "metadata": {},
   "source": [
    "## `eval_numeric()`\n",
    "\n",
    "### Tipos numéricos básicos"
   ]
  },
  {
   "cell_type": "code",
   "execution_count": 21,
   "id": "4ff75e88-538e-472c-9561-605c4e8cc8a4",
   "metadata": {},
   "outputs": [
    {
     "name": "stdout",
     "output_type": "stream",
     "text": [
      "Flotante\n",
      "\u001b[39m――――――――――――――――――――――――――――――――――――――――\n",
      "\u001b[32m4 | Tu resultado es correcto.\n",
      "\u001b[39m――――――――――――――――――――――――――――――――――――――――\n",
      "Entero\n",
      "\u001b[39m――――――――――――――――――――――――――――――――――――――――\n",
      "\u001b[32m5 | Tu resultado es correcto.\n",
      "\u001b[39m――――――――――――――――――――――――――――――――――――――――\n",
      "Logico\n",
      "\u001b[39m――――――――――――――――――――――――――――――――――――――――\n",
      "\u001b[32m6 | Tu resultado es correcto.\n",
      "\u001b[39m――――――――――――――――――――――――――――――――――――――――\n",
      "Complejo\n",
      "\u001b[39m――――――――――――――――――――――――――――――――――――――――\n",
      "\u001b[32m7 | Tu resultado es correcto.\n",
      "\u001b[39m――――――――――――――――――――――――――――――――――――――――\n"
     ]
    }
   ],
   "source": [
    "print('Flotante')\n",
    "quiz.eval_numeric('4', flotante)\n",
    "    \n",
    "print('Entero')\n",
    "quiz.eval_numeric('5', entero)\n",
    "    \n",
    "print('Logico')\n",
    "quiz.eval_numeric('6', logico)\n",
    "\n",
    "print('Complejo')\n",
    "quiz.eval_numeric('7', complejo)"
   ]
  },
  {
   "cell_type": "markdown",
   "id": "181960f0-5e0a-4cb7-ba93-be839533a091",
   "metadata": {},
   "source": [
    "### Estructuras de datos con valores numéricos."
   ]
  },
  {
   "cell_type": "code",
   "execution_count": 78,
   "id": "9be583f1-fecf-48f4-84bc-c61d6b3dd6e9",
   "metadata": {},
   "outputs": [
    {
     "name": "stdout",
     "output_type": "stream",
     "text": [
      "Lista numérica\n",
      "\u001b[39m――――――――――――――――――――――――――――――――――――――――\n",
      "\u001b[32m8 | Tu resultado es correcto.\n",
      "\u001b[39m――――――――――――――――――――――――――――――――――――――――\n"
     ]
    }
   ],
   "source": [
    "print('Lista numérica')\n",
    "#lista_num[-2] =0.001\n",
    "#lista_num = [0, 1]\n",
    "#lista_num = [0, 1, 3.4] # Respuesta correcta\n",
    "quiz.eval_numeric('8', lista_num)"
   ]
  },
  {
   "cell_type": "code",
   "execution_count": 33,
   "id": "9a4a4f6f-098a-47dc-a323-20067dd431e9",
   "metadata": {},
   "outputs": [
    {
     "name": "stdout",
     "output_type": "stream",
     "text": [
      "Tupla numérica\n",
      "\u001b[39m――――――――――――――――――――――――――――――――――――――――\n",
      "\u001b[32m10 | Tu resultado es correcto.\n",
      "\u001b[39m――――――――――――――――――――――――――――――――――――――――\n"
     ]
    }
   ],
   "source": [
    "print('Tupla numérica')\n",
    "#tupla_num = (1.2, 3.1416, 2*np.pi)\n",
    "#tupla_num = (0, 1)\n",
    "#tupla_num = (1.2, 3.1416, np.pi) # Respuesta correcta\n",
    "quiz.eval_numeric('10', tupla_num)  "
   ]
  },
  {
   "cell_type": "code",
   "execution_count": 83,
   "id": "9ed93b52-84b1-49ab-abba-c4f6e8899f51",
   "metadata": {},
   "outputs": [
    {
     "name": "stdout",
     "output_type": "stream",
     "text": [
      "Conjunto numérico\n",
      "\u001b[39m――――――――――――――――――――――――――――――――――――――――\n",
      "\u001b[32m12 | Tu resultado es correcto.\n",
      "\u001b[39m――――――――――――――――――――――――――――――――――――――――\n"
     ]
    }
   ],
   "source": [
    "print('Conjunto numérico')\n",
    "#conjunto_num = {1,2,3.5,4,5,6}\n",
    "#conjunto_num = {1,2,3,4,5,1}\n",
    "#conjunto_num = {1, 3, 2, 6, 5, 4} # Respuesta correcta\n",
    "quiz.eval_numeric('12', conjunto_num)"
   ]
  },
  {
   "cell_type": "code",
   "execution_count": 88,
   "id": "07ac5731-9459-49fe-b6c0-6ae97f4e4f98",
   "metadata": {},
   "outputs": [
    {
     "name": "stdout",
     "output_type": "stream",
     "text": [
      "numpy array\n",
      "\u001b[39m――――――――――――――――――――――――――――――――――――――――\n",
      "\u001b[32m17 | Tu resultado es correcto.\n",
      "\u001b[39m――――――――――――――――――――――――――――――――――――――――\n"
     ]
    }
   ],
   "source": [
    "print('numpy array')\n",
    "#w[2:4] = 4.5\n",
    "#w = np.sin(np.linspace(0,1,5))\n",
    "#w = np.sin(np.linspace(0,1,10)) # Respuesta correcta\n",
    "quiz.eval_numeric('17', w)"
   ]
  },
  {
   "cell_type": "code",
   "execution_count": 93,
   "id": "49ba2abe-bc97-4b07-a99d-c0a0bf7ece78",
   "metadata": {},
   "outputs": [
    {
     "name": "stdout",
     "output_type": "stream",
     "text": [
      "numpy array complex\n",
      "\u001b[39m――――――――――――――――――――――――――――――――――――――――\n",
      "\u001b[32m18 | Tu resultado es correcto.\n",
      "\u001b[39m――――――――――――――――――――――――――――――――――――――――\n"
     ]
    }
   ],
   "source": [
    "print('numpy array complex')\n",
    "#arreglo_complejo = np.array([0j,2j,3j,4j,5j])\n",
    "#arreglo_complejo = np.array([2j,3j,4j,5j])\n",
    "#arreglo_complejo = np.array([1j,2j,3j,4j,5j]) # Respuesta correcta\n",
    "quiz.eval_numeric('18', arreglo_complejo)"
   ]
  },
  {
   "cell_type": "code",
   "execution_count": 98,
   "id": "6f03b740-8496-4a75-acd3-1923f99c6e23",
   "metadata": {},
   "outputs": [
    {
     "name": "stdout",
     "output_type": "stream",
     "text": [
      "Lista de listas\n",
      "\u001b[39m――――――――――――――――――――――――――――――――――――――――\n",
      "\u001b[32m19 | Tu resultado es correcto.\n",
      "\u001b[39m――――――――――――――――――――――――――――――――――――――――\n"
     ]
    }
   ],
   "source": [
    "print('Lista de listas')\n",
    "#lista_lista = [[1,2],[3.14,4]]\n",
    "#lista_lista = [[1,2],[3,4],[5,6]]\n",
    "#lista_lista = [[1,2],[3,4]] # Respuesta correcta\n",
    "quiz.eval_numeric('19', lista_lista)"
   ]
  },
  {
   "cell_type": "markdown",
   "id": "488571c7-5a47-4241-b4d0-b31b8917e83d",
   "metadata": {},
   "source": [
    "## `eval_datastruct()`\n"
   ]
  },
  {
   "cell_type": "code",
   "execution_count": 103,
   "id": "fd28dedc-d176-4141-b1a2-b440f4c0c33c",
   "metadata": {},
   "outputs": [
    {
     "name": "stdout",
     "output_type": "stream",
     "text": [
      "Lista\n",
      "\u001b[39m――――――――――――――――――――――――――――――――――――――――\n",
      "\u001b[32m9 | Tu resultado es correcto.\n",
      "\u001b[39m――――――――――――――――――――――――――――――――――――――――\n"
     ]
    }
   ],
   "source": [
    "print('Lista')\n",
    "#lista = ['luis', 'migul', 'delacruz']\n",
    "#lista = ['miguel', 'delacruz']\n",
    "#lista = ['luis', 'miguel', 'delacruz'] # Respuesta correcta\n",
    "quiz.eval_datastruct('9', lista)"
   ]
  },
  {
   "cell_type": "code",
   "execution_count": 108,
   "id": "4fb64a07-3094-4f65-98b1-afd3b448d369",
   "metadata": {},
   "outputs": [
    {
     "name": "stdout",
     "output_type": "stream",
     "text": [
      "Tupla\n",
      "\u001b[39m――――――――――――――――――――――――――――――――――――――――\n",
      "\u001b[32m11 | Tu resultado es correcto.\n",
      "\u001b[39m――――――――――――――――――――――――――――――――――――――――\n"
     ]
    }
   ],
   "source": [
    "print('Tupla')\n",
    "#tupla = ('a', 'd', 'c')\n",
    "#tupla = ('a', 'b')\n",
    "#tupla = ('a', 'b', 'c') # Respuesta correcta\n",
    "quiz.eval_datastruct('11', tupla)  "
   ]
  },
  {
   "cell_type": "code",
   "execution_count": 112,
   "id": "b05d4b83-c812-4d21-a527-3e156994b8cb",
   "metadata": {},
   "outputs": [
    {
     "name": "stdout",
     "output_type": "stream",
     "text": [
      "Conjunto\n",
      "\u001b[39m――――――――――――――――――――――――――――――――――――――――\n",
      "\u001b[32m13 | Tu resultado es correcto.\n",
      "\u001b[39m――――――――――――――――――――――――――――――――――――――――\n"
     ]
    }
   ],
   "source": [
    "print('Conjunto')\n",
    "#conjunto = {'a', 'b', 'x'}\n",
    "#conjunto = {'a', 'b'}\n",
    "#conjunto = {'a', 'b', 'c'} # Respuesta correcta\n",
    "quiz.eval_datastruct('13', conjunto)"
   ]
  },
  {
   "cell_type": "markdown",
   "id": "1c521083-9ad1-4e59-8bf8-d21675610442",
   "metadata": {},
   "source": [
    "### No ordenadas"
   ]
  },
  {
   "cell_type": "code",
   "execution_count": 122,
   "id": "fc6ef9a7-426a-4580-b7ad-18fbde9d7185",
   "metadata": {},
   "outputs": [
    {
     "name": "stdout",
     "output_type": "stream",
     "text": [
      "Lista NO ordenada\n",
      "\u001b[39m――――――――――――――――――――――――――――――――――――――――\n",
      "\u001b[31m20 | Ocurrió un error en tus cálculos.\n",
      "\u001b[39m――――――――――――――――――――――――――――――――――――――――\n",
      "\u001b[31mHint: \u001b[31mCheca la lista NO ordenada\n",
      " Lugares donde hay diferencia: [0 1 2 3 4]\n",
      "\n",
      "Arrays are not equal\n",
      "\n",
      "Mismatched elements: 5 / 5 (100%)\n",
      " ACTUAL: array(['x', '4', 'a', 'c', 'b'], dtype='<U1')\n",
      " DESIRED: array(['a', 'b', 'x', '4', 'c'], dtype=object)\n"
     ]
    },
    {
     "ename": "AssertionError",
     "evalue": "",
     "output_type": "error",
     "traceback": [
      "\u001b[0;31m---------------------------------------------------------------------------\u001b[0m",
      "\u001b[0;31mAssertionError\u001b[0m                            Traceback (most recent call last)",
      "Cell \u001b[0;32mIn[122], line 10\u001b[0m\n\u001b[1;32m      5\u001b[0m lista_no \u001b[38;5;241m=\u001b[39m [\u001b[38;5;124m'\u001b[39m\u001b[38;5;124mx\u001b[39m\u001b[38;5;124m'\u001b[39m, \u001b[38;5;124m'\u001b[39m\u001b[38;5;124m4\u001b[39m\u001b[38;5;124m'\u001b[39m, \u001b[38;5;124m'\u001b[39m\u001b[38;5;124ma\u001b[39m\u001b[38;5;124m'\u001b[39m, \u001b[38;5;124m'\u001b[39m\u001b[38;5;124mc\u001b[39m\u001b[38;5;124m'\u001b[39m, \u001b[38;5;124m'\u001b[39m\u001b[38;5;124mb\u001b[39m\u001b[38;5;124m'\u001b[39m]\n\u001b[1;32m      7\u001b[0m \u001b[38;5;66;03m# Los siguientes casos fallan\u001b[39;00m\n\u001b[1;32m      8\u001b[0m \u001b[38;5;66;03m#lista_no = ['x', '4', 'c', 'b']\u001b[39;00m\n\u001b[1;32m      9\u001b[0m \u001b[38;5;66;03m#lista_no = ['x', '4', 'c', 'b', 'y']\u001b[39;00m\n\u001b[0;32m---> 10\u001b[0m \u001b[43mquiz\u001b[49m\u001b[38;5;241;43m.\u001b[39;49m\u001b[43meval_datastruct\u001b[49m\u001b[43m(\u001b[49m\u001b[38;5;124;43m'\u001b[39;49m\u001b[38;5;124;43m20\u001b[39;49m\u001b[38;5;124;43m'\u001b[39;49m\u001b[43m,\u001b[49m\u001b[43m \u001b[49m\u001b[43mlista_no\u001b[49m\u001b[43m)\u001b[49m\u001b[38;5;66;03m#, inorder=False)\u001b[39;00m\n",
      "File \u001b[0;32m~/Library/Python/3.12/lib/python/site-packages/macti/eval/evaluation.py:632\u001b[0m, in \u001b[0;36mQuiz.eval_datastruct\u001b[0;34m(self, enum, ans, inorder)\u001b[0m\n\u001b[1;32m    629\u001b[0m     \u001b[38;5;28mself\u001b[39m\u001b[38;5;241m.\u001b[39m__print_error_hint(enum, msg\u001b[38;5;241m=\u001b[39mmsg, info\u001b[38;5;241m=\u001b[39minfo)\n\u001b[1;32m    631\u001b[0m     \u001b[38;5;66;03m# Se lanza la excepción para que sea detectada por NBGrader\u001b[39;00m\n\u001b[0;32m--> 632\u001b[0m     \u001b[38;5;28;01mraise\u001b[39;00m \u001b[38;5;167;01mAssertionError\u001b[39;00m \u001b[38;5;28;01mfrom\u001b[39;00m \u001b[38;5;28;01mNone\u001b[39;00m\n\u001b[1;32m    634\u001b[0m \u001b[38;5;28;01melse\u001b[39;00m:\n\u001b[1;32m    635\u001b[0m     \u001b[38;5;28mself\u001b[39m\u001b[38;5;241m.\u001b[39m__print_correct(enum)\n",
      "\u001b[0;31mAssertionError\u001b[0m: "
     ]
    }
   ],
   "source": [
    "print('Lista NO ordenada')\n",
    "# Lista original: lista_no = ['a', 'b', 'x', '4', 'c']\n",
    "\n",
    "# La respuesta puede estar en otro orden y ser correcta\n",
    "lista_no = ['x', '4', 'a', 'c', 'b']\n",
    "\n",
    "# Los siguientes casos fallan\n",
    "#lista_no = ['x', '4', 'c', 'b']\n",
    "#lista_no = ['x', '4', 'c', 'b', 'y']\n",
    "quiz.eval_datastruct('20', lista_no, in_order=False)"
   ]
  },
  {
   "cell_type": "code",
   "execution_count": 125,
   "id": "adb84a65-4b18-4828-b178-df632e49881e",
   "metadata": {},
   "outputs": [
    {
     "name": "stdout",
     "output_type": "stream",
     "text": [
      "Tupla NO ordenada\n",
      "\u001b[39m――――――――――――――――――――――――――――――――――――――――\n",
      "\u001b[32m21 | Tu resultado es correcto.\n",
      "\u001b[39m――――――――――――――――――――――――――――――――――――――――\n"
     ]
    }
   ],
   "source": [
    "print('Tupla NO ordenada')\n",
    "# Tupla original: tupla_no = ('a', 'b', 'x', '4', 'c')\n",
    "\n",
    "# La respuesta puede estar en otro orden y ser correcta\n",
    "tupla_no = ('x', '4', 'a', 'c', 'b')\n",
    "\n",
    "# Los siguientes casos fallan\n",
    "#tupla_no = ('x', '4', 'c', 'b')\n",
    "#tupla_no = ('x', '4', 'c', 'b', 'y')\n",
    "quiz.eval_datastruct('21', tupla_no, in_order=False)"
   ]
  },
  {
   "cell_type": "markdown",
   "id": "e9adf163-7d01-4da8-b908-5f3db75949f2",
   "metadata": {},
   "source": [
    "## `eval_dict()`"
   ]
  },
  {
   "cell_type": "code",
   "execution_count": 131,
   "id": "0ba2b43d-4ff6-4155-ad7c-543b1003565d",
   "metadata": {},
   "outputs": [
    {
     "name": "stdout",
     "output_type": "stream",
     "text": [
      "Diccionario numérico\n",
      "\u001b[39m――――――――――――――――――――――――――――――――――――――――\n",
      "\u001b[32m14_val_2 | Tu resultado es correcto.\n",
      "\u001b[39m――――――――――――――――――――――――――――――――――――――――\n"
     ]
    }
   ],
   "source": [
    "print('Diccionario numérico')\n",
    "#diccionario_num = {1:3.44, 4:5.6423, 3:2.234324} # Keys\n",
    "#diccionario_num = {1:3.446, 2:5.642, 3:2.234324} # Values\n",
    "#diccionario_num = {1:3.446, 2:5.6423} # Length\n",
    "#diccionario_num = {1:3.446, 2:5.6423, 3:2.234324} # Respuesta correcta\n",
    "quiz.eval_dict('14', diccionario_num)"
   ]
  },
  {
   "cell_type": "code",
   "execution_count": 138,
   "id": "7ba9548f-c1c4-49b6-aba1-b22c4a5e03f8",
   "metadata": {},
   "outputs": [
    {
     "name": "stdout",
     "output_type": "stream",
     "text": [
      "Diccionario con keys str y values numéricos\n",
      "\u001b[39m――――――――――――――――――――――――――――――――――――――――\n",
      "\u001b[32m15_val_2 | Tu resultado es correcto.\n",
      "\u001b[39m――――――――――――――――――――――――――――――――――――――――\n"
     ]
    }
   ],
   "source": [
    "print('Diccionario con keys str y values numéricos')\n",
    "#diccionario_k_str = {'k1':1, 'k4':2, 'k3':3} # Keys\n",
    "#diccionario_k_str = {'k1':1, 'k2':2.4, 'k3':3} # Values\n",
    "#diccionario_k_str = {'k1':1, 'k2':2} # Length\n",
    "#diccionario_k_str = {'k1':1, 'k2':2, 'k3':3} # Respuesta correcta\n",
    "quiz.eval_dict('15', diccionario_k_str)"
   ]
  },
  {
   "cell_type": "code",
   "execution_count": 143,
   "id": "7092034a-7f08-4bf2-b7f9-afedfcd31b72",
   "metadata": {},
   "outputs": [
    {
     "name": "stdout",
     "output_type": "stream",
     "text": [
      "Diccionario numérico con keys and values str\n",
      "\u001b[39m――――――――――――――――――――――――――――――――――――――――\n",
      "\u001b[32m16_val_2 | Tu resultado es correcto.\n",
      "\u001b[39m――――――――――――――――――――――――――――――――――――――――\n"
     ]
    }
   ],
   "source": [
    "print('Diccionario numérico con keys and values str')\n",
    "#diccionario_kv_str= {'k1':'luis', 'k4':'miguel', 'k3':'x'} # Keys\n",
    "#diccionario_kv_str= {'k1':'luis', 'k2':'mil', 'k3':'x'} # Values\n",
    "#diccionario_kv_str= {'k1':'luis', 'k2':'miguel'} # Length\n",
    "diccionario_kv_str= {'k1':'luis', 'k2':'miguel', 'k3':'x'} # Respuesta correcta\n",
    "quiz.eval_dict('16', diccionario_kv_str, numeric = False)"
   ]
  },
  {
   "cell_type": "code",
   "execution_count": null,
   "id": "ceea2ce9-ae51-4c0e-8aac-935978b8c628",
   "metadata": {},
   "outputs": [],
   "source": []
  }
 ],
 "metadata": {
  "kernelspec": {
   "display_name": "Python 3 (ipykernel)",
   "language": "python",
   "name": "python3"
  },
  "language_info": {
   "codemirror_mode": {
    "name": "ipython",
    "version": 3
   },
   "file_extension": ".py",
   "mimetype": "text/x-python",
   "name": "python",
   "nbconvert_exporter": "python",
   "pygments_lexer": "ipython3",
   "version": "3.12.3"
  }
 },
 "nbformat": 4,
 "nbformat_minor": 5
}
