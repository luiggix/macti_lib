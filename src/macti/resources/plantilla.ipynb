{
 "cells": [
  {
   "cell_type": "markdown",
   "id": "96b6f51e-6db0-4433-a259-3e8584d638d0",
   "metadata": {},
   "source": [
    "# Plantilla inicial\n",
    "\n",
    "**Objetivo.**\n",
    "Escribir un objetivo claro y conciso.\n",
    "\n",
    " <p xmlns:cc=\"http://creativecommons.org/ns#\" xmlns:dct=\"http://purl.org/dc/terms/\"><a property=\"dct:title\" rel=\"cc:attributionURL\" href=\"https://github.com/repomacti/macti/tree/main/plantillas\">MACTI-Plantillas</a> by <a rel=\"cc:attributionURL dct:creator\" property=\"cc:attributionName\" href=\"https://www.macti.unam.mx\">Luis M. de la Cruz</a> is licensed under <a href=\"http://creativecommons.org/licenses/by-sa/4.0/?ref=chooser-v1\" target=\"_blank\" rel=\"license noopener noreferrer\" style=\"display:inline-block;\">Attribution-ShareAlike 4.0 International<img style=\"height:22px!important;margin-left:3px;vertical-align:text-bottom;\" src=\"https://mirrors.creativecommons.org/presskit/icons/cc.svg?ref=chooser-v1\"><img style=\"height:22px!important;margin-left:3px;vertical-align:text-bottom;\" src=\"https://mirrors.creativecommons.org/presskit/icons/by.svg?ref=chooser-v1\"><img style=\"height:22px!important;margin-left:3px;vertical-align:text-bottom;\" src=\"https://mirrors.creativecommons.org/presskit/icons/sa.svg?ref=chooser-v1\"></a></p> "
   ]
  },
  {
   "cell_type": "markdown",
   "id": "631103ec-189f-42f3-add4-1a13d9912bce",
   "metadata": {},
   "source": [
    "## Importamos bibliotecas"
   ]
  },
  {
   "cell_type": "code",
   "execution_count": 1,
   "id": "8e0dca5a-e378-426c-b756-cb6df49d35c4",
   "metadata": {
    "tags": []
   },
   "outputs": [],
   "source": [
    "import numpy as np\n",
    "import matplotlib.pyplot as plt\n",
    "import sympy as sy\n",
    "import macti.vis as mvis"
   ]
  },
  {
   "cell_type": "markdown",
   "id": "a17e3ddd-de3f-4d7d-83cb-8cb4972236a8",
   "metadata": {},
   "source": [
    "## Números\n",
    "\n",
    "<div class=\"alert alert-success\">\n",
    "\n",
    "## **Ejercicio 1.**\n",
    "\n",
    "<font color=\"Black\">Calcula lo siguiente:\n",
    "\n",
    "* $error = |3.4 - 8.5|$\n",
    "* Parte entera de $i = \\dfrac{365}{12}$\n",
    "* $c1 = (2 + 3i)$, $c2 = (3.4 - 2i)$, $c = c1 * c2$\n",
    "* ¿Son iguales $c1$ y $c2$?\n",
    "</font>\n",
    "\n",
    "</div>"
   ]
  },
  {
   "cell_type": "code",
   "execution_count": 2,
   "id": "0f8f19f5-19f9-42d6-b1ef-fa2bef8c0f3a",
   "metadata": {},
   "outputs": [
    {
     "name": "stdout",
     "output_type": "stream",
     "text": [
      "5.1\n",
      "30\n",
      "(12.8+6.199999999999999j)\n",
      "False\n"
     ]
    }
   ],
   "source": [
    "# Reales\n",
    "error = np.abs(3.4 - 8.5)\n",
    "\n",
    "# Enteros\n",
    "i = 365 // 12\n",
    "\n",
    "# Complejos\n",
    "c1 = 2. + 3j\n",
    "c2 = 3.4 - 2j\n",
    "c = c1 * c2\n",
    "\n",
    "# Comparación\n",
    "iguales = c1 == c2\n",
    "\n",
    "print(error)\n",
    "print(i)\n",
    "print(c)\n",
    "print(iguales)"
   ]
  },
  {
   "cell_type": "markdown",
   "id": "40a7068c-e3be-487b-aa00-6bf1861e8d6c",
   "metadata": {},
   "source": [
    "## Arreglos numéricos\n",
    "<div class=\"alert alert-success\">\n",
    "\n",
    "## **Ejercicio 2.**\n",
    "\n",
    "<font color=\"Black\">Escribe un código para calcular la función $f(t) = \\sin(t)$ para $t\\in [-2\\pi, 2\\pi]$, usando funciones de la biblioteca `numpy` y grafica la función $f(t)$ para un conjunto de 45 puntos.\n",
    "</font>\n",
    "\n",
    "</div>"
   ]
  },
  {
   "cell_type": "code",
   "execution_count": 3,
   "id": "7a149ddb-26bb-4461-a2b6-b8e58c7d8417",
   "metadata": {
    "tags": []
   },
   "outputs": [
    {
     "name": "stdout",
     "output_type": "stream",
     "text": [
      "[-6.28318531 -5.99758598 -5.71198664 -5.42638731 -5.14078798 -4.85518865\n",
      " -4.56958931 -4.28398998 -3.99839065 -3.71279132 -3.42719199 -3.14159265\n",
      " -2.85599332 -2.57039399 -2.28479466 -1.99919533 -1.71359599 -1.42799666\n",
      " -1.14239733 -0.856798   -0.57119866 -0.28559933  0.          0.28559933\n",
      "  0.57119866  0.856798    1.14239733  1.42799666  1.71359599  1.99919533\n",
      "  2.28479466  2.57039399  2.85599332  3.14159265  3.42719199  3.71279132\n",
      "  3.99839065  4.28398998  4.56958931  4.85518865  5.14078798  5.42638731\n",
      "  5.71198664  5.99758598  6.28318531]\n",
      "[ 2.44929360e-16  2.81732557e-01  5.40640817e-01  7.55749574e-01\n",
      "  9.09631995e-01  9.89821442e-01  9.89821442e-01  9.09631995e-01\n",
      "  7.55749574e-01  5.40640817e-01  2.81732557e-01 -1.22464680e-16\n",
      " -2.81732557e-01 -5.40640817e-01 -7.55749574e-01 -9.09631995e-01\n",
      " -9.89821442e-01 -9.89821442e-01 -9.09631995e-01 -7.55749574e-01\n",
      " -5.40640817e-01 -2.81732557e-01  0.00000000e+00  2.81732557e-01\n",
      "  5.40640817e-01  7.55749574e-01  9.09631995e-01  9.89821442e-01\n",
      "  9.89821442e-01  9.09631995e-01  7.55749574e-01  5.40640817e-01\n",
      "  2.81732557e-01  1.22464680e-16 -2.81732557e-01 -5.40640817e-01\n",
      " -7.55749574e-01 -9.09631995e-01 -9.89821442e-01 -9.89821442e-01\n",
      " -9.09631995e-01 -7.55749574e-01 -5.40640817e-01 -2.81732557e-01\n",
      " -2.44929360e-16]\n"
     ]
    }
   ],
   "source": [
    "t = np.linspace(-2*np.pi, 2*np.pi, 45)\n",
    "f = np.sin(t)\n",
    "\n",
    "print(t)\n",
    "print(f)"
   ]
  },
  {
   "cell_type": "markdown",
   "id": "07528a7d-9390-4510-ba88-6504ee171a48",
   "metadata": {},
   "source": [
    "Graficamos la función $f(t)$"
   ]
  },
  {
   "cell_type": "code",
   "execution_count": 4,
   "id": "2162bbd6-9564-41dd-b084-97e3ca7b6ea0",
   "metadata": {
    "tags": []
   },
   "outputs": [
    {
     "data": {
      "image/png": "[encoded data removed]",
      "text/plain": [
       "<Figure size 480x240 with 1 Axes>"
      ]
     },
     "metadata": {},
     "output_type": "display_data"
    }
   ],
   "source": [
    "v = mvis.Plotter(1,1,fig_par = dict(figsize = (6,3)))\n",
    "\n",
    "# Graficamos la función f(t)\n",
    "v.plot(1,t,f)\n",
    "\n",
    "# Definimos el sistema de coordenadas\n",
    "v.set_coordsys(1, xlabel='$t$', ylabel='$f(t)$', \n",
    "               xlabelsize=10, ylabelsize=10)\n",
    "\n",
    "# Obtenemos los ticks y los ponemos en términos de pi\n",
    "ax = v.axes(1)\n",
    "xticks = ax.get_xticks()\n",
    "yticks = ax.get_yticks()\n",
    "v.set_ticks(ax, xticks, yticks, PI=True)\n",
    "\n",
    "# Dibujamos la grid\n",
    "plt.grid()\n",
    "plt.show()"
   ]
  },
  {
   "cell_type": "markdown",
   "id": "6ed05ee4-f85c-43d3-ad63-98c0c4bd511b",
   "metadata": {},
   "source": [
    "## Arreglos no numéricos\n",
    "<div class=\"alert alert-success\">\n",
    "\n",
    "## **Ejercicio 3.**\n",
    "\n",
    "<font color=\"Black\"> Construye los siguientes arreglos:\n",
    "* `gabo = ['Gabriel', 'García', 'Márquez']`\n",
    "* `brit = ('Bridget', 'Bate', 'Tichenor')`\n",
    "* `empr = {'Apple':609, 'Broadcom':575, 'TSMC':456, 'Microsoft':329, 'Alphabet':315}`\n",
    "* `surr = np.array(['Maria', 'Salomea', 'Skłodowska-Curie'])`\n",
    "</font>\n",
    "\n",
    "</div>\n"
   ]
  },
  {
   "cell_type": "code",
   "execution_count": 5,
   "id": "fd5be8bb-7030-456e-874c-ac0657f94cc9",
   "metadata": {},
   "outputs": [
    {
     "name": "stdout",
     "output_type": "stream",
     "text": [
      "['Gabriel', 'García', 'Márquez']\n",
      "('Bridget', 'Bate', 'Tichenor')\n",
      "{'Apple': 609, 'Broadcom': 575, 'TSMC': 456, 'Microsoft': 329, 'Alphabet': 315}\n",
      "['Maria' 'Salomea' 'Skłodowska-Curie']\n"
     ]
    }
   ],
   "source": [
    "gabo = ['Gabriel', 'García', 'Márquez']\n",
    "brit = ('Bridget', 'Bate', 'Tichenor')\n",
    "empr = {'Apple':609, 'Broadcom':575, 'TSMC':456, 'Microsoft':329, 'Alphabet':315}\n",
    "surr = np.array(['Maria', 'Salomea', 'Skłodowska-Curie'])\n",
    "\n",
    "print(gabo)\n",
    "print(brit)\n",
    "print(empr)\n",
    "print(surr)"
   ]
  },
  {
   "cell_type": "markdown",
   "id": "d2ea69d8-7284-4e18-bb86-79c1230448ad",
   "metadata": {},
   "source": [
    "## Cálculo simbólico\n",
    "<div class=\"alert alert-success\">\n",
    "\n",
    "## **Ejercicio 4.**\n",
    "\n",
    "<font color=\"Black\">Calcula la derivada de la función $f(x) = x^2 \\sin(x)$. Escriba su respuesta en formato `sympy`.\n",
    "</font>\n",
    "\n",
    "</div>"
   ]
  },
  {
   "cell_type": "code",
   "execution_count": 6,
   "id": "836f0df5-6053-4423-b437-d2bce38952a4",
   "metadata": {
    "tags": []
   },
   "outputs": [
    {
     "data": {
      "text/latex": [
       "$\\displaystyle x^{2} \\cos{\\left(x \\right)} + 2 x \\sin{\\left(x \\right)}$"
      ],
      "text/plain": [
       "x**2*cos(x) + 2*x*sin(x)"
      ]
     },
     "metadata": {},
     "output_type": "display_data"
    }
   ],
   "source": [
    "x = sy.Symbol('x')\n",
    "derivada = 2*x * sy.sin(x) + x*x * sy.cos(x)\n",
    "display(derivada)"
   ]
  },
  {
   "cell_type": "markdown",
   "id": "039a74bb-a5e6-4e93-9fdf-fa08f3c0a0de",
   "metadata": {},
   "source": [
    "<div class=\"alert alert-success\">\n",
    "\n",
    "## **Ejercicio 3.**\n",
    "\n",
    "<font color=\"Black\">¿Qué fórmula representa la segunda Ley de Newton?.\n",
    "\n",
    "A. <font color=\"DarkBlue\">$F = m a$.</font> <br>\n",
    "B. <font color=\"DarkBlue\">$E = m c^2$.</font> <br>\n",
    "C. <font color=\"DarkBlue\">$A = \\pi * r^2$.</font> <br>\n",
    "\n",
    "Escribe tu respuesta en: `respuesta = ¿?`\n",
    "</font>\n",
    "\n",
    "</div>"
   ]
  },
  {
   "cell_type": "code",
   "execution_count": 7,
   "id": "24b04198-531f-493e-84be-03c8e13aee51",
   "metadata": {
    "tags": []
   },
   "outputs": [
    {
     "name": "stdout",
     "output_type": "stream",
     "text": [
      "A\n"
     ]
    }
   ],
   "source": [
    "respuesta = 'A'\n",
    "print(respuesta)"
   ]
  },
  {
   "cell_type": "code",
   "execution_count": null,
   "id": "a3389258-d73a-4fa0-b05b-356d0eba8caa",
   "metadata": {},
   "outputs": [],
   "source": []
  }
 ],
 "metadata": {
  "kernelspec": {
   "display_name": "Python 3 (ipykernel)",
   "language": "python",
   "name": "python3"
  },
  "language_info": {
   "codemirror_mode": {
    "name": "ipython",
    "version": 3
   },
   "file_extension": ".py",
   "mimetype": "text/x-python",
   "name": "python",
   "nbconvert_exporter": "python",
   "pygments_lexer": "ipython3",
   "version": "3.12.3"
  }
 },
 "nbformat": 4,
 "nbformat_minor": 5
}
